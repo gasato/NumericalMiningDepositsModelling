{
 "cells": [
  {
   "cell_type": "markdown",
   "metadata": {},
   "source": [
    "# Estimation of Undiscovered Deposits in Quantitative Mineral Resource Assessments\n",
    "\n",
    "## Objetivos\n",
    "\n",
    "El objetivo de esta aplicación est tener una descripción estadística y exploratoria completa de los modelos numéricos de yacimiento desarrollados por el USGS."
   ]
  },
  {
   "cell_type": "markdown",
   "metadata": {},
   "source": [
    "### Grade and tonnage model.\n",
    "Ideally, the data should be the estimated premining tonnages and grades."
   ]
  },
  {
   "cell_type": "code",
   "execution_count": 1,
   "metadata": {},
   "outputs": [
    {
     "ename": "ModuleNotFoundError",
     "evalue": "No module named 'termcolor'",
     "output_type": "error",
     "traceback": [
      "\u001b[0;31m---------------------------------------------------------------------------\u001b[0m",
      "\u001b[0;31mModuleNotFoundError\u001b[0m                       Traceback (most recent call last)",
      "\u001b[0;32m/tmp/ipykernel_4579/1458737761.py\u001b[0m in \u001b[0;36m<module>\u001b[0;34m\u001b[0m\n\u001b[1;32m     20\u001b[0m \u001b[0;34m\u001b[0m\u001b[0m\n\u001b[1;32m     21\u001b[0m \u001b[0;31m#\u001b[0m\u001b[0;34m\u001b[0m\u001b[0;34m\u001b[0m\u001b[0m\n\u001b[0;32m---> 22\u001b[0;31m \u001b[0;32mfrom\u001b[0m \u001b[0mtermcolor\u001b[0m \u001b[0;32mimport\u001b[0m \u001b[0mcolored\u001b[0m\u001b[0;34m,\u001b[0m \u001b[0mcprint\u001b[0m\u001b[0;34m\u001b[0m\u001b[0;34m\u001b[0m\u001b[0m\n\u001b[0m\u001b[1;32m     23\u001b[0m \u001b[0;34m\u001b[0m\u001b[0m\n\u001b[1;32m     24\u001b[0m \u001b[0mplt\u001b[0m\u001b[0;34m.\u001b[0m\u001b[0mstyle\u001b[0m\u001b[0;34m.\u001b[0m\u001b[0muse\u001b[0m\u001b[0;34m(\u001b[0m\u001b[0;34m'seaborn'\u001b[0m\u001b[0;34m)\u001b[0m\u001b[0;34m\u001b[0m\u001b[0;34m\u001b[0m\u001b[0m\n",
      "\u001b[0;31mModuleNotFoundError\u001b[0m: No module named 'termcolor'"
     ]
    }
   ],
   "source": [
    "## Librerias\n",
    "\n",
    "import pandas as pd\n",
    "import numpy as np\n",
    "from numpy import random\n",
    "from math import log\n",
    "\n",
    "# Visualizations\n",
    "import matplotlib.pyplot as plt\n",
    "from matplotlib.patches import Ellipse\n",
    "import matplotlib.transforms as transforms\n",
    "\n",
    "#Distribucion Normal\n",
    "from scipy.stats import norm, kstest\n",
    "from scipy import stats\n",
    "\n",
    "#Test de normalidad\n",
    "from statsmodels.graphics.gofplots import qqplot\n",
    "from scipy.stats import shapiro, pearsonr\n",
    "\n",
    "#\n",
    "from termcolor import colored, cprint\n",
    "\n",
    "plt.style.use('seaborn')"
   ]
  },
  {
   "cell_type": "markdown",
   "metadata": {},
   "source": [
    "## Measure Units Conversions\n",
    "\n",
    "1 troy ounce equals 31.103481 grams per ton, which equals 34.2857 grams per tonne. As 1 gram equals 0.0321492 troy ounces, the conversion factor is calculated as: 0.0321492 / 34.2857 x 31.103481 = 0.0291652 (rounded 0.029).\n",
    "\n",
    "\n",
    "\n",
    "Although mineral values are often expressed in tonne, sometimes they are expressed by ton as well. As 1 ton equals 907.18474 kilograms and 1 tonne equals 1,000 kilograms, just remember the difference between tonne and ton is approximately 10% (mnemonic: less letters, less outcome).\n",
    "\n",
    "Converting to SI units, 1 oz/ton equals 31.10 g (1 oz troy) per 0.9072 tonne (1 short ton), which multiplies out as 34.28 g/t.\n",
    "\n",
    "\n",
    "### How to Convert Grades\n",
    " \n",
    "\n",
    " Percent grade |\tGrams per ton | ppm | \tppb \n",
    " --- | --- | --- | --- \n",
    " 1.00%\t= |\t10,000gpt\t= |\t10,000ppm\t= |\t10,000,000ppb \n",
    "0.1%\t= |\t1 ,000gpt\t= |\t1,000ppm\t= |\t1,000,000ppb\n",
    "0.01%\t= |\t100gpt\t= |\t100ppm\t= |\t100,000ppb\n",
    "0.001%\t= |\t10gpt\t= |\t10ppm\t= |\t10,000ppb\n",
    "0.000,1%\t= |\t1gpt\t= |\t1ppm\t= |\t1,000ppb\n",
    "0.000,01%\t= |\t0.1gpt\t= |\t0.1ppm\t= |\t100ppb\n",
    " \n",
    "Abbreviation\tUnit\tEquivalents\n",
    "\n",
    "oz = 31.103 g\n",
    "\n",
    "(Troy) ounce (also 'ozt')\n",
    "\n",
    "> A common ounce is known as an avoir dupois ounce, and is 28.34g. Troy ounces are only used for precious metals, gems and gunpowder, but are 10% larger,  1 Troy oz is 31.1034768 g, and is either referred to as 'oz' or 'ozt'. Since all gold ounces are troy ounces, if 'oz' is used with gold, it refers to the Troy ounce. To make things extra complex, a Troy pound is smaller than a common 'pound', because it only contains 12 troy ounces, not 16 oz, as the avoir dupois 'common' pound does. The troy pound is 373.24 g, while an avoirdupois pound is 453.59g."
   ]
  },
  {
   "cell_type": "code",
   "execution_count": null,
   "metadata": {},
   "outputs": [],
   "source": [
    "#Conversiones entre medidas\n",
    "\n",
    "def troyOunces2gram(ounces):\n",
    "    return onces / 31.103481\n",
    "\n",
    "def gram2troyOunces(grams):\n",
    "    return grams * 31.103481\n",
    "\n",
    "def ouncesTonne2gramTonne(gradeOunces):\n",
    "    return gradeOunces / 0.0291652\n",
    "\n",
    "def gramTonne2ouncesTonne(gradeGrams):\n",
    "    return gradeGrams * 0.0291652\n",
    "\n",
    "def tonne2ton(tnn):\n",
    "    return tnn /  907.18474\n",
    "\n",
    "def ton2tonne(t):\n",
    "    return tn *  907.18474\n",
    "\n",
    "def percent2gramTonne(gradePercent):\n",
    "    return gradePercent * 10000\n",
    "\n",
    "def percent2ouncesTonne(gradePercent):\n",
    "    return gradePercent * 10000 * 0.0291652\n",
    "\n",
    "\n",
    "def TaylorRuleofYacLife(t):\n",
    "    '''\n",
    "    Regla de Taylor para el cálculo de la vida del yacimiento\n",
    "    t = Tonneage\n",
    "    '''\n",
    "    return 0.2 * ( t ** 0.25 )"
   ]
  },
  {
   "cell_type": "code",
   "execution_count": null,
   "metadata": {},
   "outputs": [],
   "source": [
    "def freedman_diaconis(data, returnas=\"width\"):\n",
    "    \"\"\"\n",
    "    Use Freedman Diaconis rule to compute optimal histogram bin width. \n",
    "    ``returnas`` can be one of \"width\" or \"bins\", indicating whether\n",
    "    the bin width or number of bins should be returned respectively. \n",
    "\n",
    "\n",
    "    Parameters\n",
    "    ----------\n",
    "    data: np.ndarray\n",
    "        One-dimensional array.\n",
    "\n",
    "    returnas: {\"width\", \"bins\"}\n",
    "        If \"width\", return the estimated width for each histogram bin. \n",
    "        If \"bins\", return the number of bins suggested by rule.\n",
    "    \"\"\"\n",
    "    data = np.asarray(data, dtype=np.float_)\n",
    "    IQR  = stats.iqr(data, rng=(25, 75), scale=\"raw\", nan_policy=\"omit\")\n",
    "    N    = data.size\n",
    "    bw   = (2 * IQR) / np.power(N, 1/3)\n",
    "\n",
    "    if returnas==\"width\":\n",
    "        result = bw\n",
    "    else:\n",
    "        datmin, datmax = data.min(), data.max()\n",
    "        datrng = datmax - datmin\n",
    "        result = int((datrng / bw) + 1)\n",
    "        \n",
    "    return(result)"
   ]
  },
  {
   "cell_type": "code",
   "execution_count": null,
   "metadata": {},
   "outputs": [],
   "source": [
    "#Clasificador por categorias mayor menor-igual\n",
    "def classBySteps(x, stepLst):\n",
    "    groupNdx  = 0\n",
    "    groupName = ''\n",
    "    for i in range(len(stepLst)-1):\n",
    "        if x > stepLst[i] and x <= stepLst[i+1]:\n",
    "            groupNdx = i\n",
    "            groupName = str(stepLst[i]) + \"-\" + str(stepLst[i+1])\n",
    "        elif i == 0:\n",
    "            groupNdx = i\n",
    "            groupName = str(stepLst[i]) + \"-\" + str(stepLst[i+1])\n",
    "        \n",
    "    \n",
    "    return (groupNdx, groupName)"
   ]
  },
  {
   "cell_type": "code",
   "execution_count": null,
   "metadata": {},
   "outputs": [],
   "source": [
    "def confidence_ellipse(x, y, ax, n_std=3.0, facecolor='none', **kwargs):\n",
    "    \"\"\"\n",
    "    Create a plot of the covariance confidence ellipse of *x* and *y*.\n",
    "\n",
    "    Parameters\n",
    "    ----------\n",
    "    x, y : array-like, shape (n, )\n",
    "        Input data.\n",
    "\n",
    "    ax : matplotlib.axes.Axes\n",
    "        The axes object to draw the ellipse into.\n",
    "\n",
    "    n_std : float\n",
    "        The number of standard deviations to determine the ellipse's radiuses.\n",
    "\n",
    "    **kwargs\n",
    "        Forwarded to `~matplotlib.patches.Ellipse`\n",
    "\n",
    "    Returns\n",
    "    -------\n",
    "    matplotlib.patches.Ellipse\n",
    "    \n",
    "    This function plots the confidence ellipse of the covariance of the given array-like variables x and y.\n",
    "    The ellipse is plotted into the given axes-object ax.\n",
    "    \"\"\"\n",
    "    if x.size != y.size:\n",
    "        raise ValueError(\"x and y must be the same size\")\n",
    "\n",
    "    cov = np.cov(x, y)\n",
    "    pearson = cov[0, 1]/np.sqrt(cov[0, 0] * cov[1, 1])\n",
    "    # Using a special case to obtain the eigenvalues of this\n",
    "    # two-dimensionl dataset.\n",
    "    ell_radius_x = np.sqrt(1 + pearson)\n",
    "    ell_radius_y = np.sqrt(1 - pearson)\n",
    "    ellipse = Ellipse((0, 0), width=ell_radius_x * 2, height=ell_radius_y * 2,\n",
    "                      facecolor=facecolor, **kwargs)\n",
    "\n",
    "    # Calculating the stdandard deviation of x from\n",
    "    # the squareroot of the variance and multiplying\n",
    "    # with the given number of standard deviations.\n",
    "    scale_x = np.sqrt(cov[0, 0]) * n_std\n",
    "    mean_x = np.mean(x)\n",
    "\n",
    "    # calculating the stdandard deviation of y ...\n",
    "    scale_y = np.sqrt(cov[1, 1]) * n_std\n",
    "    mean_y = np.mean(y)\n",
    "\n",
    "    transf = transforms.Affine2D() \\\n",
    "        .rotate_deg(45) \\\n",
    "        .scale(scale_x, scale_y) \\\n",
    "        .translate(mean_x, mean_y)\n",
    "\n",
    "    ellipse.set_transform(transf + ax.transData)\n",
    "    return ax.add_patch(ellipse)"
   ]
  },
  {
   "cell_type": "code",
   "execution_count": 2,
   "metadata": {},
   "outputs": [],
   "source": [
    "def std_ellipse(x, y, ax, n_std=1, facecolor='none', **kwargs):\n",
    "    \"\"\"\n",
    "    Create a plot of the standar desviation ellipse of *x* and *y*.\n",
    "\n",
    "    Parameters\n",
    "    ----------\n",
    "    x, y : array-like, shape (n, )\n",
    "        Input data.\n",
    "\n",
    "    ax : matplotlib.axes.Axes\n",
    "        The axes object to draw the ellipse into.\n",
    "\n",
    "    n_std : float\n",
    "        The number of standard deviations to determine the ellipse's radiuses.\n",
    "\n",
    "    **kwargs\n",
    "        Forwarded to `~matplotlib.patches.Ellipse`\n",
    "\n",
    "    Returns\n",
    "    -------\n",
    "    matplotlib.patches.Ellipse\n",
    "    \n",
    "    \n",
    "    \"\"\"\n",
    "    # two-dimensionl dataset.\n",
    "\n",
    "    \n",
    "    ellipse = Ellipse((np.mean(x), np.mean(y)), width=np.std(x) * 2 , height=np.std(y) * 2,\n",
    "                      facecolor=facecolor, **kwargs)\n",
    "\n",
    "    return ax.add_patch(ellipse)"
   ]
  },
  {
   "cell_type": "markdown",
   "metadata": {},
   "source": [
    "# Modelado Numérico de Depósitos"
   ]
  },
  {
   "cell_type": "code",
   "execution_count": 3,
   "metadata": {},
   "outputs": [],
   "source": [
    "# Ingresar Modelo de Depósito\n",
    "\n",
    "depModelDF = pd.read_csv(\"../data/25b.csv\")\n",
    "\n",
    "# Ingresar Densidad Tabulada de depósitos\n",
    "# 0.00485  depósitos / Km2 modelo 25b\n",
    "\n",
    "depDensity = 0.00485\n"
   ]
  },
  {
   "cell_type": "code",
   "execution_count": 4,
   "metadata": {},
   "outputs": [
    {
     "data": {
      "text/html": [
       "<div>\n",
       "<style scoped>\n",
       "    .dataframe tbody tr th:only-of-type {\n",
       "        vertical-align: middle;\n",
       "    }\n",
       "\n",
       "    .dataframe tbody tr th {\n",
       "        vertical-align: top;\n",
       "    }\n",
       "\n",
       "    .dataframe thead th {\n",
       "        text-align: right;\n",
       "    }\n",
       "</style>\n",
       "<table border=\"1\" class=\"dataframe\">\n",
       "  <thead>\n",
       "    <tr style=\"text-align: right;\">\n",
       "      <th></th>\n",
       "      <th>yacName</th>\n",
       "      <th>Loc</th>\n",
       "      <th>tonn</th>\n",
       "      <th>Au</th>\n",
       "      <th>Ag</th>\n",
       "      <th>Cu</th>\n",
       "      <th>Pb</th>\n",
       "      <th>Zn</th>\n",
       "    </tr>\n",
       "  </thead>\n",
       "  <tbody>\n",
       "    <tr>\n",
       "      <th>0</th>\n",
       "      <td>ANIMAS</td>\n",
       "      <td>USA</td>\n",
       "      <td>8500000.0</td>\n",
       "      <td>0.00034</td>\n",
       "      <td>0.0099</td>\n",
       "      <td>0.45</td>\n",
       "      <td>2.0</td>\n",
       "      <td>300.0</td>\n",
       "    </tr>\n",
       "    <tr>\n",
       "      <th>1</th>\n",
       "      <td>BONANZA</td>\n",
       "      <td>USA</td>\n",
       "      <td>508000.0</td>\n",
       "      <td>0.00010</td>\n",
       "      <td>0.0237</td>\n",
       "      <td>1.20</td>\n",
       "      <td>2.6</td>\n",
       "      <td>230.0</td>\n",
       "    </tr>\n",
       "    <tr>\n",
       "      <th>2</th>\n",
       "      <td>CASAPALCA</td>\n",
       "      <td>PERU</td>\n",
       "      <td>17000000.0</td>\n",
       "      <td>0.00010</td>\n",
       "      <td>0.0161</td>\n",
       "      <td>0.30</td>\n",
       "      <td>1.8</td>\n",
       "      <td>3500.0</td>\n",
       "    </tr>\n",
       "    <tr>\n",
       "      <th>3</th>\n",
       "      <td>CHAVIN</td>\n",
       "      <td>PERU</td>\n",
       "      <td>315000.0</td>\n",
       "      <td>0.00000</td>\n",
       "      <td>0.0125</td>\n",
       "      <td>0.80</td>\n",
       "      <td>8.0</td>\n",
       "      <td>12500.0</td>\n",
       "    </tr>\n",
       "    <tr>\n",
       "      <th>4</th>\n",
       "      <td>COCO MINA</td>\n",
       "      <td>NICA</td>\n",
       "      <td>10300000.0</td>\n",
       "      <td>0.00017</td>\n",
       "      <td>0.0026</td>\n",
       "      <td>0.00</td>\n",
       "      <td>0.0</td>\n",
       "      <td>3400.0</td>\n",
       "    </tr>\n",
       "  </tbody>\n",
       "</table>\n",
       "</div>"
      ],
      "text/plain": [
       "     yacName   Loc        tonn       Au      Ag    Cu   Pb       Zn\n",
       "0     ANIMAS   USA   8500000.0  0.00034  0.0099  0.45  2.0    300.0\n",
       "1    BONANZA   USA    508000.0  0.00010  0.0237  1.20  2.6    230.0\n",
       "2  CASAPALCA  PERU  17000000.0  0.00010  0.0161  0.30  1.8   3500.0\n",
       "3     CHAVIN  PERU    315000.0  0.00000  0.0125  0.80  8.0  12500.0\n",
       "4  COCO MINA  NICA  10300000.0  0.00017  0.0026  0.00  0.0   3400.0"
      ]
     },
     "execution_count": 4,
     "metadata": {},
     "output_type": "execute_result"
    }
   ],
   "source": [
    "depModelDF.head()"
   ]
  },
  {
   "cell_type": "code",
   "execution_count": 5,
   "metadata": {},
   "outputs": [],
   "source": [
    "#Definir la lista de menas a estudiar\n",
    "\n",
    "menasLst   = ['Au', 'Ag', 'Cu', 'Pb']\n",
    "#menasLst   = ['Au','Ag']"
   ]
  },
  {
   "cell_type": "markdown",
   "metadata": {},
   "source": [
    "## Parametros Estadísticos"
   ]
  },
  {
   "cell_type": "code",
   "execution_count": 6,
   "metadata": {},
   "outputs": [
    {
     "name": "stdout",
     "output_type": "stream",
     "text": [
      "Población: 27\n",
      "Min: 24,000.0%, Max: 107,000,000.0%\n",
      "Media sólo como referencia: 8,191,518.5185185187 por si la distribución es log\n"
     ]
    }
   ],
   "source": [
    "columName    = \"tonn\"\n",
    "depModelTonn = depModelDF.loc[depModelDF[columName] > 0 ][columName] #Filtrar datos diferentes de cero\n",
    "depModelPob  = depModelTonn.size\n",
    "depModelMin  = depModelTonn.min()\n",
    "depModelMax  = depModelTonn.max()\n",
    "depModelMean = depModelTonn.mean()\n",
    "\n",
    "\n",
    "print(f\"Población: {depModelPob}\")\n",
    "#print(f\"Min: {depModelMin:,.2f}T, Max: {depModelMax:,.2f}T\")\n",
    "print(f\"Min: {depModelMin:,}%, Max: {depModelMax:,}%\")\n",
    "#print(f\"Media sólo como referencia: {depModelMean:,.2f}T por si la distribución es log\") #Este valor no tiene sentido porque la distribución es log\n",
    "print(f\"Media sólo como referencia: {depModelMean:,.10f} por si la distribución es log\") #Este valor no tiene sentido porque la distribución es log\n"
   ]
  },
  {
   "cell_type": "markdown",
   "metadata": {},
   "source": [
    "### Exploración Valores máximos"
   ]
  },
  {
   "cell_type": "code",
   "execution_count": 7,
   "metadata": {},
   "outputs": [
    {
     "data": {
      "text/plain": [
       "yacName    PACHUCA-R d MONTE\n",
       "Loc                     MEXI\n",
       "tonn             107000000.0\n",
       "Au                   0.00022\n",
       "Ag                    0.0461\n",
       "Cu                      0.04\n",
       "Pb                       0.2\n",
       "Zn                     750.0\n",
       "Name: 18, dtype: object"
      ]
     },
     "execution_count": 7,
     "metadata": {},
     "output_type": "execute_result"
    }
   ],
   "source": [
    "depModelDF.loc[depModelDF['tonn'].idxmax()]\n"
   ]
  },
  {
   "cell_type": "code",
   "execution_count": 8,
   "metadata": {},
   "outputs": [
    {
     "name": "stdout",
     "output_type": "stream",
     "text": [
      "Yacimiento con Mejor ley Au\n",
      "yacName    URUACHIC\n",
      "Loc            MEXI\n",
      "tonn        33000.0\n",
      "Au           0.0032\n",
      "Ag            0.136\n",
      "Cu             0.15\n",
      "Pb              1.6\n",
      "Zn            200.0\n",
      "Name: 25, dtype: object\n",
      "\n",
      "Yacimiento con Mejor ley Ag\n",
      "yacName    URUACHIC\n",
      "Loc            MEXI\n",
      "tonn        33000.0\n",
      "Au           0.0032\n",
      "Ag            0.136\n",
      "Cu             0.15\n",
      "Pb              1.6\n",
      "Zn            200.0\n",
      "Name: 25, dtype: object\n",
      "\n",
      "Yacimiento con Mejor ley Cu\n",
      "yacName         SAI\n",
      "Loc            JAPA\n",
      "tonn       111000.0\n",
      "Au          0.00003\n",
      "Ag           0.0091\n",
      "Cu              2.3\n",
      "Pb              0.0\n",
      "Zn           2200.0\n",
      "Name: 21, dtype: object\n",
      "\n",
      "Yacimiento con Mejor ley Pb\n",
      "yacName      CHAVIN\n",
      "Loc            PERU\n",
      "tonn       315000.0\n",
      "Au              0.0\n",
      "Ag           0.0125\n",
      "Cu              0.8\n",
      "Pb              8.0\n",
      "Zn          12500.0\n",
      "Name: 3, dtype: object\n",
      "\n"
     ]
    }
   ],
   "source": [
    "#Valores máximos de ley\n",
    "for mena in menasLst:\n",
    "    qResult = depModelDF.loc[depModelDF[mena].idxmax()]\n",
    "    print(f'Yacimiento con Mejor ley {mena}')\n",
    "    print(qResult)\n",
    "    print()\n",
    "    "
   ]
  },
  {
   "cell_type": "markdown",
   "metadata": {},
   "source": [
    "### Distribución del Modelo de Depósito (tonelaje)\n",
    "\n",
    "Comprobamos gráficamente de que se trata de una distribución logaritmica"
   ]
  },
  {
   "cell_type": "code",
   "execution_count": 9,
   "metadata": {},
   "outputs": [
    {
     "ename": "NameError",
     "evalue": "name 'freedman_diaconis' is not defined",
     "output_type": "error",
     "traceback": [
      "\u001b[0;31m---------------------------------------------------------------------------\u001b[0m",
      "\u001b[0;31mNameError\u001b[0m                                 Traceback (most recent call last)",
      "\u001b[0;32m/tmp/ipykernel_4579/1928387631.py\u001b[0m in \u001b[0;36m<module>\u001b[0;34m\u001b[0m\n\u001b[0;32m----> 1\u001b[0;31m \u001b[0mn_bins\u001b[0m \u001b[0;34m=\u001b[0m \u001b[0mfreedman_diaconis\u001b[0m\u001b[0;34m(\u001b[0m\u001b[0mdepModelTonn\u001b[0m\u001b[0;34m,\u001b[0m \u001b[0mreturnas\u001b[0m\u001b[0;34m=\u001b[0m\u001b[0;34m'bins'\u001b[0m\u001b[0;34m)\u001b[0m\u001b[0;34m\u001b[0m\u001b[0;34m\u001b[0m\u001b[0m\n\u001b[0m\u001b[1;32m      2\u001b[0m \u001b[0;34m\u001b[0m\u001b[0m\n\u001b[1;32m      3\u001b[0m \u001b[0mfig\u001b[0m\u001b[0;34m,\u001b[0m \u001b[0max\u001b[0m \u001b[0;34m=\u001b[0m \u001b[0mplt\u001b[0m\u001b[0;34m.\u001b[0m\u001b[0msubplots\u001b[0m\u001b[0;34m(\u001b[0m\u001b[0mfigsize\u001b[0m\u001b[0;34m=\u001b[0m\u001b[0;34m(\u001b[0m\u001b[0;36m8\u001b[0m\u001b[0;34m,\u001b[0m\u001b[0;36m4\u001b[0m\u001b[0;34m)\u001b[0m\u001b[0;34m)\u001b[0m\u001b[0;34m\u001b[0m\u001b[0;34m\u001b[0m\u001b[0m\n\u001b[1;32m      4\u001b[0m \u001b[0;34m\u001b[0m\u001b[0m\n\u001b[1;32m      5\u001b[0m \u001b[0;31m# Overlay a reversed cumulative histogram.\u001b[0m\u001b[0;34m\u001b[0m\u001b[0;34m\u001b[0m\u001b[0m\n",
      "\u001b[0;31mNameError\u001b[0m: name 'freedman_diaconis' is not defined"
     ]
    }
   ],
   "source": [
    "n_bins = freedman_diaconis(depModelTonn, returnas='bins')\n",
    "\n",
    "fig, ax = plt.subplots(figsize=(8,4))\n",
    "\n",
    "# Overlay a reversed cumulative histogram.\n",
    "ax.hist(depModelTonn, \n",
    "        bins=n_bins, \n",
    "        density=True, \n",
    "        histtype='stepfilled', \n",
    "        cumulative=0\n",
    "        #label='Low Suphidation Au Qrtz Veins'\n",
    "       )\n",
    "\n",
    "# tidy up the figure\n",
    "ax.grid(True)\n",
    "#ax.legend(loc='right')\n",
    "ax.set_title('Histograma')\n",
    "ax.set_xlabel('Tonelaje')\n",
    "ax.set_ylabel('Proporción de Depósitos')\n",
    "\n",
    "plt.show()"
   ]
  },
  {
   "cell_type": "markdown",
   "metadata": {},
   "source": [
    "## Estadísticos Según la Transformada Logarítmica"
   ]
  },
  {
   "cell_type": "code",
   "execution_count": 10,
   "metadata": {},
   "outputs": [
    {
     "name": "stdout",
     "output_type": "stream",
     "text": [
      "Población: 27\n",
      "Min: 4.38 log(T), Max: 8.03 log(T)\n",
      "Media: 6.15log(T), 1,414,640.95 T\n",
      "Desviación Estándar: 0.94\n",
      "Percentiles 10%: 4.85 log(T) 50%: 6.14 log(T) (mediana) 90%: 7.19 log(T)\n"
     ]
    }
   ],
   "source": [
    "'''\n",
    "Deposit density is number of deposits by 1.000 square km\n",
    "'''\n",
    "depModelTonnLog         = np.log10(depModelTonn)\n",
    "\n",
    "depModelTonnPob         = depModelTonnLog.size\n",
    "depModelTonnLogMin      = depModelTonnLog.min()\n",
    "depModelTonnLogMax      = depModelTonnLog.max()\n",
    "depModelTonnLogMean     = depModelTonnLog.mean()\n",
    "depModelTonnLogMean2dec = 10 ** depModelTonnLogMean\n",
    "depModelTonnLogStd      = depModelTonnLog.std()\n",
    "depModelTonnLog10p      = depModelTonnLog.quantile(.10)\n",
    "depModelTonnLog50p      = depModelTonnLog.quantile(.50)\n",
    "depModelTonnLog90p      = depModelTonnLog.quantile(.90)\n",
    "\n",
    "#Habria que hacer el test de normalidad para aplicar este criterio\n",
    "\n",
    "print(f\"Población: {depModelTonnPob}\")\n",
    "print(f\"Min: {depModelTonnLogMin:.2f} log(T), Max: {depModelTonnLogMax:.2f} log(T)\")\n",
    "print(f\"Media: {depModelTonnLogMean:.2f}log(T), {depModelTonnLogMean2dec:,.2f} T\")\n",
    "print(f\"Desviación Estándar: {depModelTonnLogStd:.2f}\")\n",
    "print(f\"Percentiles 10%: {depModelTonnLog10p:.2f} log(T) 50%: {depModelTonnLog50p:.2f} log(T) (mediana) 90%: {depModelTonnLog90p:.2f} log(T)\")"
   ]
  },
  {
   "cell_type": "markdown",
   "metadata": {},
   "source": [
    "## Comprobación de Normalidad del Modelo Numérico de Depósito"
   ]
  },
  {
   "cell_type": "code",
   "execution_count": 11,
   "metadata": {},
   "outputs": [
    {
     "name": "stderr",
     "output_type": "stream",
     "text": [
      "/home/gabriel/anaconda3/lib/python3.9/site-packages/statsmodels/graphics/gofplots.py:993: UserWarning: marker is redundantly defined by the 'marker' keyword argument and the fmt string \"bo\" (-> marker='o'). The keyword argument will take precedence.\n",
      "  ax.plot(x, y, fmt, **plot_style)\n"
     ]
    },
    {
     "data": {
      "image/png": "[encoded data removed]",
      "text/plain": [
       "<Figure size 432x288 with 1 Axes>"
      ]
     },
     "metadata": {
      "needs_background": "light"
     },
     "output_type": "display_data"
    }
   ],
   "source": [
    "#Comprobación gráfica de normalidad\n",
    "# q-q plot\n",
    "\n",
    "qqplot(depModelTonnLog, line='s')\n",
    "\n",
    "plt.show()"
   ]
  },
  {
   "cell_type": "code",
   "execution_count": 12,
   "metadata": {},
   "outputs": [
    {
     "name": "stdout",
     "output_type": "stream",
     "text": [
      "Estadístico=0.975, p=0.748\n"
     ]
    },
    {
     "ename": "NameError",
     "evalue": "name 'cprint' is not defined",
     "output_type": "error",
     "traceback": [
      "\u001b[0;31m---------------------------------------------------------------------------\u001b[0m",
      "\u001b[0;31mNameError\u001b[0m                                 Traceback (most recent call last)",
      "\u001b[0;32m/tmp/ipykernel_4579/972000712.py\u001b[0m in \u001b[0;36m<module>\u001b[0;34m\u001b[0m\n\u001b[1;32m     17\u001b[0m \u001b[0;34m\u001b[0m\u001b[0m\n\u001b[1;32m     18\u001b[0m \u001b[0;32mif\u001b[0m \u001b[0mp\u001b[0m \u001b[0;34m>\u001b[0m \u001b[0malpha\u001b[0m\u001b[0;34m:\u001b[0m\u001b[0;34m\u001b[0m\u001b[0;34m\u001b[0m\u001b[0m\n\u001b[0;32m---> 19\u001b[0;31m     \u001b[0mcprint\u001b[0m\u001b[0;34m(\u001b[0m\u001b[0;34m'Según Shapiro-Wilks la muestra parece tener distribución Gaussiana (NO se desecha la Hipótesis Nula)'\u001b[0m\u001b[0;34m,\u001b[0m\u001b[0;34m'red'\u001b[0m\u001b[0;34m,\u001b[0m  \u001b[0mattrs\u001b[0m\u001b[0;34m=\u001b[0m\u001b[0;34m[\u001b[0m\u001b[0;34m'bold'\u001b[0m\u001b[0;34m]\u001b[0m\u001b[0;34m)\u001b[0m\u001b[0;34m\u001b[0m\u001b[0;34m\u001b[0m\u001b[0m\n\u001b[0m\u001b[1;32m     20\u001b[0m \u001b[0;32melse\u001b[0m\u001b[0;34m:\u001b[0m\u001b[0;34m\u001b[0m\u001b[0;34m\u001b[0m\u001b[0m\n\u001b[1;32m     21\u001b[0m     \u001b[0mcprint\u001b[0m\u001b[0;34m(\u001b[0m\u001b[0;34m'Según Shapiro-Wilk la muestra NO parece tener distribución Gaussiana (se desecha la Hipótesis Nula)'\u001b[0m\u001b[0;34m,\u001b[0m\u001b[0;34m'red'\u001b[0m\u001b[0;34m,\u001b[0m  \u001b[0mattrs\u001b[0m\u001b[0;34m=\u001b[0m\u001b[0;34m[\u001b[0m\u001b[0;34m'bold'\u001b[0m\u001b[0;34m]\u001b[0m\u001b[0;34m)\u001b[0m\u001b[0;34m\u001b[0m\u001b[0;34m\u001b[0m\u001b[0m\n",
      "\u001b[0;31mNameError\u001b[0m: name 'cprint' is not defined"
     ]
    }
   ],
   "source": [
    "# normality test\n",
    "\n",
    "'''\n",
    "Statistic: A quantity calculated by the test that can be interpreted in the context of the test via comparing \n",
    "it to critical values from the distribution of the test statistic.\n",
    "p-value: Used to interpret the test, in this case whether the sample was drawn from a Gaussian distribution.\n",
    "\n",
    "'''\n",
    "\n",
    "stat, p = shapiro(depModelTonnLog)\n",
    "\n",
    "print('Estadístico=%.3f, p=%.3f' % (stat, p))\n",
    "\n",
    "# interpret\n",
    "\n",
    "alpha = 0.05\n",
    "\n",
    "if p > alpha:\n",
    "    cprint('Según Shapiro-Wilks la muestra parece tener distribución Gaussiana (NO se desecha la Hipótesis Nula)','red',  attrs=['bold'])\n",
    "else:\n",
    "    cprint('Según Shapiro-Wilk la muestra NO parece tener distribución Gaussiana (se desecha la Hipótesis Nula)','red',  attrs=['bold'])"
   ]
  },
  {
   "cell_type": "markdown",
   "metadata": {},
   "source": [
    "If the p value is less than the chosen alpha level, then the null hypothesis is rejected and there is evidence that the data tested are not normally distributed. On the other hand, if the p value is greater than the chosen alpha level, then the null hypothesis that the data came from a normally distributed population can not be rejected (e.g., for an alpha level of .05, a data set with a p value of less than .05 rejects the null hypothesis that the data are from a normally distributed population).\n",
    "\n",
    "Like most statistical significance tests, if the sample size is sufficiently large this test may detect even trivial departures from the null hypothesis (i.e., although there may be some statistically significant effect, it may be too small to be of any practical significance); thus, additional investigation of the effect size is typically advisable, e.g., a Q–Q plot in this case. (from Wikipedia)\n",
    "\n",
    "p-values are very dependent on sample sizes. With a large sample, almost anything desviation can be significant."
   ]
  },
  {
   "cell_type": "code",
   "execution_count": 13,
   "metadata": {},
   "outputs": [
    {
     "data": {
      "image/png": "[encoded data removed]",
      "text/plain": [
       "<Figure size 1152x576 with 1 Axes>"
      ]
     },
     "metadata": {
      "needs_background": "light"
     },
     "output_type": "display_data"
    }
   ],
   "source": [
    "#n_bins = freedman_diaconis(depModelTonnLog, returnas='bins')\n",
    "\n",
    "\n",
    "x_min = depModelTonnLogMean - depModelTonnLogStd * 3\n",
    "x_max = depModelTonnLogMean + depModelTonnLogStd * 3\n",
    "\n",
    "x = np.linspace(x_min, x_max, 100)\n",
    "\n",
    "depNormPdf = norm.pdf(x, depModelTonnLogMean, depModelTonnLogStd)\n",
    "\n",
    "\n",
    "fig, ax = plt.subplots(figsize=(16,8))\n",
    "\n",
    "ax.set_xlim((x_min, x_max))\n",
    "\n",
    "# Overlay a reversed cumulative histogram.\n",
    "\n",
    "ax.hist(depModelTonnLog, \n",
    "        #bins=n_bins,\n",
    "        bins=[3,4,5,6,7,8,9],\n",
    "        density=True, \n",
    "        histtype='stepfilled', \n",
    "        cumulative=0,\n",
    "        label='Función de Probabilidad de Masa (PMF)'\n",
    "       )\n",
    "\n",
    "\n",
    "ax.plot(x, depNormPdf, label='Función de Probabilidad de Densidad (PDF)', color='black', linestyle='dashed')\n",
    "\n",
    "# tidy up the figure\n",
    "ax.grid(True)\n",
    "ax.legend(loc='right')\n",
    "ax.set_title('Histograma Tonelaje vs Densidad de Probabilidad de Depósitos')\n",
    "ax.set_xlabel('Tonelaje')\n",
    "ax.set_ylabel('Densidad de Probabilidad de Depósitos')\n",
    "\n",
    "currentXticks = [3,4,5,6,7,8,9]\n",
    "\n",
    "xTickLabelLst = ['1.000T', '10.000T', '100.000T', '1MT', '10MT', '100MT', '1.000MT']\n",
    "\n",
    "plt.xticks(currentXticks, xTickLabelLst)\n",
    "    \n",
    "\n",
    "plt.show()"
   ]
  },
  {
   "cell_type": "code",
   "execution_count": 14,
   "metadata": {},
   "outputs": [
    {
     "name": "stdout",
     "output_type": "stream",
     "text": [
      "El 80% de los tonelages se encuentran entre 71,349 y  15,388,527 T\n",
      "El valor medio será de 1,414,640.95 T\n"
     ]
    }
   ],
   "source": [
    "#Calculo del rango de tonelage entre log percentil 10 y 90\n",
    "depModelTonnLog10p2Dec = 10 ** depModelTonnLog10p\n",
    "depModelTonnLog90p2Dec = 10 ** depModelTonnLog90p\n",
    "\n",
    "print(f\"El 80% de los tonelages se encuentran entre {depModelTonnLog10p2Dec:,.0f} y  {depModelTonnLog90p2Dec:,.0f} T\")\n",
    "print(f'El valor medio será de {depModelTonnLogMean2dec:,.2f} T')"
   ]
  },
  {
   "cell_type": "code",
   "execution_count": 15,
   "metadata": {},
   "outputs": [
    {
     "data": {
      "text/plain": [
       "0"
      ]
     },
     "execution_count": 15,
     "metadata": {},
     "output_type": "execute_result"
    }
   ],
   "source": [
    "depModelTonnPob\n",
    "\n",
    "minVal, maxVal = (9,10)\n",
    "\n",
    "a = np.extract(depModelTonnLog < maxVal, depModelTonnLog)\n",
    "b = np.extract(a > minVal,a)\n",
    "len(b)\n"
   ]
  },
  {
   "cell_type": "markdown",
   "metadata": {},
   "source": [
    "**Habria que hacer el análisis de Normalidad a las Leyes**"
   ]
  },
  {
   "cell_type": "code",
   "execution_count": 16,
   "metadata": {},
   "outputs": [
    {
     "data": {
      "text/plain": [
       "0     6.929419\n",
       "1     5.705864\n",
       "2     7.230449\n",
       "3     5.498311\n",
       "4     7.012837\n",
       "5     6.725095\n",
       "6     6.591065\n",
       "7     6.089905\n",
       "8     6.857332\n",
       "9     7.158362\n",
       "10    5.000000\n",
       "11    5.908485\n",
       "12    4.380211\n",
       "13    6.139879\n",
       "14    4.633468\n",
       "15    5.677607\n",
       "16    6.283301\n",
       "17    5.884229\n",
       "18    8.029384\n",
       "19    5.267172\n",
       "20    6.643453\n",
       "21    5.045323\n",
       "22    6.510545\n",
       "23    7.365488\n",
       "24    6.877947\n",
       "25    4.518514\n",
       "26    6.103804\n",
       "Name: tonn, dtype: float64"
      ]
     },
     "execution_count": 16,
     "metadata": {},
     "output_type": "execute_result"
    }
   ],
   "source": [
    "depModelTonnLog"
   ]
  },
  {
   "cell_type": "markdown",
   "metadata": {},
   "source": [
    "## Estadísticos para  Menas (Au, Ag)"
   ]
  },
  {
   "cell_type": "code",
   "execution_count": 17,
   "metadata": {},
   "outputs": [
    {
     "name": "stdout",
     "output_type": "stream",
     "text": [
      "Población: 27 Total\n",
      "\n",
      "Estadísticos del Log Au\n",
      "\n",
      "Población de Au: 23\n",
      "Min: -4.698970004336019\n",
      "Max: -2.494850021680094\n",
      "Mean: -3.6734526860559655\n",
      "Std: 0.5744718114874365\n",
      "Percentiles 10%: -4.52288 50%: -3.65758 (mediana) 90%: -2.97999\n",
      "\n",
      "\n",
      "Estadísticos del Log Ag\n",
      "\n",
      "Población de Ag: 27\n",
      "Min: -2.958607314841775\n",
      "Max: -0.8664610916297825\n",
      "Mean: -1.901036973399897\n",
      "Std: 0.46776846661629073\n",
      "Percentiles 10%: -2.38665 50%: -1.91721 (mediana) 90%: -1.26030\n",
      "\n",
      "\n",
      "Estadísticos del Log Cu\n",
      "\n",
      "Población de Cu: 19\n",
      "Min: -1.3979400086720375\n",
      "Max: 0.36172783601759284\n",
      "Mean: -0.5253585248193842\n",
      "Std: 0.47142343839717943\n",
      "Percentiles 10%: -1.00000 50%: -0.60206 (mediana) 90%: 0.12224\n",
      "\n",
      "\n",
      "Estadísticos del Log Pb\n",
      "\n",
      "Población de Pb: 25\n",
      "Min: -0.6989700043360187\n",
      "Max: 0.9030899869919435\n",
      "Mean: 0.36134882313999817\n",
      "Std: 0.34065259059905245\n",
      "Percentiles 10%: 0.01656 50%: 0.36173 (mediana) 90%: 0.81832\n",
      "\n",
      "\n"
     ]
    }
   ],
   "source": [
    "#Habria que hacer el test de normalidad para aplicar este criterio\n",
    "\n",
    "print(f\"Población: {depModelTonnPob} Total\")\n",
    "print()\n",
    "\n",
    "varDict = {}\n",
    "\n",
    "for mena in menasLst:\n",
    "    varDict[\"Log\" + mena]          = np.log10(depModelDF.loc[depModelDF[mena] > 0 ][mena])\n",
    "    varDict[\"LogTonn\" + mena]      = np.log10(depModelDF.loc[depModelDF[mena] > 0 ]['tonn'])\n",
    "    \n",
    "    varDict[mena + \"Pob \"]         = varDict[\"Log\" + mena].size\n",
    "\n",
    "    varDict[\"Log\" + mena + \"Min\"]  = varDict[\"Log\" + mena].min()\n",
    "    varDict[\"Log\" + mena + \"Max\"]  = varDict[\"Log\" + mena].max()\n",
    "    varDict[\"Log\" + mena + \"Mean\"] = np.mean(varDict[\"Log\" + mena])\n",
    "    varDict[\"Log\" + mena + \"Std\"]  = np.std(varDict[\"Log\" + mena])\n",
    "    \n",
    "   \n",
    "    varDict[\"Log\" + mena + \"10p\"]  = np.percentile(varDict[\"Log\" + mena], 10)\n",
    "    varDict[\"Log\" + mena + \"50p\"]  = np.percentile(varDict[\"Log\" + mena], 50)\n",
    "    varDict[\"Log\" + mena + \"90p\"]  = np.percentile(varDict[\"Log\" + mena], 90)\n",
    "    p10 = varDict[\"Log\" + mena + \"10p\"]\n",
    "    p50 = varDict[\"Log\" + mena + \"50p\"]\n",
    "    p90 = varDict[\"Log\" + mena + \"90p\"]\n",
    "   \n",
    "    print(f\"Estadísticos del Log {mena}\")\n",
    "    print()\n",
    "    print(f\"Población de {mena}: %s\" % (varDict[mena + \"Pob \"]))\n",
    "    print(\"Min: %s\" % (varDict[\"Log\" + mena + \"Min\"]))\n",
    "    print(\"Max: %s\" % (varDict[\"Log\" + mena + \"Max\"]))\n",
    "    print(\"Mean: %s\" % (varDict[\"Log\" + mena + \"Mean\"]))\n",
    "    print(\"Std: %s\" % (varDict[\"Log\" + mena + \"Std\"]))\n",
    "    print(f\"Percentiles 10%: {p10:.5f} 50%: {p50:.5f} (mediana) 90%: {p90:.5f}\")\n",
    "    print()\n",
    "    print()\n",
    "    \n",
    "    \n",
    "    #para pasar de % a gramos por tonelada hay que multiplicar por 10.000"
   ]
  },
  {
   "cell_type": "markdown",
   "metadata": {},
   "source": [
    "## Correlación entre Tonelaje y Ley\n",
    "Habría que poner el cuadro en una escala correcta para comparación"
   ]
  },
  {
   "cell_type": "markdown",
   "metadata": {},
   "source": [
    "### Correlación"
   ]
  },
  {
   "cell_type": "code",
   "execution_count": 18,
   "metadata": {},
   "outputs": [
    {
     "name": "stdout",
     "output_type": "stream",
     "text": [
      "Correlación Tonelaje - Au\n",
      "El coficiente de correlación de Pearson es de: -0.37\n",
      "El valor calculado de p es de : 0.0794\n",
      "\n"
     ]
    },
    {
     "ename": "NameError",
     "evalue": "name 'cprint' is not defined",
     "output_type": "error",
     "traceback": [
      "\u001b[0;31m---------------------------------------------------------------------------\u001b[0m",
      "\u001b[0;31mNameError\u001b[0m                                 Traceback (most recent call last)",
      "\u001b[0;32m/tmp/ipykernel_4579/2198780330.py\u001b[0m in \u001b[0;36m<module>\u001b[0;34m\u001b[0m\n\u001b[1;32m     20\u001b[0m         \u001b[0mcprint\u001b[0m\u001b[0;34m(\u001b[0m\u001b[0;34m\"La relación tiene pendiente positiva\"\u001b[0m\u001b[0;34m,\u001b[0m\u001b[0;34m'red'\u001b[0m\u001b[0;34m,\u001b[0m  \u001b[0mattrs\u001b[0m\u001b[0;34m=\u001b[0m\u001b[0;34m[\u001b[0m\u001b[0;34m'bold'\u001b[0m\u001b[0;34m]\u001b[0m\u001b[0;34m)\u001b[0m\u001b[0;34m\u001b[0m\u001b[0;34m\u001b[0m\u001b[0m\n\u001b[1;32m     21\u001b[0m     \u001b[0;32melse\u001b[0m\u001b[0;34m:\u001b[0m\u001b[0;34m\u001b[0m\u001b[0;34m\u001b[0m\u001b[0m\n\u001b[0;32m---> 22\u001b[0;31m         \u001b[0mcprint\u001b[0m\u001b[0;34m(\u001b[0m\u001b[0;34m\"La relación tiene pendiente negativa\"\u001b[0m\u001b[0;34m,\u001b[0m\u001b[0;34m'red'\u001b[0m\u001b[0;34m,\u001b[0m  \u001b[0mattrs\u001b[0m\u001b[0;34m=\u001b[0m\u001b[0;34m[\u001b[0m\u001b[0;34m'bold'\u001b[0m\u001b[0;34m]\u001b[0m\u001b[0;34m)\u001b[0m\u001b[0;34m\u001b[0m\u001b[0;34m\u001b[0m\u001b[0m\n\u001b[0m\u001b[1;32m     23\u001b[0m \u001b[0;34m\u001b[0m\u001b[0m\n\u001b[1;32m     24\u001b[0m \u001b[0;34m\u001b[0m\u001b[0m\n",
      "\u001b[0;31mNameError\u001b[0m: name 'cprint' is not defined"
     ]
    }
   ],
   "source": [
    "varCorrDict = {}\n",
    "\n",
    "for mena in menasLst:\n",
    "    varCorrDict[\"covarianceTonn\" + mena] = np.cov(varDict[\"LogTonn\" + mena],varDict[\"Log\" + mena]) #Calculo de la MATRIZ de covarianza\n",
    "\n",
    "    '''\n",
    "     Coeficiente de Correlación de Pearson\n",
    "     It is the normalization of the covariance between the two variables to give an interpretable score.\n",
    "     Pearson's correlation coefficient = covariance(X, Y) / (stdv(X) * stdv(Y))\n",
    "    '''\n",
    "    corr, p  = pearsonr(varDict[\"LogTonn\" + mena],varDict[\"Log\" + mena])\n",
    "\n",
    "    print(f\"Correlación Tonelaje - {mena}\")\n",
    "    print(f\"El coficiente de correlación de Pearson es de: {corr:.2f}\")\n",
    "    print(f\"El valor calculado de p es de : {p:.4f}\")\n",
    "\n",
    "    print()\n",
    "\n",
    "    if corr > 0:\n",
    "        cprint(\"La relación tiene pendiente positiva\",'red',  attrs=['bold'])\n",
    "    else:\n",
    "        cprint(\"La relación tiene pendiente negativa\",'red',  attrs=['bold'])\n",
    "    \n",
    "    \n",
    "    # Esto habría que definirlo en términos de clasificación fuzzy\n",
    "\n",
    "    if abs(corr) > 0.5 :\n",
    "        cprint(\"El índice de correlación parece indicar que la misma es fuerte.\",'red',  attrs=['bold'])\n",
    "    elif abs(corr) <= 0.5 and abs(corr) > 0:\n",
    "        cprint(\"El índice de correlación parece indicar que la misma es débil.\",'red',  attrs=['bold'])\n",
    "    elif corr == 0:\n",
    "        cprint(\"El índice define que no hay correlación.\",'red',  attrs=['bold'])\n",
    "        \n",
    "    if p > 0.05 :\n",
    "        cprint(\"Para un nivel de significancia igual a 0.05, la correlación NO es estadísticamente significativa.\",'red',  attrs=['bold'])\n",
    "    elif p <= 0.05 :\n",
    "        cprint(\"Para un nivel de significancia igual a 0.05, la correlación es estadísticamente significativa.\",'red',  attrs=['bold'])\n",
    "   \n",
    "    print()\n",
    "    print()"
   ]
  },
  {
   "cell_type": "code",
   "execution_count": 19,
   "metadata": {},
   "outputs": [
    {
     "name": "stdout",
     "output_type": "stream",
     "text": [
      "Au\n",
      "Regression line: y=-2.12+-0.25x, r=-0.37\n",
      "\n",
      "Ag\n",
      "Regression line: y=-2.16+0.04x, r=0.08\n",
      "\n",
      "Cu\n",
      "Regression line: y=0.97+-0.24x, r=-0.42\n",
      "\n",
      "Pb\n",
      "Regression line: y=1.69+-0.22x, r=-0.58\n",
      "\n"
     ]
    }
   ],
   "source": [
    "# Regression\n",
    "for mena in menasLst:\n",
    "    slope, intercept, r, p, stderr = stats.linregress(varDict[\"LogTonn\" + mena],varDict[\"Log\" + mena])\n",
    "\n",
    "    line = f'Regression line: y={intercept:.2f}+{slope:.2f}x, r={r:.2f}'\n",
    "    print(mena)\n",
    "    print(line)\n",
    "    print()"
   ]
  },
  {
   "cell_type": "markdown",
   "metadata": {},
   "source": [
    "y=-2.09+-0.18x, r=-0.33\n",
    "\n",
    "Valor teórico del Ley/Grado para el tonelaje dado\n",
    "\n",
    "10 <sup>-( 2,09 + 0,18 * log10(9.840.000))</sup>= 0,000447982 %"
   ]
  },
  {
   "cell_type": "markdown",
   "metadata": {},
   "source": [
    "### Diagrama de Disperción"
   ]
  },
  {
   "cell_type": "code",
   "execution_count": 20,
   "metadata": {},
   "outputs": [
    {
     "ename": "NameError",
     "evalue": "name 'confidence_ellipse' is not defined",
     "output_type": "error",
     "traceback": [
      "\u001b[0;31m---------------------------------------------------------------------------\u001b[0m",
      "\u001b[0;31mNameError\u001b[0m                                 Traceback (most recent call last)",
      "\u001b[0;32m/tmp/ipykernel_4579/756535141.py\u001b[0m in \u001b[0;36m<module>\u001b[0;34m\u001b[0m\n\u001b[1;32m     19\u001b[0m \u001b[0;32mfor\u001b[0m \u001b[0mmena\u001b[0m \u001b[0;32min\u001b[0m \u001b[0mmenasLst\u001b[0m\u001b[0;34m:\u001b[0m\u001b[0;34m\u001b[0m\u001b[0;34m\u001b[0m\u001b[0m\n\u001b[1;32m     20\u001b[0m     \u001b[0maxScatter\u001b[0m\u001b[0;34m.\u001b[0m\u001b[0mscatter\u001b[0m\u001b[0;34m(\u001b[0m\u001b[0mvarDict\u001b[0m\u001b[0;34m[\u001b[0m\u001b[0;34m\"LogTonn\"\u001b[0m \u001b[0;34m+\u001b[0m \u001b[0mmena\u001b[0m\u001b[0;34m]\u001b[0m\u001b[0;34m,\u001b[0m\u001b[0mvarDict\u001b[0m\u001b[0;34m[\u001b[0m\u001b[0;34m\"Log\"\u001b[0m \u001b[0;34m+\u001b[0m \u001b[0mmena\u001b[0m\u001b[0;34m]\u001b[0m\u001b[0;34m,\u001b[0m \u001b[0mlabel\u001b[0m\u001b[0;34m=\u001b[0m\u001b[0mmena\u001b[0m\u001b[0;34m)\u001b[0m\u001b[0;34m\u001b[0m\u001b[0;34m\u001b[0m\u001b[0m\n\u001b[0;32m---> 21\u001b[0;31m     \u001b[0mconfidence_ellipse\u001b[0m\u001b[0;34m(\u001b[0m\u001b[0mvarDict\u001b[0m\u001b[0;34m[\u001b[0m\u001b[0;34m\"LogTonn\"\u001b[0m \u001b[0;34m+\u001b[0m \u001b[0mmena\u001b[0m\u001b[0;34m]\u001b[0m\u001b[0;34m,\u001b[0m\u001b[0mvarDict\u001b[0m\u001b[0;34m[\u001b[0m\u001b[0;34m\"Log\"\u001b[0m \u001b[0;34m+\u001b[0m \u001b[0mmena\u001b[0m\u001b[0;34m]\u001b[0m\u001b[0;34m,\u001b[0m \u001b[0maxScatter\u001b[0m\u001b[0;34m,\u001b[0m \u001b[0;36m2\u001b[0m\u001b[0;34m,\u001b[0m \u001b[0medgecolor\u001b[0m\u001b[0;34m=\u001b[0m\u001b[0;34m'red'\u001b[0m\u001b[0;34m)\u001b[0m\u001b[0;34m\u001b[0m\u001b[0;34m\u001b[0m\u001b[0m\n\u001b[0m\u001b[1;32m     22\u001b[0m \u001b[0;34m\u001b[0m\u001b[0m\n\u001b[1;32m     23\u001b[0m     \u001b[0;31m#Regression\u001b[0m\u001b[0;34m\u001b[0m\u001b[0;34m\u001b[0m\u001b[0m\n",
      "\u001b[0;31mNameError\u001b[0m: name 'confidence_ellipse' is not defined"
     ]
    },
    {
     "data": {
      "image/png": "[encoded data removed]",
      "text/plain": [
       "<Figure size 864x864 with 1 Axes>"
      ]
     },
     "metadata": {
      "needs_background": "light"
     },
     "output_type": "display_data"
    }
   ],
   "source": [
    "from mpl_toolkits.axes_grid1 import make_axes_locatable\n",
    "\n",
    "##\n",
    "#Hay que hacer varios subplots\n",
    "##\n",
    "\n",
    "fig, axScatter = plt.subplots(figsize=(12,12))\n",
    "\n",
    "\n",
    "axScatter.set_aspect(1.)\n",
    "fig.suptitle('Correlación entre Tonelaje y Menas', fontsize=16)\n",
    "\n",
    "axScatter.set_xlabel('Tonelaje')\n",
    "axScatter.set_ylabel('Leyes %')\n",
    "axScatter.set_xlim((4, 11))\n",
    "axScatter.set_ylim((-5, 2 ))\n",
    "\n",
    "# the scatter plot:\n",
    "for mena in menasLst:\n",
    "    axScatter.scatter(varDict[\"LogTonn\" + mena],varDict[\"Log\" + mena], label=mena)\n",
    "    confidence_ellipse(varDict[\"LogTonn\" + mena],varDict[\"Log\" + mena], axScatter, 2, edgecolor='red')\n",
    "\n",
    "    #Regression\n",
    "    #axScatter.plot(LSQVLog, intercept + slope * LSQVLog, label=line) #Hay diferencias entre la ellipse y la regresion\n",
    " \n",
    "#formateo de ticks\n",
    "plt.sca(axScatter)\n",
    "\n",
    "currentXticks = [4,5,6,7,8,9,10,11]\n",
    "\n",
    "xTickLabelLst = ['10.000T', '100.000T', '1MT', '10MT', '100MT', '1.000MT', '10.000MT', '100.000MT']\n",
    "\n",
    "plt.xticks(currentXticks, xTickLabelLst)\n",
    "    \n",
    "currentYticks = [-5, -4, -3, -2, -1, 0 ,1 , 2, 3, 4]\n",
    "yTickLabelLst = ['0,00001%', '0,0001%', '0,001%', '0,01%', '0,1%', '1%', '10%', '100%', '1000%', '10000%']\n",
    "    \n",
    "plt.yticks(currentYticks, yTickLabelLst)\n",
    "    \n",
    "plt.legend(loc='right')\n",
    "\n",
    "plt.show()"
   ]
  },
  {
   "cell_type": "markdown",
   "metadata": {},
   "source": [
    "### Hay que ver bien como se definen los limites de y y en que unidades\n",
    "\n",
    "Hay que dibujar la función de correlación y los parámetros\n",
    "A la función de correlación se le dibuja el intervalo de confidencia que según singer puede ser 80%\n",
    "Para el caso de que no haya correlación hay que definir un umbral para que no se dibuje"
   ]
  },
  {
   "cell_type": "code",
   "execution_count": 21,
   "metadata": {},
   "outputs": [
    {
     "data": {
      "image/png": "[encoded data removed]",
      "text/plain": [
       "<Figure size 1152x576 with 1 Axes>"
      ]
     },
     "metadata": {
      "needs_background": "light"
     },
     "output_type": "display_data"
    }
   ],
   "source": [
    "n_bins = 50\n",
    "\n",
    "\n",
    "fig, ax = plt.subplots(figsize=(16,8))\n",
    "\n",
    "# Overlay a reversed cumulative histogram.\n",
    "#n, bins, patches = ax.hist(depModelTonnLog, bins=n_bins, density=True, histtype='step', cumulative=-1, label='Tonelage')\n",
    "\n",
    "xMax = depModelTonnLogMean + 3.5 * depModelTonnLogStd\n",
    "xMin = depModelTonnLogMean - 3.5 * depModelTonnLogStd\n",
    "\n",
    "x = np.linspace(xMin, xMax, 100)\n",
    "ax.plot(x, norm.sf(x, depModelTonnLogMean, depModelTonnLogStd), label='Distribución teórica (PDF)', color='gray', linestyle='dashed')\n",
    "\n",
    "\n",
    "depModelTonnLog.sort_values(inplace=True)\n",
    "n = depModelTonnLog.size\n",
    "y = [ 1 - (np.arange(1, n+1) / n)]\n",
    "\n",
    "\n",
    "ax.plot([depModelTonnLog], y, marker='o', markersize=7, color='blue')\n",
    "    \n",
    "\n",
    "ax.axvline(x=depModelTonnLog10p, color='r')\n",
    "ax.text(depModelTonnLog10p,1-0.04,'90%',rotation=90)\n",
    "\n",
    "ax.axvline(x=depModelTonnLog50p, color='r')\n",
    "ax.text(depModelTonnLog50p,1-0.04,'50%',rotation=90)\n",
    "\n",
    "ax.axvline(x=depModelTonnLog90p, color='r')\n",
    "ax.text(depModelTonnLog90p,1-0.04,'10%',rotation=90)\n",
    "\n",
    "# tidy up the figure\n",
    "ax.grid(True)\n",
    "ax.legend(loc='right')\n",
    "ax.set_title('Inverse Survival Function  (ISF)')\n",
    "ax.set_xlabel('Tonnelaje')\n",
    "ax.set_ylabel('ISF(x) Proporción de Depósitos Acumulada Inversa')\n",
    "\n",
    "#renombrar xticks\n",
    "xTicksLst    = [i for i in range(round(xMin), round(xMax) + 1)]\n",
    "xTicksLabels = ['{:,.0f}'.format(10 ** x) for x in  xTicksLst]\n",
    "ax.set_xticks(xTicksLst)  # Get the current locations and labels.\n",
    "ax.set_xticklabels(xTicksLabels)\n",
    "\n",
    "\n",
    "plt.show()"
   ]
  },
  {
   "cell_type": "markdown",
   "metadata": {},
   "source": [
    "## Proporción de Tonelajes"
   ]
  },
  {
   "cell_type": "code",
   "execution_count": 22,
   "metadata": {},
   "outputs": [],
   "source": [
    "# Calculamos la proporción de yacimientos para cada intervalo\n",
    "# 0-10.000t-1.000.000-10.000.000-más de 10.000.000\n",
    "\n",
    "#depModelPob Tamaño de la población\n"
   ]
  },
  {
   "cell_type": "code",
   "execution_count": 23,
   "metadata": {},
   "outputs": [
    {
     "ename": "NameError",
     "evalue": "name 'percent2gramTonne' is not defined",
     "output_type": "error",
     "traceback": [
      "\u001b[0;31m---------------------------------------------------------------------------\u001b[0m",
      "\u001b[0;31mNameError\u001b[0m                                 Traceback (most recent call last)",
      "\u001b[0;32m/tmp/ipykernel_4579/211689006.py\u001b[0m in \u001b[0;36m<module>\u001b[0;34m\u001b[0m\n\u001b[1;32m     17\u001b[0m                               \u001b[0;34m'Au max%'\u001b[0m\u001b[0;34m:\u001b[0m \u001b[0;34m[\u001b[0m\u001b[0mTonnLT100K\u001b[0m\u001b[0;34m[\u001b[0m\u001b[0;34m'Au'\u001b[0m\u001b[0;34m]\u001b[0m\u001b[0;34m.\u001b[0m\u001b[0mmax\u001b[0m\u001b[0;34m(\u001b[0m\u001b[0;34m)\u001b[0m\u001b[0;34m,\u001b[0m \u001b[0mTonnGT100KLT1M\u001b[0m\u001b[0;34m[\u001b[0m\u001b[0;34m'Au'\u001b[0m\u001b[0;34m]\u001b[0m\u001b[0;34m.\u001b[0m\u001b[0mmax\u001b[0m\u001b[0;34m(\u001b[0m\u001b[0;34m)\u001b[0m\u001b[0;34m,\u001b[0m\u001b[0mTonnGT1MLT10MT\u001b[0m\u001b[0;34m[\u001b[0m\u001b[0;34m'Au'\u001b[0m\u001b[0;34m]\u001b[0m\u001b[0;34m.\u001b[0m\u001b[0mmax\u001b[0m\u001b[0;34m(\u001b[0m\u001b[0;34m)\u001b[0m\u001b[0;34m,\u001b[0m \u001b[0mTonnGT10MLT100MT\u001b[0m\u001b[0;34m[\u001b[0m\u001b[0;34m'Au'\u001b[0m\u001b[0;34m]\u001b[0m\u001b[0;34m.\u001b[0m\u001b[0mmax\u001b[0m\u001b[0;34m(\u001b[0m\u001b[0;34m)\u001b[0m\u001b[0;34m,\u001b[0m \u001b[0mTonnGT100MT\u001b[0m\u001b[0;34m[\u001b[0m\u001b[0;34m'Au'\u001b[0m\u001b[0;34m]\u001b[0m\u001b[0;34m.\u001b[0m\u001b[0mmax\u001b[0m\u001b[0;34m(\u001b[0m\u001b[0;34m)\u001b[0m\u001b[0;34m]\u001b[0m\u001b[0;34m,\u001b[0m\u001b[0;34m\u001b[0m\u001b[0;34m\u001b[0m\u001b[0m\n\u001b[1;32m     18\u001b[0m                               \u001b[0;34m'Au mean%'\u001b[0m\u001b[0;34m:\u001b[0m \u001b[0;34m[\u001b[0m\u001b[0mTonnLT100K\u001b[0m\u001b[0;34m[\u001b[0m\u001b[0;34m'Au'\u001b[0m\u001b[0;34m]\u001b[0m\u001b[0;34m.\u001b[0m\u001b[0mmean\u001b[0m\u001b[0;34m(\u001b[0m\u001b[0;34m)\u001b[0m\u001b[0;34m,\u001b[0m \u001b[0mTonnGT100KLT1M\u001b[0m\u001b[0;34m[\u001b[0m\u001b[0;34m'Au'\u001b[0m\u001b[0;34m]\u001b[0m\u001b[0;34m.\u001b[0m\u001b[0mmean\u001b[0m\u001b[0;34m(\u001b[0m\u001b[0;34m)\u001b[0m\u001b[0;34m,\u001b[0m\u001b[0mTonnGT1MLT10MT\u001b[0m\u001b[0;34m[\u001b[0m\u001b[0;34m'Au'\u001b[0m\u001b[0;34m]\u001b[0m\u001b[0;34m.\u001b[0m\u001b[0mmean\u001b[0m\u001b[0;34m(\u001b[0m\u001b[0;34m)\u001b[0m\u001b[0;34m,\u001b[0m \u001b[0mTonnGT10MLT100MT\u001b[0m\u001b[0;34m[\u001b[0m\u001b[0;34m'Au'\u001b[0m\u001b[0;34m]\u001b[0m\u001b[0;34m.\u001b[0m\u001b[0mmean\u001b[0m\u001b[0;34m(\u001b[0m\u001b[0;34m)\u001b[0m\u001b[0;34m,\u001b[0m \u001b[0mTonnGT100MT\u001b[0m\u001b[0;34m[\u001b[0m\u001b[0;34m'Au'\u001b[0m\u001b[0;34m]\u001b[0m\u001b[0;34m.\u001b[0m\u001b[0mmean\u001b[0m\u001b[0;34m(\u001b[0m\u001b[0;34m)\u001b[0m\u001b[0;34m]\u001b[0m\u001b[0;34m,\u001b[0m\u001b[0;34m\u001b[0m\u001b[0;34m\u001b[0m\u001b[0m\n\u001b[0;32m---> 19\u001b[0;31m                               \u001b[0;34m'Au mean g/T'\u001b[0m\u001b[0;34m:\u001b[0m \u001b[0;34m[\u001b[0m\u001b[0mpercent2gramTonne\u001b[0m\u001b[0;34m(\u001b[0m\u001b[0mTonnLT100K\u001b[0m\u001b[0;34m[\u001b[0m\u001b[0;34m'Au'\u001b[0m\u001b[0;34m]\u001b[0m\u001b[0;34m.\u001b[0m\u001b[0mmean\u001b[0m\u001b[0;34m(\u001b[0m\u001b[0;34m)\u001b[0m\u001b[0;34m)\u001b[0m\u001b[0;34m,\u001b[0m \u001b[0mpercent2gramTonne\u001b[0m\u001b[0;34m(\u001b[0m\u001b[0mTonnGT100KLT1M\u001b[0m\u001b[0;34m[\u001b[0m\u001b[0;34m'Au'\u001b[0m\u001b[0;34m]\u001b[0m\u001b[0;34m.\u001b[0m\u001b[0mmean\u001b[0m\u001b[0;34m(\u001b[0m\u001b[0;34m)\u001b[0m\u001b[0;34m)\u001b[0m\u001b[0;34m,\u001b[0m\u001b[0mpercent2gramTonne\u001b[0m\u001b[0;34m(\u001b[0m\u001b[0mTonnGT1MLT10MT\u001b[0m\u001b[0;34m[\u001b[0m\u001b[0;34m'Au'\u001b[0m\u001b[0;34m]\u001b[0m\u001b[0;34m.\u001b[0m\u001b[0mmean\u001b[0m\u001b[0;34m(\u001b[0m\u001b[0;34m)\u001b[0m\u001b[0;34m)\u001b[0m\u001b[0;34m,\u001b[0m \u001b[0mpercent2gramTonne\u001b[0m\u001b[0;34m(\u001b[0m\u001b[0mTonnGT10MLT100MT\u001b[0m\u001b[0;34m[\u001b[0m\u001b[0;34m'Au'\u001b[0m\u001b[0;34m]\u001b[0m\u001b[0;34m.\u001b[0m\u001b[0mmean\u001b[0m\u001b[0;34m(\u001b[0m\u001b[0;34m)\u001b[0m\u001b[0;34m)\u001b[0m\u001b[0;34m,\u001b[0m \u001b[0mpercent2gramTonne\u001b[0m\u001b[0;34m(\u001b[0m\u001b[0mTonnGT100MT\u001b[0m\u001b[0;34m[\u001b[0m\u001b[0;34m'Au'\u001b[0m\u001b[0;34m]\u001b[0m\u001b[0;34m.\u001b[0m\u001b[0mmean\u001b[0m\u001b[0;34m(\u001b[0m\u001b[0;34m)\u001b[0m\u001b[0;34m)\u001b[0m\u001b[0;34m]\u001b[0m\u001b[0;34m,\u001b[0m\u001b[0;34m\u001b[0m\u001b[0;34m\u001b[0m\u001b[0m\n\u001b[0m\u001b[1;32m     20\u001b[0m                               \u001b[0;34m'Ag min%'\u001b[0m\u001b[0;34m:\u001b[0m \u001b[0;34m[\u001b[0m\u001b[0mTonnLT100K\u001b[0m\u001b[0;34m[\u001b[0m\u001b[0;34m'Ag'\u001b[0m\u001b[0;34m]\u001b[0m\u001b[0;34m.\u001b[0m\u001b[0mmin\u001b[0m\u001b[0;34m(\u001b[0m\u001b[0;34m)\u001b[0m\u001b[0;34m,\u001b[0m \u001b[0mTonnGT100KLT1M\u001b[0m\u001b[0;34m[\u001b[0m\u001b[0;34m'Ag'\u001b[0m\u001b[0;34m]\u001b[0m\u001b[0;34m.\u001b[0m\u001b[0mmin\u001b[0m\u001b[0;34m(\u001b[0m\u001b[0;34m)\u001b[0m\u001b[0;34m,\u001b[0m\u001b[0mTonnGT1MLT10MT\u001b[0m\u001b[0;34m[\u001b[0m\u001b[0;34m'Ag'\u001b[0m\u001b[0;34m]\u001b[0m\u001b[0;34m.\u001b[0m\u001b[0mmin\u001b[0m\u001b[0;34m(\u001b[0m\u001b[0;34m)\u001b[0m\u001b[0;34m,\u001b[0m \u001b[0mTonnGT10MLT100MT\u001b[0m\u001b[0;34m[\u001b[0m\u001b[0;34m'Ag'\u001b[0m\u001b[0;34m]\u001b[0m\u001b[0;34m.\u001b[0m\u001b[0mmin\u001b[0m\u001b[0;34m(\u001b[0m\u001b[0;34m)\u001b[0m\u001b[0;34m,\u001b[0m \u001b[0mTonnGT100MT\u001b[0m\u001b[0;34m[\u001b[0m\u001b[0;34m'Ag'\u001b[0m\u001b[0;34m]\u001b[0m\u001b[0;34m.\u001b[0m\u001b[0mmin\u001b[0m\u001b[0;34m(\u001b[0m\u001b[0;34m)\u001b[0m\u001b[0;34m]\u001b[0m\u001b[0;34m,\u001b[0m\u001b[0;34m\u001b[0m\u001b[0;34m\u001b[0m\u001b[0m\n\u001b[1;32m     21\u001b[0m                               \u001b[0;34m'Ag max%'\u001b[0m\u001b[0;34m:\u001b[0m \u001b[0;34m[\u001b[0m\u001b[0mTonnLT100K\u001b[0m\u001b[0;34m[\u001b[0m\u001b[0;34m'Ag'\u001b[0m\u001b[0;34m]\u001b[0m\u001b[0;34m.\u001b[0m\u001b[0mmax\u001b[0m\u001b[0;34m(\u001b[0m\u001b[0;34m)\u001b[0m\u001b[0;34m,\u001b[0m \u001b[0mTonnGT100KLT1M\u001b[0m\u001b[0;34m[\u001b[0m\u001b[0;34m'Ag'\u001b[0m\u001b[0;34m]\u001b[0m\u001b[0;34m.\u001b[0m\u001b[0mmax\u001b[0m\u001b[0;34m(\u001b[0m\u001b[0;34m)\u001b[0m\u001b[0;34m,\u001b[0m\u001b[0mTonnGT1MLT10MT\u001b[0m\u001b[0;34m[\u001b[0m\u001b[0;34m'Ag'\u001b[0m\u001b[0;34m]\u001b[0m\u001b[0;34m.\u001b[0m\u001b[0mmax\u001b[0m\u001b[0;34m(\u001b[0m\u001b[0;34m)\u001b[0m\u001b[0;34m,\u001b[0m \u001b[0mTonnGT10MLT100MT\u001b[0m\u001b[0;34m[\u001b[0m\u001b[0;34m'Ag'\u001b[0m\u001b[0;34m]\u001b[0m\u001b[0;34m.\u001b[0m\u001b[0mmax\u001b[0m\u001b[0;34m(\u001b[0m\u001b[0;34m)\u001b[0m\u001b[0;34m,\u001b[0m \u001b[0mTonnGT100MT\u001b[0m\u001b[0;34m[\u001b[0m\u001b[0;34m'Ag'\u001b[0m\u001b[0;34m]\u001b[0m\u001b[0;34m.\u001b[0m\u001b[0mmax\u001b[0m\u001b[0;34m(\u001b[0m\u001b[0;34m)\u001b[0m\u001b[0;34m]\u001b[0m\u001b[0;34m,\u001b[0m\u001b[0;34m\u001b[0m\u001b[0;34m\u001b[0m\u001b[0m\n",
      "\u001b[0;31mNameError\u001b[0m: name 'percent2gramTonne' is not defined"
     ]
    }
   ],
   "source": [
    "TonnLT100K       = depModelDF.loc[(depModelDF['tonn'] < 100000)]\n",
    "TonnGT100KLT1M   = depModelDF.loc[(depModelDF['tonn'] > 100000)  & (depModelDF['tonn'] < 1000000) ]\n",
    "TonnGT1MLT10MT   = depModelDF.loc[(depModelDF['tonn'] > 1000000) & (depModelDF['tonn'] < 10000000) ]\n",
    "TonnGT10MLT100MT = depModelDF.loc[(depModelDF['tonn'] > 10000000) & (depModelDF['tonn'] < 100000000)]\n",
    "TonnGT100MT      = depModelDF.loc[(depModelDF['tonn'] > 100000000)]\n",
    "\n",
    "TonnLT100Ks       = TonnLT100K['tonn'].size\n",
    "TonnGT100KLT1Ms   = TonnGT100KLT1M['tonn'].size\n",
    "TonnGT1MLT10MTs   = TonnGT1MLT10MT['tonn'].size\n",
    "TonnGT10MLT100MTs = TonnGT10MLT100MT['tonn'].size\n",
    "TonnGT100MTs      = TonnGT100MT['tonn'].size\n",
    "\n",
    "tonnProp        = pd.DataFrame({\n",
    "                              'Tonelaje': ['<100KT', '100KT-1MT','1MT-10MT', '10MT-100MT', '>100MT'],\n",
    "                              'numYac': [TonnLT100Ks, TonnGT100KLT1Ms,TonnGT1MLT10MTs, TonnGT10MLT100MTs, TonnGT100MTs ],\n",
    "                              'Au min%': [TonnLT100K['Au'].min(), TonnGT100KLT1M['Au'].min(),TonnGT1MLT10MT['Au'].min(), TonnGT10MLT100MT['Au'].min(), TonnGT100MT['Au'].min()],\n",
    "                              'Au max%': [TonnLT100K['Au'].max(), TonnGT100KLT1M['Au'].max(),TonnGT1MLT10MT['Au'].max(), TonnGT10MLT100MT['Au'].max(), TonnGT100MT['Au'].max()],\n",
    "                              'Au mean%': [TonnLT100K['Au'].mean(), TonnGT100KLT1M['Au'].mean(),TonnGT1MLT10MT['Au'].mean(), TonnGT10MLT100MT['Au'].mean(), TonnGT100MT['Au'].mean()],\n",
    "                              'Au mean g/T': [percent2gramTonne(TonnLT100K['Au'].mean()), percent2gramTonne(TonnGT100KLT1M['Au'].mean()),percent2gramTonne(TonnGT1MLT10MT['Au'].mean()), percent2gramTonne(TonnGT10MLT100MT['Au'].mean()), percent2gramTonne(TonnGT100MT['Au'].mean())],\n",
    "                              'Ag min%': [TonnLT100K['Ag'].min(), TonnGT100KLT1M['Ag'].min(),TonnGT1MLT10MT['Ag'].min(), TonnGT10MLT100MT['Ag'].min(), TonnGT100MT['Ag'].min()],\n",
    "                              'Ag max%': [TonnLT100K['Ag'].max(), TonnGT100KLT1M['Ag'].max(),TonnGT1MLT10MT['Ag'].max(), TonnGT10MLT100MT['Ag'].max(), TonnGT100MT['Ag'].max()],\n",
    "                              'Ag mean%': [TonnLT100K['Ag'].mean(), TonnGT100KLT1M['Ag'].mean(),TonnGT1MLT10MT['Ag'].mean(), TonnGT10MLT100MT['Ag'].mean(), TonnGT100MT['Ag'].mean()],\n",
    "                              'Ag mean g/T': [percent2gramTonne(TonnLT100K['Ag'].mean()), percent2gramTonne(TonnGT100KLT1M['Ag'].mean()),percent2gramTonne(TonnGT1MLT10MT['Ag'].mean()), percent2gramTonne(TonnGT10MLT100MT['Ag'].mean()), percent2gramTonne(TonnGT100MT['Ag'].mean())],\n",
    "                              'Probabilidad': [TonnLT100Ks/depModelPob, TonnGT100KLT1Ms/depModelPob,TonnGT1MLT10MTs/depModelPob, TonnGT10MLT100MTs/depModelPob, TonnGT100MTs/depModelPob ]})\n"
   ]
  },
  {
   "cell_type": "code",
   "execution_count": 24,
   "metadata": {},
   "outputs": [
    {
     "ename": "NameError",
     "evalue": "name 'tonnProp' is not defined",
     "output_type": "error",
     "traceback": [
      "\u001b[0;31m---------------------------------------------------------------------------\u001b[0m",
      "\u001b[0;31mNameError\u001b[0m                                 Traceback (most recent call last)",
      "\u001b[0;32m/tmp/ipykernel_4579/3643972702.py\u001b[0m in \u001b[0;36m<module>\u001b[0;34m\u001b[0m\n\u001b[0;32m----> 1\u001b[0;31m \u001b[0mtonnProp\u001b[0m\u001b[0;34m\u001b[0m\u001b[0;34m\u001b[0m\u001b[0m\n\u001b[0m",
      "\u001b[0;31mNameError\u001b[0m: name 'tonnProp' is not defined"
     ]
    }
   ],
   "source": [
    "tonnProp"
   ]
  },
  {
   "cell_type": "markdown",
   "metadata": {},
   "source": [
    "# EDA DEL YACIMIENTO"
   ]
  },
  {
   "cell_type": "markdown",
   "metadata": {},
   "source": [
    "## Datos del Yacimiento a Estudiar"
   ]
  },
  {
   "cell_type": "markdown",
   "metadata": {},
   "source": [
    "The current resource contains 9.84 million tonnes at 2.36 g/t AuEq for 746,000 oz in the Indicated category and a further"
   ]
  },
  {
   "cell_type": "code",
   "execution_count": 25,
   "metadata": {},
   "outputs": [
    {
     "name": "stdout",
     "output_type": "stream",
     "text": [
      "Calcatreu v49\n",
      "6.893761762057943\n",
      "-3.642065152999546%\n",
      "\n",
      "Castro Sur\n",
      "6.303196057420489\n",
      "-3.853871964321762\n"
     ]
    }
   ],
   "source": [
    "depName = 'Calcatreu v49-Nelson'\n",
    "calcatreuIndicTonn = 7.83 * 10 ** 6\n",
    "calcatreuAu        = 2.28\n",
    "calcatreuAg        = 20.29\n",
    "\n",
    "castroSurIndicTonn = 2.010 * 10 ** 6\n",
    "castroSurAu        = 1.40\n",
    "castroSurAg        = 14.77\n",
    "\n",
    "calcatreuIndicLogTonn = np.log10(calcatreuIndicTonn)\n",
    "calcatreuLogAu        = np.log10(calcatreuAu /10000) #g/t a %\n",
    "\n",
    "castroSurIndicLogTonn = np.log10(castroSurIndicTonn)\n",
    "castroSurLogAu        = np.log10(castroSurAu / 10000)\n",
    "castroSurLogAg        = np.log10(castroSurAg)\n",
    "\n",
    "print('Calcatreu v49')\n",
    "print(calcatreuIndicLogTonn)\n",
    "print(f\"{calcatreuLogAu}%\")\n",
    "\n",
    "print()\n",
    "\n",
    "print('Castro Sur')\n",
    "print(castroSurIndicLogTonn)\n",
    "print(castroSurLogAu)"
   ]
  },
  {
   "cell_type": "code",
   "execution_count": 26,
   "metadata": {},
   "outputs": [
    {
     "ename": "NameError",
     "evalue": "name 'LSQVLogMean' is not defined",
     "output_type": "error",
     "traceback": [
      "\u001b[0;31m---------------------------------------------------------------------------\u001b[0m",
      "\u001b[0;31mNameError\u001b[0m                                 Traceback (most recent call last)",
      "\u001b[0;32m/tmp/ipykernel_4579/2768217051.py\u001b[0m in \u001b[0;36m<module>\u001b[0;34m\u001b[0m\n\u001b[0;32m----> 1\u001b[0;31m \u001b[0mLSQVLogRandom\u001b[0m \u001b[0;34m=\u001b[0m \u001b[0mrandom\u001b[0m\u001b[0;34m.\u001b[0m\u001b[0mnormal\u001b[0m\u001b[0;34m(\u001b[0m\u001b[0mloc\u001b[0m\u001b[0;34m=\u001b[0m\u001b[0mLSQVLogMean\u001b[0m\u001b[0;34m,\u001b[0m \u001b[0mscale\u001b[0m\u001b[0;34m=\u001b[0m\u001b[0mLSQVLogStd\u001b[0m\u001b[0;34m,\u001b[0m \u001b[0msize\u001b[0m\u001b[0;34m=\u001b[0m\u001b[0;34m(\u001b[0m\u001b[0;36m100000\u001b[0m\u001b[0;34m)\u001b[0m\u001b[0;34m)\u001b[0m\u001b[0;34m\u001b[0m\u001b[0;34m\u001b[0m\u001b[0m\n\u001b[0m\u001b[1;32m      2\u001b[0m \u001b[0;34m\u001b[0m\u001b[0m\n\u001b[1;32m      3\u001b[0m \u001b[0;34m\u001b[0m\u001b[0m\n\u001b[1;32m      4\u001b[0m \u001b[0mn_bins\u001b[0m \u001b[0;34m=\u001b[0m \u001b[0;36m50\u001b[0m\u001b[0;34m\u001b[0m\u001b[0;34m\u001b[0m\u001b[0m\n\u001b[1;32m      5\u001b[0m \u001b[0mn_bins\u001b[0m\u001b[0;34m=\u001b[0m\u001b[0mfreedman_diaconis\u001b[0m\u001b[0;34m(\u001b[0m\u001b[0mLSQVLog\u001b[0m\u001b[0;34m,\u001b[0m \u001b[0mreturnas\u001b[0m\u001b[0;34m=\u001b[0m\u001b[0;34m\"bins\"\u001b[0m\u001b[0;34m)\u001b[0m\u001b[0;34m\u001b[0m\u001b[0;34m\u001b[0m\u001b[0m\n",
      "\u001b[0;31mNameError\u001b[0m: name 'LSQVLogMean' is not defined"
     ]
    }
   ],
   "source": [
    "LSQVLogRandom = random.normal(loc=LSQVLogMean, scale=LSQVLogStd, size=(100000))\n",
    "\n",
    "\n",
    "n_bins = 50\n",
    "n_bins=freedman_diaconis(LSQVLog, returnas=\"bins\")\n",
    "\n",
    "fig, ax = plt.subplots(figsize=(16,8))\n",
    "\n",
    "# Overlay a reversed cumulative histogram.\n",
    "ax.hist(LSQVLog, \n",
    "        bins=n_bins, \n",
    "        density=True, \n",
    "        histtype='stepfilled', \n",
    "        cumulative=0,\n",
    "        label='Función de Probabilidad de Masa (PMF)'\n",
    "       )\n",
    "\n",
    "xMax = LSQVLogMean + 3.5 * LSQVLogStd\n",
    "xMin = LSQVLogMean - 3.5 * LSQVLogStd\n",
    "x = np.linspace(xMin, xMax, 100)\n",
    "ax.plot(x, norm.pdf(x, LSQVLogMean, LSQVLogStd), label='Distribución teórica (PDF)', color='black', linestyle='dashed')\n",
    "\n",
    "\n",
    "#Yacimiento\n",
    "\n",
    "#Valor del yacimiento en la funcion de probabilidad\n",
    "zYac = norm.pdf(calcatreuIndicLogTonn, LSQVLogMean, LSQVLogStd) \n",
    "ax.plot([calcatreuIndicLogTonn], [zYac], marker='o', markersize=5, color='red')\n",
    "ax.text(calcatreuIndicLogTonn, zYac +.015,'Calcatreu',rotation=90)\n",
    "#/Yacimiento\n",
    "\n",
    "\n",
    "ax.axvline(x=LSQVLog10p, color='r')\n",
    "ax.text(LSQVLog10p,-0.04,'10%',rotation=90)\n",
    "\n",
    "ax.axvline(x=LSQVLog50p, color='r')\n",
    "ax.text(LSQVLog50p,-0.04,'50%',rotation=90)\n",
    "\n",
    "ax.axvline(x=LSQVLog90p, color='r')\n",
    "ax.text(LSQVLog90p,-0.04,'90%',rotation=90)\n",
    "\n",
    "# tidy up the figure\n",
    "ax.grid(True)\n",
    "ax.legend(loc='right')\n",
    "ax.set_title('Histograma Transformada Log 10')\n",
    "ax.set_xlabel('Log Tonn ')\n",
    "ax.set_ylabel('Proporción de Depósitos')\n",
    "#ax.set_xscale('log')\n",
    "\n",
    "plt.show()"
   ]
  },
  {
   "cell_type": "markdown",
   "metadata": {},
   "source": [
    "Percentiles calculados en base a la muestra"
   ]
  },
  {
   "cell_type": "code",
   "execution_count": 27,
   "metadata": {},
   "outputs": [
    {
     "ename": "NameError",
     "evalue": "name 'zYac' is not defined",
     "output_type": "error",
     "traceback": [
      "\u001b[0;31m---------------------------------------------------------------------------\u001b[0m",
      "\u001b[0;31mNameError\u001b[0m                                 Traceback (most recent call last)",
      "\u001b[0;32m/tmp/ipykernel_4579/4240345883.py\u001b[0m in \u001b[0;36m<module>\u001b[0;34m\u001b[0m\n\u001b[0;32m----> 1\u001b[0;31m \u001b[0mprint\u001b[0m\u001b[0;34m(\u001b[0m\u001b[0;34mf'Probabilidad de ocurrencia: {zYac:.3f}'\u001b[0m\u001b[0;34m)\u001b[0m\u001b[0;34m\u001b[0m\u001b[0;34m\u001b[0m\u001b[0m\n\u001b[0m",
      "\u001b[0;31mNameError\u001b[0m: name 'zYac' is not defined"
     ]
    }
   ],
   "source": [
    "print(f'Probabilidad de ocurrencia: {zYac:.3f}')"
   ]
  },
  {
   "cell_type": "code",
   "execution_count": 28,
   "metadata": {},
   "outputs": [
    {
     "ename": "NameError",
     "evalue": "name 'LSQVLog' is not defined",
     "output_type": "error",
     "traceback": [
      "\u001b[0;31m---------------------------------------------------------------------------\u001b[0m",
      "\u001b[0;31mNameError\u001b[0m                                 Traceback (most recent call last)",
      "\u001b[0;32m/tmp/ipykernel_4579/1605087917.py\u001b[0m in \u001b[0;36m<module>\u001b[0;34m\u001b[0m\n\u001b[1;32m      5\u001b[0m \u001b[0;34m\u001b[0m\u001b[0m\n\u001b[1;32m      6\u001b[0m \u001b[0;31m# Overlay a reversed cumulative histogram.\u001b[0m\u001b[0;34m\u001b[0m\u001b[0;34m\u001b[0m\u001b[0m\n\u001b[0;32m----> 7\u001b[0;31m n, bins, patches = ax.hist(LSQVLog, bins=n_bins, density=True, histtype='step', cumulative=-1,\n\u001b[0m\u001b[1;32m      8\u001b[0m         label='Tonelage')\n\u001b[1;32m      9\u001b[0m \u001b[0;34m\u001b[0m\u001b[0m\n",
      "\u001b[0;31mNameError\u001b[0m: name 'LSQVLog' is not defined"
     ]
    },
    {
     "data": {
      "image/png": "[encoded data removed]",
      "text/plain": [
       "<Figure size 1152x576 with 1 Axes>"
      ]
     },
     "metadata": {
      "needs_background": "light"
     },
     "output_type": "display_data"
    }
   ],
   "source": [
    "n_bins = 50\n",
    "\n",
    "\n",
    "fig, ax = plt.subplots(figsize=(16,8))\n",
    "\n",
    "# Overlay a reversed cumulative histogram.\n",
    "n, bins, patches = ax.hist(LSQVLog, bins=n_bins, density=True, histtype='step', cumulative=-1,\n",
    "        label='Tonelage')\n",
    "\n",
    "\n",
    "x = np.linspace(xMin, xMax, 100)\n",
    "ax.plot(x, norm.sf(x, LSQVLogMean, LSQVLogStd), label='Distribución teórica (PDF)', color='gray', linestyle='dashed')\n",
    "\n",
    "\n",
    "ax.plot([calcatreuIndicLogTonn], [zYac], marker='o', markersize=5, color='red')\n",
    "ax.text(calcatreuIndicLogTonn, zYac +.02,'Calcatreu',rotation=90)\n",
    "\n",
    "LSQVLog.sort_values(inplace=True)\n",
    "n = LSQVLog.size\n",
    "y = [ 1 - (np.arange(1, n+1) / n)]\n",
    "\n",
    "\n",
    "ax.plot([LSQVLog], y, marker='o', markersize=7, color='blue')\n",
    "    \n",
    "\n",
    "ax.axvline(x=LSQVLog10p, color='r')\n",
    "ax.text(LSQVLog10p,1-0.04,'90%',rotation=90)\n",
    "\n",
    "ax.axvline(x=LSQVLog50p, color='r')\n",
    "ax.text(LSQVLog50p,1-0.04,'50%',rotation=90)\n",
    "\n",
    "ax.axvline(x=LSQVLog90p, color='r')\n",
    "ax.text(LSQVLog90p,1-0.04,'10%',rotation=90)\n",
    "\n",
    "\n",
    "# tidy up the figure\n",
    "ax.grid(True)\n",
    "ax.legend(loc='right')\n",
    "ax.set_title('Inverse Survival Function  (ISF)')\n",
    "ax.set_xlabel('Tonnelaje (escala log 10))')\n",
    "ax.set_ylabel('ISF(x) Proporción de Depósitos Acumulada Inversa')\n",
    "\n",
    "#renombrar xticks\n",
    "xTicksLst    = [i for i in range(round(xMin), round(xMax) + 1)]\n",
    "xTicksLabels = ['{:,.0f}'.format(10 ** x) for x in  xTicksLst]\n",
    "ax.set_xticks(xTicksLst)  # Get the current locations and labels.\n",
    "ax.set_xticklabels(xTicksLabels)\n",
    "\n",
    "\n",
    "plt.show()"
   ]
  },
  {
   "cell_type": "markdown",
   "metadata": {},
   "source": [
    "Percentiles calculados en base a la muestra"
   ]
  },
  {
   "cell_type": "markdown",
   "metadata": {},
   "source": [
    "La inversa de la distribucion acumulada o Función de Supervivencia Inversa (ISF) nos indica  la chance de encontrar yacimientos mayores a un valor dado"
   ]
  },
  {
   "cell_type": "markdown",
   "metadata": {},
   "source": [
    "## Leyes"
   ]
  },
  {
   "cell_type": "code",
   "execution_count": null,
   "metadata": {},
   "outputs": [],
   "source": [
    "zGrade = norm.pdf(calcatreuLogAu, LSQVLogAuMean, LSQVLogAuStd)\n",
    "print(f'Z Grade {zGrade:.2f}; Log Au: {calcatreuLogAu:.2f}')\n"
   ]
  },
  {
   "cell_type": "code",
   "execution_count": null,
   "metadata": {},
   "outputs": [],
   "source": [
    "n_bins = 50\n",
    "\n",
    "\n",
    "fig, ax = plt.subplots(figsize=(16,8))\n",
    "\n",
    "# Overlay a reversed cumulative histogram.\n",
    "n, bins, patches = ax.hist(LSQVLogAu, bins=n_bins, density=True, histtype='step', cumulative=-1,\n",
    "        label='Low Suphidation Au Qrtz Veins')\n",
    "\n",
    "xMax = LSQVLogAuMean + 3.5 * LSQVLogAuStd\n",
    "xMin = LSQVLogAuMean - 3.5 * LSQVLogAuStd\n",
    "\n",
    "x = np.linspace(xMin, xMax, 100)\n",
    "\n",
    "\n",
    "ax.plot(x, norm.sf(x, LSQVLogAuMean, LSQVLogAuStd), \n",
    "        label='Distribución teórica', color='gray', linestyle='dashed')\n",
    "\n",
    "#zYac = norm.pdf(calcatreuIndicLogTonn, LSQVLogMean, LSQVLogStd) \n",
    "\n",
    "#zGrade = norm.pdf(calcatreuLogAu, LSQVLogAuMean, LSQVLogAuStd)\n",
    "\n",
    "#ax.plot([calcatreuLogAu], [zGrade], marker='o', markersize=5, color='red')\n",
    "#ax.text(calcatreuLogAu, zGrade +.02,'Calcatreu',rotation=90)\n",
    "\n",
    "ax.axvline(x=LSQVLogAu10p, color='r')\n",
    "ax.text(LSQVLogAu10p,-0.04,'90%',rotation=90)\n",
    "\n",
    "ax.axvline(x=LSQVLogAu50p, color='r')\n",
    "ax.text(LSQVLogAu50p,-0.04,'50%',rotation=90)\n",
    "\n",
    "ax.axvline(x=LSQVLogAu90p, color='r')\n",
    "ax.text(LSQVLogAu90p,-0.04,'10%',rotation=90)\n",
    "\n",
    "\n",
    "# tidy up the figure\n",
    "ax.grid(True)\n",
    "ax.legend(loc='right')\n",
    "ax.set_title('Inverse Survival Function  (ISF)')\n",
    "ax.set_xlabel('log(Au Grade) LS Au Q Veins')\n",
    "ax.set_ylabel('ISF(x)')\n",
    "\n",
    "\n",
    "plt.show()"
   ]
  }
 ],
 "metadata": {
  "kernelspec": {
   "display_name": "Python 3 (ipykernel)",
   "language": "python",
   "name": "python3"
  },
  "language_info": {
   "codemirror_mode": {
    "name": "ipython",
    "version": 3
   },
   "file_extension": ".py",
   "mimetype": "text/x-python",
   "name": "python",
   "nbconvert_exporter": "python",
   "pygments_lexer": "ipython3",
   "version": "3.9.7"
  }
 },
 "nbformat": 4,
 "nbformat_minor": 4
}
