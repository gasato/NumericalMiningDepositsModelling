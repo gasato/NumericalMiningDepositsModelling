{
 "cells": [
  {
   "cell_type": "markdown",
   "metadata": {},
   "source": [
    "# Zipf Distribution for Mining Tonnage Models\n",
    "\n",
    "### Notes\n",
    "\n",
    "Merriam et al (2004) described the problem of success in resource assessment of mining and petroleum. Distributions of\n",
    "oil- and gas-field size in Kansas, the occurrence of historic earthquakes that affected the state, were estimated by means\n",
    "of Zipf law. Some limits of Zipf law are discussed too.\n",
    "\n",
    "Daniel F. Merriam, Lawrence J. Drew, and John H. Schuenemeyer. Zipf’s Law: A Viable Geological Paradigm?. – Natural Resources\n",
    "Research 13(4) (2004) 265-271.\n",
    "\n",
    "Howarth, R.J. White, M.C. & Koch, G.S. (1980) On Zipf's Law applied to resource prediction. Transactions of the Institution of Mining and Metallurgy, Section A: Mining Technology.\n",
    "\n"
   ]
  },
  {
   "cell_type": "code",
   "execution_count": 91,
   "metadata": {},
   "outputs": [],
   "source": [
    "import matplotlib.pyplot as plt\n",
    "import numpy as np\n",
    "import ipywidgets as widgets\n",
    "from ipywidgets import Button, HBox, VBox"
   ]
  },
  {
   "cell_type": "markdown",
   "metadata": {},
   "source": [
    "## Theorical Distribution"
   ]
  },
  {
   "cell_type": "code",
   "execution_count": 131,
   "metadata": {},
   "outputs": [
    {
     "data": {
      "application/vnd.jupyter.widget-view+json": {
       "model_id": "f8e6ec97427040719c64cd421088958b",
       "version_major": 2,
       "version_minor": 0
      },
      "text/plain": [
       "VBox(children=(Label(value='Input Parameters for Theorical Zipf Distribution Calculation'), HBox(children=(Bou…"
      ]
     },
     "execution_count": 131,
     "metadata": {},
     "output_type": "execute_result"
    }
   ],
   "source": [
    "# Data input\n",
    "style = {'description_width': 'initial'}\n",
    "\n",
    "l1 = widgets.Label(value=\"Input Parameters for Theorical Zipf Distribution Calculation\")\n",
    "\n",
    "maxTonnValue    = widgets.BoundedIntText(\n",
    "    value       = 83000000,\n",
    "    min         = 0,\n",
    "    max         = 1000000000,\n",
    "    step        = 1,\n",
    "    description = 'Maximun Metric Tonnes:',\n",
    "    disabled    = False,\n",
    "    style       = style\n",
    ")\n",
    "\n",
    "maxNumberOfSteps = widgets.BoundedIntText(\n",
    "    value       =40,\n",
    "    min         =0,\n",
    "    max         =10000,\n",
    "    step        =1,\n",
    "    description ='Steps:',\n",
    "    disabled    =False\n",
    ")\n",
    "\n",
    "VBox([l1, HBox([maxTonnValue, maxNumberOfSteps])])\n"
   ]
  },
  {
   "cell_type": "code",
   "execution_count": 183,
   "metadata": {},
   "outputs": [],
   "source": [
    "def ZipfDistTheorical(maxTonnVal ,maxNumOfSteps ):\n",
    "    '''\n",
    "    Obtain a theorical distribution of a mineral deposit type based on the maximun tonneage.\n",
    "    maxTonnVal    = maximun tonneage\n",
    "    maxNumOfSteps = maximun number of deposits considered\n",
    "    '''\n",
    "    DistZipf = []\n",
    "    \n",
    "    r = 0.8\n",
    "    c = maxTonnVal\n",
    "    funcRange = range(1, maxNumOfSteps)\n",
    "\n",
    "    for i in funcRange:\n",
    "\n",
    "        zipfResult = c / (i ** r)\n",
    "\n",
    "        DistZipf.append(zipfResult)\n",
    "    \n",
    "    return DistZipf\n",
    "\n",
    "\n",
    "def ZipfDistMinMax(MaxToneage, MinToneage):\n",
    "    '''\n",
    "    Obtain a theorical distribution of a mineral deposit type based on the maximun and minimun tonneage.\n",
    "    MaxToneage    = maximun tonneage\n",
    "    MinToneage    = minimun tonneage\n",
    "    '''\n",
    "    DistZipf = []\n",
    "    \n",
    "    r = 0.8\n",
    "    c = MaxToneage\n",
    "    \n",
    "    zipfResult = MaxToneage\n",
    "    count      = 1\n",
    "    while True:\n",
    "        if count > 50 or zipfResult < MinToneage :\n",
    "            print(\"Break at count %s and MT = %s\" % (count, zipfResult))\n",
    "            \n",
    "            break\n",
    "\n",
    "        zipfResult = c / (count ** r)\n",
    "        count += 1\n",
    "\n",
    "        DistZipf.append(zipfResult)\n",
    "    \n",
    "    return DistZipf\n",
    "\n",
    "\n",
    "def DepRanking(DepModelTonnLst):\n",
    "    '''\n",
    "    Generate a ranking based on a corresponding Zipf theorical distribution for a\n",
    "    deposit model\n",
    "    \n",
    "    #ZipfDist        = a theorical Zipf Distribution based on a deposit model\n",
    "    DepModelTonnLst = a real deposit model distribution \n",
    "    '''\n",
    "    r = 0.8\n",
    "    c = max(DepModelTonnLst)\n",
    "    \n",
    "    ZipfRanksLst = []\n",
    "    for i in DepModelTonnLst:\n",
    "        \n",
    "        rank = (c / i) ** (1 / r)\n",
    "        ZipfRanksLst.append((rank,i))\n",
    "        \n",
    "        \n",
    "    return ZipfRanksLst\n",
    "    "
   ]
  },
  {
   "cell_type": "code",
   "execution_count": 133,
   "metadata": {},
   "outputs": [],
   "source": [
    "DistZipf = ZipfDistTheorical(maxTonnValue.value, maxNumberOfSteps.value)"
   ]
  },
  {
   "cell_type": "code",
   "execution_count": 143,
   "metadata": {},
   "outputs": [
    {
     "data": {
      "image/png": "[encoded data removed]",
      "text/plain": [
       "<Figure size 640x480 with 1 Axes>"
      ]
     },
     "metadata": {},
     "output_type": "display_data"
    }
   ],
   "source": [
    "x = [*range(1, len(DistZipf) + 1,1)]\n",
    "\n",
    "plt.bar(x, DistZipf, align='center', alpha=0.5)\n",
    "\n",
    "plt.ylabel('Metric Ton')\n",
    "plt.xlabel('Number of Theorical Deposits')\n",
    "plt.title('Zipf Theorical Distribution')\n",
    "\n",
    "plt.show()"
   ]
  },
  {
   "cell_type": "code",
   "execution_count": 114,
   "metadata": {},
   "outputs": [
    {
     "name": "stdout",
     "output_type": "stream",
     "text": [
      "Minimun calculated tonnage: 4,428,192 MT\n",
      "Maximun calculated tonnage: 83,000,000 MT\n",
      "Total theorical tonnage: 497,388,206 MT\n"
     ]
    }
   ],
   "source": [
    "print(f'Minimun calculated tonnage: {(DistZipf[-1]):,.0f} MT')\n",
    "print(f'Maximun calculated tonnage: {(DistZipf[0]):,.0f} MT')\n",
    "print(f'Total theorical tonnage: {np.sum(DistZipf):,.0f} MT')"
   ]
  },
  {
   "cell_type": "markdown",
   "metadata": {},
   "source": [
    "## Prototype-Zipf Tonne Distribution Against World Mineral DataBases\n",
    "\n",
    "La idea es poder comparar las bases de datos mundiales con la distribución teórica\n",
    "\n"
   ]
  },
  {
   "cell_type": "code",
   "execution_count": 115,
   "metadata": {},
   "outputs": [],
   "source": [
    "import pandas as pd"
   ]
  },
  {
   "cell_type": "code",
   "execution_count": 116,
   "metadata": {},
   "outputs": [],
   "source": [
    "#yacModel = pd.read_csv(\"data/25c.csv\", index_col='yacName')\n",
    "yacModel = pd.read_csv(\"data/25c.csv\")"
   ]
  },
  {
   "cell_type": "code",
   "execution_count": 130,
   "metadata": {},
   "outputs": [
    {
     "name": "stdout",
     "output_type": "stream",
     "text": [
      "Maximun Toneage   : 25696.0 MT\n",
      "Minimun Toneage   : 18.0 MT\n",
      "Number of Deposits: 41\n"
     ]
    }
   ],
   "source": [
    "# Obtención de la serie por abundancia de Au\n",
    "\n",
    "result = yacModel['Au'] * yacModel['tonn']\n",
    "result.sort_values(ascending=False, inplace=True)\n",
    "\n",
    "DepositMaxToneage = max(result)\n",
    "DepositMinToneage = min(result)\n",
    "DepositNumber     = len(result)\n",
    "\n",
    "print(\"Maximun Toneage   : %s MT\" % (DepositMaxToneage))\n",
    "print(\"Minimun Toneage   : %s MT\" % (DepositMinToneage))\n",
    "print(\"Number of Deposits: %s\" % (DepositNumber))"
   ]
  },
  {
   "cell_type": "code",
   "execution_count": 171,
   "metadata": {},
   "outputs": [
    {
     "name": "stdout",
     "output_type": "stream",
     "text": [
      "Break at count 51 and MT = 1123.8012740818588\n"
     ]
    }
   ],
   "source": [
    "DistZipf = ZipfDistMinMax(25696.0 , 1000)"
   ]
  },
  {
   "cell_type": "code",
   "execution_count": 194,
   "metadata": {},
   "outputs": [],
   "source": [
    "pepe = DepRanking(result)\n",
    "\n"
   ]
  },
  {
   "cell_type": "code",
   "execution_count": 201,
   "metadata": {},
   "outputs": [],
   "source": [
    "pepe = pepe[0:15]"
   ]
  },
  {
   "cell_type": "code",
   "execution_count": 173,
   "metadata": {},
   "outputs": [
    {
     "data": {
      "text/plain": [
       "50"
      ]
     },
     "execution_count": 173,
     "metadata": {},
     "output_type": "execute_result"
    }
   ],
   "source": [
    "len(DistZipf)"
   ]
  },
  {
   "cell_type": "code",
   "execution_count": 219,
   "metadata": {},
   "outputs": [
    {
     "data": {
      "image/png": "[encoded data removed]",
      "text/plain": [
       "<Figure size 640x480 with 1 Axes>"
      ]
     },
     "metadata": {},
     "output_type": "display_data"
    }
   ],
   "source": [
    "x = [*range(1, len(DistZipf) + 1,1)]\n",
    "\n",
    "plt.bar(x, DistZipf, align='center', alpha=0.5)\n",
    "\n",
    "plt.ylabel('MT')\n",
    "plt.xlabel('Ranking')\n",
    "plt.title('Zipf Theoric Distribution')\n",
    "\n",
    "plt.show()"
   ]
  },
  {
   "cell_type": "code",
   "execution_count": 216,
   "metadata": {},
   "outputs": [
    {
     "data": {
      "text/plain": [
       "\"\\nplt.bar(x, DistZipf, align='center', alpha=0.5)\\n\\nplt.bar(list(zip(*pepe))[0], list(zip(*pepe))[1], align='center', alpha=0.5, color='red')\\n\\nplt.plot(x,DistZipf, 'r')\\n\\nplt.ylabel('Au T')\\nplt.xlabel('Ranking')\\nplt.title('Zipf Ranks Datos Mundiales para LSQVAu')\\n\\nplt.show()\\n\""
      ]
     },
     "execution_count": 216,
     "metadata": {},
     "output_type": "execute_result"
    },
    {
     "data": {
      "image/png": "[encoded data removed]",
      "text/plain": [
       "<Figure size 640x480 with 1 Axes>"
      ]
     },
     "metadata": {},
     "output_type": "display_data"
    }
   ],
   "source": [
    "fig, ax = plt.subplots()\n",
    "\n",
    "ZipfTheoryDistPltBar = ax.bar(x, DistZipf, align='center', alpha=0.5, label='Zipf Theorical')\n",
    "\n",
    "DepModelDistPltBar   = ax.bar(list(zip(*pepe))[0], list(zip(*pepe))[1], align='center', alpha=0.5, color='red', label=\"Dep. Model Dist.\")\n",
    "\n",
    "ZipfTheoryDistPltBar = ax.plot(x,DistZipf, 'r')\n",
    "\n",
    "ax.legend(loc=\"upper right\")\n"
   ]
  },
  {
   "cell_type": "code",
   "execution_count": 218,
   "metadata": {},
   "outputs": [
    {
     "ename": "ValueError",
     "evalue": "x and y must have same first dimension, but have shapes (50,) and (41,)",
     "output_type": "error",
     "traceback": [
      "\u001b[1;31m---------------------------------------------------------------------------\u001b[0m",
      "\u001b[1;31mValueError\u001b[0m                                Traceback (most recent call last)",
      "\u001b[1;32m~\\AppData\\Local\\Temp/ipykernel_12532/1361604921.py\u001b[0m in \u001b[0;36m<module>\u001b[1;34m\u001b[0m\n\u001b[1;32m----> 1\u001b[1;33m \u001b[0mplt\u001b[0m\u001b[1;33m.\u001b[0m\u001b[0mplot\u001b[0m\u001b[1;33m(\u001b[0m\u001b[0mnp\u001b[0m\u001b[1;33m.\u001b[0m\u001b[0mlog10\u001b[0m\u001b[1;33m(\u001b[0m\u001b[0mx\u001b[0m\u001b[1;33m)\u001b[0m\u001b[1;33m,\u001b[0m \u001b[0mnp\u001b[0m\u001b[1;33m.\u001b[0m\u001b[0mlog10\u001b[0m\u001b[1;33m(\u001b[0m\u001b[0mresult\u001b[0m\u001b[1;33m)\u001b[0m\u001b[1;33m,\u001b[0m \u001b[1;34m'bo'\u001b[0m\u001b[1;33m)\u001b[0m\u001b[1;33m\u001b[0m\u001b[1;33m\u001b[0m\u001b[0m\n\u001b[0m\u001b[0;32m      2\u001b[0m \u001b[0mplt\u001b[0m\u001b[1;33m.\u001b[0m\u001b[0mplot\u001b[0m\u001b[1;33m(\u001b[0m\u001b[0mnp\u001b[0m\u001b[1;33m.\u001b[0m\u001b[0mlog10\u001b[0m\u001b[1;33m(\u001b[0m\u001b[0mx\u001b[0m\u001b[1;33m)\u001b[0m\u001b[1;33m,\u001b[0m \u001b[0mnp\u001b[0m\u001b[1;33m.\u001b[0m\u001b[0mlog10\u001b[0m\u001b[1;33m(\u001b[0m\u001b[0mDistZipf\u001b[0m\u001b[1;33m)\u001b[0m\u001b[1;33m,\u001b[0m \u001b[1;34m'r-'\u001b[0m\u001b[1;33m)\u001b[0m\u001b[1;33m\u001b[0m\u001b[1;33m\u001b[0m\u001b[0m\n\u001b[0;32m      3\u001b[0m \u001b[1;33m\u001b[0m\u001b[0m\n\u001b[0;32m      4\u001b[0m \u001b[0mplt\u001b[0m\u001b[1;33m.\u001b[0m\u001b[0mylabel\u001b[0m\u001b[1;33m(\u001b[0m\u001b[1;34m'log 10 Au T'\u001b[0m\u001b[1;33m)\u001b[0m\u001b[1;33m\u001b[0m\u001b[1;33m\u001b[0m\u001b[0m\n\u001b[0;32m      5\u001b[0m \u001b[0mplt\u001b[0m\u001b[1;33m.\u001b[0m\u001b[0mxlabel\u001b[0m\u001b[1;33m(\u001b[0m\u001b[1;34m'log 10 Rank'\u001b[0m\u001b[1;33m)\u001b[0m\u001b[1;33m\u001b[0m\u001b[1;33m\u001b[0m\u001b[0m\n",
      "\u001b[1;32m~\\Anaconda3\\lib\\site-packages\\matplotlib\\pyplot.py\u001b[0m in \u001b[0;36mplot\u001b[1;34m(scalex, scaley, data, *args, **kwargs)\u001b[0m\n\u001b[0;32m   3588\u001b[0m     \u001b[1;33m**\u001b[0m\u001b[0mkwargs\u001b[0m\u001b[1;33m,\u001b[0m\u001b[1;33m\u001b[0m\u001b[1;33m\u001b[0m\u001b[0m\n\u001b[0;32m   3589\u001b[0m ) -> list[Line2D]:\n\u001b[1;32m-> 3590\u001b[1;33m     return gca().plot(\n\u001b[0m\u001b[0;32m   3591\u001b[0m         \u001b[1;33m*\u001b[0m\u001b[0margs\u001b[0m\u001b[1;33m,\u001b[0m\u001b[1;33m\u001b[0m\u001b[1;33m\u001b[0m\u001b[0m\n\u001b[0;32m   3592\u001b[0m         \u001b[0mscalex\u001b[0m\u001b[1;33m=\u001b[0m\u001b[0mscalex\u001b[0m\u001b[1;33m,\u001b[0m\u001b[1;33m\u001b[0m\u001b[1;33m\u001b[0m\u001b[0m\n",
      "\u001b[1;32m~\\Anaconda3\\lib\\site-packages\\matplotlib\\axes\\_axes.py\u001b[0m in \u001b[0;36mplot\u001b[1;34m(self, scalex, scaley, data, *args, **kwargs)\u001b[0m\n\u001b[0;32m   1722\u001b[0m         \"\"\"\n\u001b[0;32m   1723\u001b[0m         \u001b[0mkwargs\u001b[0m \u001b[1;33m=\u001b[0m \u001b[0mcbook\u001b[0m\u001b[1;33m.\u001b[0m\u001b[0mnormalize_kwargs\u001b[0m\u001b[1;33m(\u001b[0m\u001b[0mkwargs\u001b[0m\u001b[1;33m,\u001b[0m \u001b[0mmlines\u001b[0m\u001b[1;33m.\u001b[0m\u001b[0mLine2D\u001b[0m\u001b[1;33m)\u001b[0m\u001b[1;33m\u001b[0m\u001b[1;33m\u001b[0m\u001b[0m\n\u001b[1;32m-> 1724\u001b[1;33m         \u001b[0mlines\u001b[0m \u001b[1;33m=\u001b[0m \u001b[1;33m[\u001b[0m\u001b[1;33m*\u001b[0m\u001b[0mself\u001b[0m\u001b[1;33m.\u001b[0m\u001b[0m_get_lines\u001b[0m\u001b[1;33m(\u001b[0m\u001b[0mself\u001b[0m\u001b[1;33m,\u001b[0m \u001b[1;33m*\u001b[0m\u001b[0margs\u001b[0m\u001b[1;33m,\u001b[0m \u001b[0mdata\u001b[0m\u001b[1;33m=\u001b[0m\u001b[0mdata\u001b[0m\u001b[1;33m,\u001b[0m \u001b[1;33m**\u001b[0m\u001b[0mkwargs\u001b[0m\u001b[1;33m)\u001b[0m\u001b[1;33m]\u001b[0m\u001b[1;33m\u001b[0m\u001b[1;33m\u001b[0m\u001b[0m\n\u001b[0m\u001b[0;32m   1725\u001b[0m         \u001b[1;32mfor\u001b[0m \u001b[0mline\u001b[0m \u001b[1;32min\u001b[0m \u001b[0mlines\u001b[0m\u001b[1;33m:\u001b[0m\u001b[1;33m\u001b[0m\u001b[1;33m\u001b[0m\u001b[0m\n\u001b[0;32m   1726\u001b[0m             \u001b[0mself\u001b[0m\u001b[1;33m.\u001b[0m\u001b[0madd_line\u001b[0m\u001b[1;33m(\u001b[0m\u001b[0mline\u001b[0m\u001b[1;33m)\u001b[0m\u001b[1;33m\u001b[0m\u001b[1;33m\u001b[0m\u001b[0m\n",
      "\u001b[1;32m~\\Anaconda3\\lib\\site-packages\\matplotlib\\axes\\_base.py\u001b[0m in \u001b[0;36m__call__\u001b[1;34m(self, axes, data, *args, **kwargs)\u001b[0m\n\u001b[0;32m    301\u001b[0m                 \u001b[0mthis\u001b[0m \u001b[1;33m+=\u001b[0m \u001b[0margs\u001b[0m\u001b[1;33m[\u001b[0m\u001b[1;36m0\u001b[0m\u001b[1;33m]\u001b[0m\u001b[1;33m,\u001b[0m\u001b[1;33m\u001b[0m\u001b[1;33m\u001b[0m\u001b[0m\n\u001b[0;32m    302\u001b[0m                 \u001b[0margs\u001b[0m \u001b[1;33m=\u001b[0m \u001b[0margs\u001b[0m\u001b[1;33m[\u001b[0m\u001b[1;36m1\u001b[0m\u001b[1;33m:\u001b[0m\u001b[1;33m]\u001b[0m\u001b[1;33m\u001b[0m\u001b[1;33m\u001b[0m\u001b[0m\n\u001b[1;32m--> 303\u001b[1;33m             yield from self._plot_args(\n\u001b[0m\u001b[0;32m    304\u001b[0m                 axes, this, kwargs, ambiguous_fmt_datakey=ambiguous_fmt_datakey)\n\u001b[0;32m    305\u001b[0m \u001b[1;33m\u001b[0m\u001b[0m\n",
      "\u001b[1;32m~\\Anaconda3\\lib\\site-packages\\matplotlib\\axes\\_base.py\u001b[0m in \u001b[0;36m_plot_args\u001b[1;34m(self, axes, tup, kwargs, return_kwargs, ambiguous_fmt_datakey)\u001b[0m\n\u001b[0;32m    497\u001b[0m \u001b[1;33m\u001b[0m\u001b[0m\n\u001b[0;32m    498\u001b[0m         \u001b[1;32mif\u001b[0m \u001b[0mx\u001b[0m\u001b[1;33m.\u001b[0m\u001b[0mshape\u001b[0m\u001b[1;33m[\u001b[0m\u001b[1;36m0\u001b[0m\u001b[1;33m]\u001b[0m \u001b[1;33m!=\u001b[0m \u001b[0my\u001b[0m\u001b[1;33m.\u001b[0m\u001b[0mshape\u001b[0m\u001b[1;33m[\u001b[0m\u001b[1;36m0\u001b[0m\u001b[1;33m]\u001b[0m\u001b[1;33m:\u001b[0m\u001b[1;33m\u001b[0m\u001b[1;33m\u001b[0m\u001b[0m\n\u001b[1;32m--> 499\u001b[1;33m             raise ValueError(f\"x and y must have same first dimension, but \"\n\u001b[0m\u001b[0;32m    500\u001b[0m                              f\"have shapes {x.shape} and {y.shape}\")\n\u001b[0;32m    501\u001b[0m         \u001b[1;32mif\u001b[0m \u001b[0mx\u001b[0m\u001b[1;33m.\u001b[0m\u001b[0mndim\u001b[0m \u001b[1;33m>\u001b[0m \u001b[1;36m2\u001b[0m \u001b[1;32mor\u001b[0m \u001b[0my\u001b[0m\u001b[1;33m.\u001b[0m\u001b[0mndim\u001b[0m \u001b[1;33m>\u001b[0m \u001b[1;36m2\u001b[0m\u001b[1;33m:\u001b[0m\u001b[1;33m\u001b[0m\u001b[1;33m\u001b[0m\u001b[0m\n",
      "\u001b[1;31mValueError\u001b[0m: x and y must have same first dimension, but have shapes (50,) and (41,)"
     ]
    },
    {
     "data": {
      "image/png": "[encoded data removed]",
      "text/plain": [
       "<Figure size 640x480 with 1 Axes>"
      ]
     },
     "metadata": {},
     "output_type": "display_data"
    }
   ],
   "source": [
    "plt.plot(np.log10(x), np.log10(result), 'bo')\n",
    "plt.plot(np.log10(x), np.log10(DistZipf), 'r-')\n",
    "\n",
    "plt.ylabel('log 10 Au T')\n",
    "plt.xlabel('log 10 Rank')\n",
    "plt.title('Diagrama log log de Zipf para LSQVAu')\n",
    "\n",
    "plt.show()"
   ]
  },
  {
   "cell_type": "code",
   "execution_count": 13,
   "metadata": {},
   "outputs": [
    {
     "ename": "NameError",
     "evalue": "name 'result' is not defined",
     "output_type": "error",
     "traceback": [
      "\u001b[1;31m---------------------------------------------------------------------------\u001b[0m",
      "\u001b[1;31mNameError\u001b[0m                                 Traceback (most recent call last)",
      "\u001b[1;32m~\\AppData\\Local\\Temp/ipykernel_12532/1049141082.py\u001b[0m in \u001b[0;36m<module>\u001b[1;34m\u001b[0m\n\u001b[1;32m----> 1\u001b[1;33m \u001b[0mresult\u001b[0m\u001b[1;33m\u001b[0m\u001b[1;33m\u001b[0m\u001b[0m\n\u001b[0m",
      "\u001b[1;31mNameError\u001b[0m: name 'result' is not defined"
     ]
    }
   ],
   "source": [
    "result"
   ]
  },
  {
   "cell_type": "code",
   "execution_count": null,
   "metadata": {},
   "outputs": [],
   "source": []
  },
  {
   "cell_type": "code",
   "execution_count": null,
   "metadata": {},
   "outputs": [],
   "source": []
  }
 ],
 "metadata": {
  "kernelspec": {
   "display_name": "Python 3 (ipykernel)",
   "language": "python",
   "name": "python3"
  },
  "language_info": {
   "codemirror_mode": {
    "name": "ipython",
    "version": 3
   },
   "file_extension": ".py",
   "mimetype": "text/x-python",
   "name": "python",
   "nbconvert_exporter": "python",
   "pygments_lexer": "ipython3",
   "version": "3.9.18"
  }
 },
 "nbformat": 4,
 "nbformat_minor": 4
}
