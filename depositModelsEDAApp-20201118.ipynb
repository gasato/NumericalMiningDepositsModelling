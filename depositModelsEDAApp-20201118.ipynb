{
 "cells": [
  {
   "cell_type": "markdown",
   "metadata": {},
   "source": [
    "# Estimation of Undiscovered Deposits in Quantitative Mineral Resource Assessments\n",
    "## Deposit Density Method\n",
    "Based ond Dennis P. Cox "
   ]
  },
  {
   "cell_type": "markdown",
   "metadata": {},
   "source": [
    " Low-sulfide gold-quartz veins (LGV's) \n",
    " \n",
    " Data from James D. Bliss\n",
    " All mines within 1.6 km were combined and only deposits containing more than 99 tonnes\n",
    "are included. Gold grade is correlated with tonnage (r = -0.30) and with silver grade (r = 0.45, n\n",
    "= 39).\n",
    "\n",
    "![imagen.png](MiningData/LGVModel.png)\n",
    "\n",
    "### Grade and tonnage model.\n",
    "Ideally, the data should be the estimated premining tonnages and grades."
   ]
  },
  {
   "cell_type": "code",
   "execution_count": 1,
   "metadata": {},
   "outputs": [
    {
     "ename": "ModuleNotFoundError",
     "evalue": "No module named 'termcolor'",
     "output_type": "error",
     "traceback": [
      "\u001b[0;31m---------------------------------------------------------------------------\u001b[0m",
      "\u001b[0;31mModuleNotFoundError\u001b[0m                       Traceback (most recent call last)",
      "\u001b[0;32m/tmp/ipykernel_4433/1458737761.py\u001b[0m in \u001b[0;36m<module>\u001b[0;34m\u001b[0m\n\u001b[1;32m     20\u001b[0m \u001b[0;34m\u001b[0m\u001b[0m\n\u001b[1;32m     21\u001b[0m \u001b[0;31m#\u001b[0m\u001b[0;34m\u001b[0m\u001b[0;34m\u001b[0m\u001b[0m\n\u001b[0;32m---> 22\u001b[0;31m \u001b[0;32mfrom\u001b[0m \u001b[0mtermcolor\u001b[0m \u001b[0;32mimport\u001b[0m \u001b[0mcolored\u001b[0m\u001b[0;34m,\u001b[0m \u001b[0mcprint\u001b[0m\u001b[0;34m\u001b[0m\u001b[0;34m\u001b[0m\u001b[0m\n\u001b[0m\u001b[1;32m     23\u001b[0m \u001b[0;34m\u001b[0m\u001b[0m\n\u001b[1;32m     24\u001b[0m \u001b[0mplt\u001b[0m\u001b[0;34m.\u001b[0m\u001b[0mstyle\u001b[0m\u001b[0;34m.\u001b[0m\u001b[0muse\u001b[0m\u001b[0;34m(\u001b[0m\u001b[0;34m'seaborn'\u001b[0m\u001b[0;34m)\u001b[0m\u001b[0;34m\u001b[0m\u001b[0;34m\u001b[0m\u001b[0m\n",
      "\u001b[0;31mModuleNotFoundError\u001b[0m: No module named 'termcolor'"
     ]
    }
   ],
   "source": [
    "## Librerias\n",
    "\n",
    "import pandas as pd\n",
    "import numpy as np\n",
    "from numpy import random\n",
    "from math import log\n",
    "\n",
    "# Visualizations\n",
    "import matplotlib.pyplot as plt\n",
    "from matplotlib.patches import Ellipse\n",
    "import matplotlib.transforms as transforms\n",
    "\n",
    "#Distribucion Normal\n",
    "from scipy.stats import norm, kstest\n",
    "from scipy import stats\n",
    "\n",
    "#Test de normalidad\n",
    "from statsmodels.graphics.gofplots import qqplot\n",
    "from scipy.stats import shapiro, pearsonr\n",
    "\n",
    "#\n",
    "from termcolor import colored, cprint\n",
    "\n",
    "plt.style.use('seaborn')"
   ]
  },
  {
   "cell_type": "markdown",
   "metadata": {},
   "source": [
    "## Measure Units Conversions\n",
    "\n",
    "1 troy ounce equals 31.103481 grams per ton, which equals 34.2857 grams per tonne. As 1 gram equals 0.0321492 troy ounces, the conversion factor is calculated as: 0.0321492 / 34.2857 x 31.103481 = 0.0291652 (rounded 0.029).\n",
    "\n",
    "\n",
    "\n",
    "Although mineral values are often expressed in tonne, sometimes they are expressed by ton as well. As 1 ton equals 907.18474 kilograms and 1 tonne equals 1,000 kilograms, just remember the difference between tonne and ton is approximately 10% (mnemonic: less letters, less outcome).\n",
    "\n",
    "Converting to SI units, 1 oz/ton equals 31.10 g (1 oz troy) per 0.9072 tonne (1 short ton), which multiplies out as 34.28 g/t.\n",
    "\n",
    "\n",
    "### How to Convert Grades\n",
    " \n",
    "\n",
    " Percent grade |\tGrams per ton | ppm | \tppb \n",
    " --- | --- | --- | --- \n",
    " 1.00%\t= |\t10,000gpt\t= |\t10,000ppm\t= |\t10,000,000ppb \n",
    "0.1%\t= |\t1 ,000gpt\t= |\t1,000ppm\t= |\t1,000,000ppb\n",
    "0.01%\t= |\t100gpt\t= |\t100ppm\t= |\t100,000ppb\n",
    "0.001%\t= |\t10gpt\t= |\t10ppm\t= |\t10,000ppb\n",
    "0.000,1%\t= |\t1gpt\t= |\t1ppm\t= |\t1,000ppb\n",
    "0.000,01%\t= |\t0.1gpt\t= |\t0.1ppm\t= |\t100ppb\n",
    " \n",
    "Abbreviation\tUnit\tEquivalents\n",
    "\n",
    "oz = 31.103 g\n",
    "\n",
    "(Troy) ounce (also 'ozt')\n",
    "\n",
    "> A common ounce is known as an avoir dupois ounce, and is 28.34g. Troy ounces are only used for precious metals, gems and gunpowder, but are 10% larger,  1 Troy oz is 31.1034768 g, and is either referred to as 'oz' or 'ozt'. Since all gold ounces are troy ounces, if 'oz' is used with gold, it refers to the Troy ounce. To make things extra complex, a Troy pound is smaller than a common 'pound', because it only contains 12 troy ounces, not 16 oz, as the avoir dupois 'common' pound does. The troy pound is 373.24 g, while an avoirdupois pound is 453.59g."
   ]
  },
  {
   "cell_type": "code",
   "execution_count": null,
   "metadata": {},
   "outputs": [],
   "source": [
    "#Conversiones entre medidas\n",
    "\n",
    "def troyOunces2gram(ounces):\n",
    "    return onces / 31.103481\n",
    "\n",
    "def gram2troyOunces(grams):\n",
    "    return grams * 31.103481\n",
    "\n",
    "def ouncesTonne2gramTonne(gradeOunces):\n",
    "    return gradeOunces / 0.0291652\n",
    "\n",
    "def gramTonne2ouncesTonne(gradeGrams):\n",
    "    return gradeGrams * 0.0291652\n",
    "\n",
    "def tonne2ton(tnn):\n",
    "    return tnn /  907.18474\n",
    "\n",
    "def ton2tonne(t):\n",
    "    return tn *  907.18474\n",
    "\n",
    "def percent2gramTonne(gradePercent):\n",
    "    return gradePercent * 10000\n",
    "\n",
    "\n",
    "def TaylorRuleofYacLife(t):\n",
    "    '''\n",
    "    Regla de Taylor para el cálculo de la vida del yacimiento\n",
    "    t = Tonneage\n",
    "    '''\n",
    "    return 0.2 * ( t ** 0.25 )"
   ]
  },
  {
   "cell_type": "code",
   "execution_count": null,
   "metadata": {},
   "outputs": [],
   "source": [
    "def freedman_diaconis(data, returnas=\"width\"):\n",
    "    \"\"\"\n",
    "    Use Freedman Diaconis rule to compute optimal histogram bin width. \n",
    "    ``returnas`` can be one of \"width\" or \"bins\", indicating whether\n",
    "    the bin width or number of bins should be returned respectively. \n",
    "\n",
    "\n",
    "    Parameters\n",
    "    ----------\n",
    "    data: np.ndarray\n",
    "        One-dimensional array.\n",
    "\n",
    "    returnas: {\"width\", \"bins\"}\n",
    "        If \"width\", return the estimated width for each histogram bin. \n",
    "        If \"bins\", return the number of bins suggested by rule.\n",
    "    \"\"\"\n",
    "    data = np.asarray(data, dtype=np.float_)\n",
    "    IQR  = stats.iqr(data, rng=(25, 75), scale=\"raw\", nan_policy=\"omit\")\n",
    "    N    = data.size\n",
    "    bw   = (2 * IQR) / np.power(N, 1/3)\n",
    "\n",
    "    if returnas==\"width\":\n",
    "        result = bw\n",
    "    else:\n",
    "        datmin, datmax = data.min(), data.max()\n",
    "        datrng = datmax - datmin\n",
    "        result = int((datrng / bw) + 1)\n",
    "        \n",
    "    return(result)"
   ]
  },
  {
   "cell_type": "code",
   "execution_count": null,
   "metadata": {},
   "outputs": [],
   "source": [
    "#Clasificador por categorias mayor menor-igual\n",
    "def classBySteps(x, stepLst):\n",
    "    groupNdx  = 0\n",
    "    groupName = ''\n",
    "    for i in range(len(stepLst)-1):\n",
    "        if x > stepLst[i] and x <= stepLst[i+1]:\n",
    "            groupNdx = i\n",
    "            groupName = str(stepLst[i]) + \"-\" + str(stepLst[i+1])\n",
    "        elif i == 0:\n",
    "            groupNdx = i\n",
    "            groupName = str(stepLst[i]) + \"-\" + str(stepLst[i+1])\n",
    "        \n",
    "    \n",
    "    return (groupNdx, groupName)"
   ]
  },
  {
   "cell_type": "code",
   "execution_count": 2,
   "metadata": {},
   "outputs": [],
   "source": [
    "def confidence_ellipse(x, y, ax, n_std=3.0, facecolor='none', **kwargs):\n",
    "    \"\"\"\n",
    "    Create a plot of the covariance confidence ellipse of *x* and *y*.\n",
    "\n",
    "    Parameters\n",
    "    ----------\n",
    "    x, y : array-like, shape (n, )\n",
    "        Input data.\n",
    "\n",
    "    ax : matplotlib.axes.Axes\n",
    "        The axes object to draw the ellipse into.\n",
    "\n",
    "    n_std : float\n",
    "        The number of standard deviations to determine the ellipse's radiuses.\n",
    "\n",
    "    **kwargs\n",
    "        Forwarded to `~matplotlib.patches.Ellipse`\n",
    "\n",
    "    Returns\n",
    "    -------\n",
    "    matplotlib.patches.Ellipse\n",
    "    \n",
    "    This function plots the confidence ellipse of the covariance of the given array-like variables x and y.\n",
    "    The ellipse is plotted into the given axes-object ax.\n",
    "    \"\"\"\n",
    "    if x.size != y.size:\n",
    "        raise ValueError(\"x and y must be the same size\")\n",
    "\n",
    "    cov = np.cov(x, y)\n",
    "    pearson = cov[0, 1]/np.sqrt(cov[0, 0] * cov[1, 1])\n",
    "    # Using a special case to obtain the eigenvalues of this\n",
    "    # two-dimensionl dataset.\n",
    "    ell_radius_x = np.sqrt(1 + pearson)\n",
    "    ell_radius_y = np.sqrt(1 - pearson)\n",
    "    ellipse = Ellipse((0, 0), width=ell_radius_x * 2, height=ell_radius_y * 2,\n",
    "                      facecolor=facecolor, **kwargs)\n",
    "\n",
    "    # Calculating the stdandard deviation of x from\n",
    "    # the squareroot of the variance and multiplying\n",
    "    # with the given number of standard deviations.\n",
    "    scale_x = np.sqrt(cov[0, 0]) * n_std\n",
    "    mean_x = np.mean(x)\n",
    "\n",
    "    # calculating the stdandard deviation of y ...\n",
    "    scale_y = np.sqrt(cov[1, 1]) * n_std\n",
    "    mean_y = np.mean(y)\n",
    "\n",
    "    transf = transforms.Affine2D() \\\n",
    "        .rotate_deg(45) \\\n",
    "        .scale(scale_x, scale_y) \\\n",
    "        .translate(mean_x, mean_y)\n",
    "\n",
    "    ellipse.set_transform(transf + ax.transData)\n",
    "    return ax.add_patch(ellipse)"
   ]
  },
  {
   "cell_type": "code",
   "execution_count": 3,
   "metadata": {},
   "outputs": [],
   "source": [
    "def std_ellipse(x, y, ax, n_std=1, facecolor='none', **kwargs):\n",
    "    \"\"\"\n",
    "    Create a plot of the standar desviation ellipse of *x* and *y*.\n",
    "\n",
    "    Parameters\n",
    "    ----------\n",
    "    x, y : array-like, shape (n, )\n",
    "        Input data.\n",
    "\n",
    "    ax : matplotlib.axes.Axes\n",
    "        The axes object to draw the ellipse into.\n",
    "\n",
    "    n_std : float\n",
    "        The number of standard deviations to determine the ellipse's radiuses.\n",
    "\n",
    "    **kwargs\n",
    "        Forwarded to `~matplotlib.patches.Ellipse`\n",
    "\n",
    "    Returns\n",
    "    -------\n",
    "    matplotlib.patches.Ellipse\n",
    "    \n",
    "    \n",
    "    \"\"\"\n",
    "    # two-dimensionl dataset.\n",
    "\n",
    "    \n",
    "    ellipse = Ellipse((np.mean(x), np.mean(y)), width=np.std(x) * 2 , height=np.std(y) * 2,\n",
    "                      facecolor=facecolor, **kwargs)\n",
    "\n",
    "    return ax.add_patch(ellipse)"
   ]
  },
  {
   "cell_type": "markdown",
   "metadata": {},
   "source": [
    "# Modelado Numérico de Depósitos"
   ]
  },
  {
   "cell_type": "code",
   "execution_count": 4,
   "metadata": {},
   "outputs": [],
   "source": [
    "# Ingresar Modelo de Depósito\n",
    "\n",
    "depModelDF = pd.read_csv(\"../data/25b.csv\")\n"
   ]
  },
  {
   "cell_type": "code",
   "execution_count": 5,
   "metadata": {},
   "outputs": [
    {
     "data": {
      "text/html": [
       "<div>\n",
       "<style scoped>\n",
       "    .dataframe tbody tr th:only-of-type {\n",
       "        vertical-align: middle;\n",
       "    }\n",
       "\n",
       "    .dataframe tbody tr th {\n",
       "        vertical-align: top;\n",
       "    }\n",
       "\n",
       "    .dataframe thead th {\n",
       "        text-align: right;\n",
       "    }\n",
       "</style>\n",
       "<table border=\"1\" class=\"dataframe\">\n",
       "  <thead>\n",
       "    <tr style=\"text-align: right;\">\n",
       "      <th></th>\n",
       "      <th>yacName</th>\n",
       "      <th>Loc</th>\n",
       "      <th>tonn</th>\n",
       "      <th>Au</th>\n",
       "      <th>Ag</th>\n",
       "      <th>Cu</th>\n",
       "      <th>Pb</th>\n",
       "      <th>Zn</th>\n",
       "    </tr>\n",
       "  </thead>\n",
       "  <tbody>\n",
       "    <tr>\n",
       "      <th>0</th>\n",
       "      <td>ANIMAS</td>\n",
       "      <td>USA</td>\n",
       "      <td>8500000.0</td>\n",
       "      <td>0.00034</td>\n",
       "      <td>0.0099</td>\n",
       "      <td>0.45</td>\n",
       "      <td>2.0</td>\n",
       "      <td>300.0</td>\n",
       "    </tr>\n",
       "    <tr>\n",
       "      <th>1</th>\n",
       "      <td>BONANZA</td>\n",
       "      <td>USA</td>\n",
       "      <td>508000.0</td>\n",
       "      <td>0.00010</td>\n",
       "      <td>0.0237</td>\n",
       "      <td>1.20</td>\n",
       "      <td>2.6</td>\n",
       "      <td>230.0</td>\n",
       "    </tr>\n",
       "    <tr>\n",
       "      <th>2</th>\n",
       "      <td>CASAPALCA</td>\n",
       "      <td>PERU</td>\n",
       "      <td>17000000.0</td>\n",
       "      <td>0.00010</td>\n",
       "      <td>0.0161</td>\n",
       "      <td>0.30</td>\n",
       "      <td>1.8</td>\n",
       "      <td>3500.0</td>\n",
       "    </tr>\n",
       "    <tr>\n",
       "      <th>3</th>\n",
       "      <td>CHAVIN</td>\n",
       "      <td>PERU</td>\n",
       "      <td>315000.0</td>\n",
       "      <td>0.00000</td>\n",
       "      <td>0.0125</td>\n",
       "      <td>0.80</td>\n",
       "      <td>8.0</td>\n",
       "      <td>12500.0</td>\n",
       "    </tr>\n",
       "    <tr>\n",
       "      <th>4</th>\n",
       "      <td>COCO MINA</td>\n",
       "      <td>NICA</td>\n",
       "      <td>10300000.0</td>\n",
       "      <td>0.00017</td>\n",
       "      <td>0.0026</td>\n",
       "      <td>0.00</td>\n",
       "      <td>0.0</td>\n",
       "      <td>3400.0</td>\n",
       "    </tr>\n",
       "  </tbody>\n",
       "</table>\n",
       "</div>"
      ],
      "text/plain": [
       "     yacName   Loc        tonn       Au      Ag    Cu   Pb       Zn\n",
       "0     ANIMAS   USA   8500000.0  0.00034  0.0099  0.45  2.0    300.0\n",
       "1    BONANZA   USA    508000.0  0.00010  0.0237  1.20  2.6    230.0\n",
       "2  CASAPALCA  PERU  17000000.0  0.00010  0.0161  0.30  1.8   3500.0\n",
       "3     CHAVIN  PERU    315000.0  0.00000  0.0125  0.80  8.0  12500.0\n",
       "4  COCO MINA  NICA  10300000.0  0.00017  0.0026  0.00  0.0   3400.0"
      ]
     },
     "execution_count": 5,
     "metadata": {},
     "output_type": "execute_result"
    }
   ],
   "source": [
    "depModelDF.head()"
   ]
  },
  {
   "cell_type": "markdown",
   "metadata": {},
   "source": [
    "## Parametros Estadísticos"
   ]
  },
  {
   "cell_type": "code",
   "execution_count": 6,
   "metadata": {},
   "outputs": [
    {
     "name": "stdout",
     "output_type": "stream",
     "text": [
      "Población: 27\n",
      "Min: 24,000.0%, Max: 107,000,000.0%\n",
      "Media sólo como referencia: 8,191,518.5185185187 por si la distribución es log\n"
     ]
    }
   ],
   "source": [
    "columName    = \"tonn\"\n",
    "depModelTonn = depModelDF.loc[depModelDF[columName] > 0 ][columName] #Filtrar datos diferentes de cero\n",
    "depModelPob  = depModelTonn.size\n",
    "depModelMin  = depModelTonn.min()\n",
    "depModelMax  = depModelTonn.max()\n",
    "depModelMean = depModelTonn.mean()\n",
    "\n",
    "\n",
    "print(f\"Población: {depModelPob}\")\n",
    "#print(f\"Min: {depModelMin:,.2f}T, Max: {depModelMax:,.2f}T\")\n",
    "print(f\"Min: {depModelMin:,}%, Max: {depModelMax:,}%\")\n",
    "#print(f\"Media sólo como referencia: {depModelMean:,.2f}T por si la distribución es log\") #Este valor no tiene sentido porque la distribución es log\n",
    "print(f\"Media sólo como referencia: {depModelMean:,.10f} por si la distribución es log\") #Este valor no tiene sentido porque la distribución es log\n"
   ]
  },
  {
   "cell_type": "markdown",
   "metadata": {},
   "source": [
    "### Exploración Valores máximos"
   ]
  },
  {
   "cell_type": "code",
   "execution_count": 7,
   "metadata": {},
   "outputs": [
    {
     "data": {
      "text/plain": [
       "yacName    PACHUCA-R d MONTE\n",
       "Loc                     MEXI\n",
       "tonn             107000000.0\n",
       "Au                   0.00022\n",
       "Ag                    0.0461\n",
       "Cu                      0.04\n",
       "Pb                       0.2\n",
       "Zn                     750.0\n",
       "Name: 18, dtype: object"
      ]
     },
     "execution_count": 7,
     "metadata": {},
     "output_type": "execute_result"
    }
   ],
   "source": [
    "depModelDF.loc[depModelDF['tonn'].idxmax()]\n"
   ]
  },
  {
   "cell_type": "code",
   "execution_count": 8,
   "metadata": {},
   "outputs": [
    {
     "data": {
      "text/plain": [
       "yacName    URUACHIC\n",
       "Loc            MEXI\n",
       "tonn        33000.0\n",
       "Au           0.0032\n",
       "Ag            0.136\n",
       "Cu             0.15\n",
       "Pb              1.6\n",
       "Zn            200.0\n",
       "Name: 25, dtype: object"
      ]
     },
     "execution_count": 8,
     "metadata": {},
     "output_type": "execute_result"
    }
   ],
   "source": [
    "depModelDF.loc[depModelDF['Au'].idxmax()]"
   ]
  },
  {
   "cell_type": "markdown",
   "metadata": {},
   "source": [
    "### Distribución del Modelo de Depósito\n",
    "\n",
    "Comprobamos gráficamente de que se trata de una distribución logaritmica"
   ]
  },
  {
   "cell_type": "code",
   "execution_count": 9,
   "metadata": {},
   "outputs": [
    {
     "ename": "NameError",
     "evalue": "name 'freedman_diaconis' is not defined",
     "output_type": "error",
     "traceback": [
      "\u001b[0;31m---------------------------------------------------------------------------\u001b[0m",
      "\u001b[0;31mNameError\u001b[0m                                 Traceback (most recent call last)",
      "\u001b[0;32m/tmp/ipykernel_4433/1928387631.py\u001b[0m in \u001b[0;36m<module>\u001b[0;34m\u001b[0m\n\u001b[0;32m----> 1\u001b[0;31m \u001b[0mn_bins\u001b[0m \u001b[0;34m=\u001b[0m \u001b[0mfreedman_diaconis\u001b[0m\u001b[0;34m(\u001b[0m\u001b[0mdepModelTonn\u001b[0m\u001b[0;34m,\u001b[0m \u001b[0mreturnas\u001b[0m\u001b[0;34m=\u001b[0m\u001b[0;34m'bins'\u001b[0m\u001b[0;34m)\u001b[0m\u001b[0;34m\u001b[0m\u001b[0;34m\u001b[0m\u001b[0m\n\u001b[0m\u001b[1;32m      2\u001b[0m \u001b[0;34m\u001b[0m\u001b[0m\n\u001b[1;32m      3\u001b[0m \u001b[0mfig\u001b[0m\u001b[0;34m,\u001b[0m \u001b[0max\u001b[0m \u001b[0;34m=\u001b[0m \u001b[0mplt\u001b[0m\u001b[0;34m.\u001b[0m\u001b[0msubplots\u001b[0m\u001b[0;34m(\u001b[0m\u001b[0mfigsize\u001b[0m\u001b[0;34m=\u001b[0m\u001b[0;34m(\u001b[0m\u001b[0;36m8\u001b[0m\u001b[0;34m,\u001b[0m\u001b[0;36m4\u001b[0m\u001b[0;34m)\u001b[0m\u001b[0;34m)\u001b[0m\u001b[0;34m\u001b[0m\u001b[0;34m\u001b[0m\u001b[0m\n\u001b[1;32m      4\u001b[0m \u001b[0;34m\u001b[0m\u001b[0m\n\u001b[1;32m      5\u001b[0m \u001b[0;31m# Overlay a reversed cumulative histogram.\u001b[0m\u001b[0;34m\u001b[0m\u001b[0;34m\u001b[0m\u001b[0m\n",
      "\u001b[0;31mNameError\u001b[0m: name 'freedman_diaconis' is not defined"
     ]
    }
   ],
   "source": [
    "n_bins = freedman_diaconis(depModelTonn, returnas='bins')\n",
    "\n",
    "fig, ax = plt.subplots(figsize=(8,4))\n",
    "\n",
    "# Overlay a reversed cumulative histogram.\n",
    "ax.hist(depModelTonn, \n",
    "        bins=n_bins, \n",
    "        density=True, \n",
    "        histtype='stepfilled', \n",
    "        cumulative=0\n",
    "        #label='Low Suphidation Au Qrtz Veins'\n",
    "       )\n",
    "\n",
    "# tidy up the figure\n",
    "ax.grid(True)\n",
    "#ax.legend(loc='right')\n",
    "ax.set_title('Histograma')\n",
    "ax.set_xlabel('Tonelaje')\n",
    "ax.set_ylabel('Proporción de Depósitos')\n",
    "\n",
    "plt.show()"
   ]
  },
  {
   "cell_type": "markdown",
   "metadata": {},
   "source": [
    "## Estadísticos Según la Transformada Logarítmica"
   ]
  },
  {
   "cell_type": "code",
   "execution_count": 10,
   "metadata": {},
   "outputs": [
    {
     "name": "stdout",
     "output_type": "stream",
     "text": [
      "Población: 27\n",
      "Min: 4.38 log(T), Max: 8.03 log(T)\n",
      "Media: 6.15log(T), 1,414,640.95 T\n",
      "Desviación Estándar: 0.94\n",
      "Percentiles 10%: 4.85 log(T) 50%: 6.14 log(T) (mediana) 90%: 7.19 log(T)\n"
     ]
    }
   ],
   "source": [
    "'''\n",
    "Deposit density is number of deposits by 1.000 square km\n",
    "'''\n",
    "depModelTonnLog         = np.log10(depModelTonn)\n",
    "\n",
    "depModelTonnPob         = depModelTonnLog.size\n",
    "depModelTonnLogMin      = depModelTonnLog.min()\n",
    "depModelTonnLogMax      = depModelTonnLog.max()\n",
    "depModelTonnLogMean     = depModelTonnLog.mean()\n",
    "depModelTonnLogMean2dec = 10 ** depModelTonnLogMean\n",
    "depModelTonnLogStd      = depModelTonnLog.std()\n",
    "depModelTonnLog10p      = depModelTonnLog.quantile(.10)\n",
    "depModelTonnLog50p      = depModelTonnLog.quantile(.50)\n",
    "depModelTonnLog90p      = depModelTonnLog.quantile(.90)\n",
    "\n",
    "#Habria que hacer el test de normalidad para aplicar este criterio\n",
    "\n",
    "print(f\"Población: {depModelTonnPob}\")\n",
    "print(f\"Min: {depModelTonnLogMin:.2f} log(T), Max: {depModelTonnLogMax:.2f} log(T)\")\n",
    "print(f\"Media: {depModelTonnLogMean:.2f}log(T), {depModelTonnLogMean2dec:,.2f} T\")\n",
    "print(f\"Desviación Estándar: {depModelTonnLogStd:.2f}\")\n",
    "print(f\"Percentiles 10%: {depModelTonnLog10p:.2f} log(T) 50%: {depModelTonnLog50p:.2f} log(T) (mediana) 90%: {depModelTonnLog90p:.2f} log(T)\")"
   ]
  },
  {
   "cell_type": "markdown",
   "metadata": {},
   "source": [
    "## Comprobación de Normalidad del Modelo Numérico de Depósito"
   ]
  },
  {
   "cell_type": "code",
   "execution_count": 11,
   "metadata": {},
   "outputs": [
    {
     "name": "stderr",
     "output_type": "stream",
     "text": [
      "/home/gabriel/anaconda3/lib/python3.9/site-packages/statsmodels/graphics/gofplots.py:993: UserWarning: marker is redundantly defined by the 'marker' keyword argument and the fmt string \"bo\" (-> marker='o'). The keyword argument will take precedence.\n",
      "  ax.plot(x, y, fmt, **plot_style)\n"
     ]
    },
    {
     "data": {
      "image/png": "[encoded data removed]",
      "text/plain": [
       "<Figure size 432x288 with 1 Axes>"
      ]
     },
     "metadata": {
      "needs_background": "light"
     },
     "output_type": "display_data"
    }
   ],
   "source": [
    "#Comprobación gráfica de normalidad\n",
    "# q-q plot\n",
    "\n",
    "qqplot(depModelTonnLog, line='s')\n",
    "\n",
    "plt.show()"
   ]
  },
  {
   "cell_type": "code",
   "execution_count": 12,
   "metadata": {},
   "outputs": [
    {
     "name": "stdout",
     "output_type": "stream",
     "text": [
      "Estadístico=0.975, p=0.748\n"
     ]
    },
    {
     "ename": "NameError",
     "evalue": "name 'cprint' is not defined",
     "output_type": "error",
     "traceback": [
      "\u001b[0;31m---------------------------------------------------------------------------\u001b[0m",
      "\u001b[0;31mNameError\u001b[0m                                 Traceback (most recent call last)",
      "\u001b[0;32m/tmp/ipykernel_4433/972000712.py\u001b[0m in \u001b[0;36m<module>\u001b[0;34m\u001b[0m\n\u001b[1;32m     17\u001b[0m \u001b[0;34m\u001b[0m\u001b[0m\n\u001b[1;32m     18\u001b[0m \u001b[0;32mif\u001b[0m \u001b[0mp\u001b[0m \u001b[0;34m>\u001b[0m \u001b[0malpha\u001b[0m\u001b[0;34m:\u001b[0m\u001b[0;34m\u001b[0m\u001b[0;34m\u001b[0m\u001b[0m\n\u001b[0;32m---> 19\u001b[0;31m     \u001b[0mcprint\u001b[0m\u001b[0;34m(\u001b[0m\u001b[0;34m'Según Shapiro-Wilks la muestra parece tener distribución Gaussiana (NO se desecha la Hipótesis Nula)'\u001b[0m\u001b[0;34m,\u001b[0m\u001b[0;34m'red'\u001b[0m\u001b[0;34m,\u001b[0m  \u001b[0mattrs\u001b[0m\u001b[0;34m=\u001b[0m\u001b[0;34m[\u001b[0m\u001b[0;34m'bold'\u001b[0m\u001b[0;34m]\u001b[0m\u001b[0;34m)\u001b[0m\u001b[0;34m\u001b[0m\u001b[0;34m\u001b[0m\u001b[0m\n\u001b[0m\u001b[1;32m     20\u001b[0m \u001b[0;32melse\u001b[0m\u001b[0;34m:\u001b[0m\u001b[0;34m\u001b[0m\u001b[0;34m\u001b[0m\u001b[0m\n\u001b[1;32m     21\u001b[0m     \u001b[0mcprint\u001b[0m\u001b[0;34m(\u001b[0m\u001b[0;34m'Según Shapiro-Wilk la muestra NO parece tener distribución Gaussiana (se desecha la Hipótesis Nula)'\u001b[0m\u001b[0;34m,\u001b[0m\u001b[0;34m'red'\u001b[0m\u001b[0;34m,\u001b[0m  \u001b[0mattrs\u001b[0m\u001b[0;34m=\u001b[0m\u001b[0;34m[\u001b[0m\u001b[0;34m'bold'\u001b[0m\u001b[0;34m]\u001b[0m\u001b[0;34m)\u001b[0m\u001b[0;34m\u001b[0m\u001b[0;34m\u001b[0m\u001b[0m\n",
      "\u001b[0;31mNameError\u001b[0m: name 'cprint' is not defined"
     ]
    }
   ],
   "source": [
    "# normality test\n",
    "\n",
    "'''\n",
    "Statistic: A quantity calculated by the test that can be interpreted in the context of the test via comparing \n",
    "it to critical values from the distribution of the test statistic.\n",
    "p-value: Used to interpret the test, in this case whether the sample was drawn from a Gaussian distribution.\n",
    "\n",
    "'''\n",
    "\n",
    "stat, p = shapiro(depModelTonnLog)\n",
    "\n",
    "print('Estadístico=%.3f, p=%.3f' % (stat, p))\n",
    "\n",
    "# interpret\n",
    "\n",
    "alpha = 0.05\n",
    "\n",
    "if p > alpha:\n",
    "    cprint('Según Shapiro-Wilks la muestra parece tener distribución Gaussiana (NO se desecha la Hipótesis Nula)','red',  attrs=['bold'])\n",
    "else:\n",
    "    cprint('Según Shapiro-Wilk la muestra NO parece tener distribución Gaussiana (se desecha la Hipótesis Nula)','red',  attrs=['bold'])"
   ]
  },
  {
   "cell_type": "markdown",
   "metadata": {},
   "source": [
    "If the p value is less than the chosen alpha level, then the null hypothesis is rejected and there is evidence that the data tested are not normally distributed. On the other hand, if the p value is greater than the chosen alpha level, then the null hypothesis that the data came from a normally distributed population can not be rejected (e.g., for an alpha level of .05, a data set with a p value of less than .05 rejects the null hypothesis that the data are from a normally distributed population).\n",
    "\n",
    "Like most statistical significance tests, if the sample size is sufficiently large this test may detect even trivial departures from the null hypothesis (i.e., although there may be some statistically significant effect, it may be too small to be of any practical significance); thus, additional investigation of the effect size is typically advisable, e.g., a Q–Q plot in this case. (from Wikipedia)\n",
    "\n",
    "p-values are very dependent on sample sizes. With a large sample, almost anything desviation can be significant."
   ]
  },
  {
   "cell_type": "code",
   "execution_count": 13,
   "metadata": {},
   "outputs": [
    {
     "name": "stdout",
     "output_type": "stream",
     "text": [
      "KstestResult(statistic=0.999994071784309, pvalue=1.479033130321458e-141)\n"
     ]
    }
   ],
   "source": [
    "#The KS test is only valid for continuous distributions.\n",
    "#https://docs.scipy.org/doc/scipy-0.14.0/reference/generated/scipy.stats.kstest.html\n",
    "\n",
    "ksResult = kstest(depModelTonnLog, 'norm')\n",
    "print(ksResult)"
   ]
  },
  {
   "cell_type": "code",
   "execution_count": 14,
   "metadata": {},
   "outputs": [
    {
     "ename": "NameError",
     "evalue": "name 'freedman_diaconis' is not defined",
     "output_type": "error",
     "traceback": [
      "\u001b[0;31m---------------------------------------------------------------------------\u001b[0m",
      "\u001b[0;31mNameError\u001b[0m                                 Traceback (most recent call last)",
      "\u001b[0;32m/tmp/ipykernel_4433/2235883469.py\u001b[0m in \u001b[0;36m<module>\u001b[0;34m\u001b[0m\n\u001b[0;32m----> 1\u001b[0;31m \u001b[0mn_bins\u001b[0m \u001b[0;34m=\u001b[0m \u001b[0mfreedman_diaconis\u001b[0m\u001b[0;34m(\u001b[0m\u001b[0mdepModelTonnLog\u001b[0m\u001b[0;34m,\u001b[0m \u001b[0mreturnas\u001b[0m\u001b[0;34m=\u001b[0m\u001b[0;34m'bins'\u001b[0m\u001b[0;34m)\u001b[0m\u001b[0;34m\u001b[0m\u001b[0;34m\u001b[0m\u001b[0m\n\u001b[0m\u001b[1;32m      2\u001b[0m \u001b[0;34m\u001b[0m\u001b[0m\n\u001b[1;32m      3\u001b[0m \u001b[0mfig\u001b[0m\u001b[0;34m,\u001b[0m \u001b[0max\u001b[0m \u001b[0;34m=\u001b[0m \u001b[0mplt\u001b[0m\u001b[0;34m.\u001b[0m\u001b[0msubplots\u001b[0m\u001b[0;34m(\u001b[0m\u001b[0mfigsize\u001b[0m\u001b[0;34m=\u001b[0m\u001b[0;34m(\u001b[0m\u001b[0;36m8\u001b[0m\u001b[0;34m,\u001b[0m\u001b[0;36m8\u001b[0m\u001b[0;34m)\u001b[0m\u001b[0;34m)\u001b[0m\u001b[0;34m\u001b[0m\u001b[0;34m\u001b[0m\u001b[0m\n\u001b[1;32m      4\u001b[0m \u001b[0;34m\u001b[0m\u001b[0m\n\u001b[1;32m      5\u001b[0m \u001b[0;31m# Overlay a reversed cumulative histogram.\u001b[0m\u001b[0;34m\u001b[0m\u001b[0;34m\u001b[0m\u001b[0m\n",
      "\u001b[0;31mNameError\u001b[0m: name 'freedman_diaconis' is not defined"
     ]
    }
   ],
   "source": [
    "n_bins = freedman_diaconis(depModelTonnLog, returnas='bins')\n",
    "\n",
    "fig, ax = plt.subplots(figsize=(8,8))\n",
    "\n",
    "# Overlay a reversed cumulative histogram.\n",
    "ax.hist(depModelTonnLog, \n",
    "        bins=n_bins, \n",
    "        density=True, \n",
    "        histtype='stepfilled', \n",
    "        cumulative=0\n",
    "        #label='Low Suphidation Au Qrtz Veins'\n",
    "       )\n",
    "\n",
    "# tidy up the figure\n",
    "ax.grid(True)\n",
    "#ax.legend(loc='right')\n",
    "ax.set_title('Histograma')\n",
    "ax.set_xlabel('Tonelaje (log10)')\n",
    "ax.set_ylabel('Nro. de Depósitos')\n",
    "\n",
    "plt.show()"
   ]
  },
  {
   "cell_type": "code",
   "execution_count": 15,
   "metadata": {},
   "outputs": [
    {
     "name": "stdout",
     "output_type": "stream",
     "text": [
      "El 80% de los tonelages se encuentran entre 71,349 y  15,388,527 T\n",
      "El valor medio será de 1,414,640.95 T\n"
     ]
    }
   ],
   "source": [
    "#Calculo del rango de tonelage entre log percentil 10 y 90\n",
    "depModelTonnLog10p2Dec = 10 ** depModelTonnLog10p\n",
    "depModelTonnLog90p2Dec = 10 ** depModelTonnLog90p\n",
    "\n",
    "print(f\"El 80% de los tonelages se encuentran entre {depModelTonnLog10p2Dec:,.0f} y  {depModelTonnLog90p2Dec:,.0f} T\")\n",
    "print(f'El valor medio será de {depModelTonnLogMean2dec:,.2f} T')"
   ]
  },
  {
   "cell_type": "markdown",
   "metadata": {},
   "source": [
    "**Habria que hacer el análisis de Normalidad a las Leyes**"
   ]
  },
  {
   "cell_type": "markdown",
   "metadata": {},
   "source": [
    "## Estadísticos para  Menas (Au, Ag)"
   ]
  },
  {
   "cell_type": "code",
   "execution_count": 16,
   "metadata": {},
   "outputs": [
    {
     "name": "stdout",
     "output_type": "stream",
     "text": [
      "Población: 27\n",
      "Min: -4.69897%, Max: -2.49485%\n",
      "Media: -3.67345\n",
      "Desviación Estándar: 0.57447\n",
      "Percentiles 10%: -4.52288% 50%: -3.65758% (mediana) 90%: -2.97999%\n"
     ]
    }
   ],
   "source": [
    "LogAu     = np.log10(depModelDF.loc[depModelDF['Au'] > 0 ]['Au'])\n",
    "LogTonnAu = np.log10(depModelDF.loc[depModelDF['Au'] > 0 ]['tonn'])\n",
    "\n",
    "LogAg     = np.log10(depModelDF.loc[depModelDF['Ag'] > 0 ]['Ag'])\n",
    "LogTonnAg = np.log10(depModelDF.loc[depModelDF['Ag'] > 0 ]['tonn'])\n",
    "\n",
    "\n",
    "LogAuMin  = LogAu.min()\n",
    "LogAuMax  = LogAu.max()\n",
    "LogAuMean = np.mean(LogAu)\n",
    "LogAuStd  = np.std(LogAu)\n",
    "LogAu10p  = np.percentile(LogAu, 10)\n",
    "LogAu50p  = np.percentile(LogAu, 50)\n",
    "LogAu90p  = np.percentile(LogAu, 90)\n",
    "\n",
    "#Habria que hacer el test de normalidad para aplicar este criterio\n",
    "\n",
    "print(f\"Población: {depModelTonnPob}\")\n",
    "print(f\"Min: {LogAuMin:.5f}%, Max: {LogAuMax:.5f}%\")\n",
    "print(f\"Media: {LogAuMean:.5f}\")\n",
    "print(f\"Desviación Estándar: {LogAuStd:.5f}\")\n",
    "print(f\"Percentiles 10%: {LogAu10p:.5f}% 50%: {LogAu50p:.5f}% (mediana) 90%: {LogAu90p:.5f}%\")\n",
    "\n",
    "#para pasar de % a gramos por tonelada hay que multiplicar por 10.000"
   ]
  },
  {
   "cell_type": "markdown",
   "metadata": {},
   "source": [
    "## Correlación entre Tonelaje y Ley\n",
    "Habría que poner el cuadro en una escala correcta para comparación"
   ]
  },
  {
   "cell_type": "markdown",
   "metadata": {},
   "source": [
    "### Correlación"
   ]
  },
  {
   "cell_type": "code",
   "execution_count": 17,
   "metadata": {},
   "outputs": [
    {
     "name": "stdout",
     "output_type": "stream",
     "text": [
      "El coficiente de correlación de Pearson es de: -0.37\n",
      "El valor calculado de p es de : 0.0794\n",
      "\n"
     ]
    },
    {
     "ename": "NameError",
     "evalue": "name 'cprint' is not defined",
     "output_type": "error",
     "traceback": [
      "\u001b[0;31m---------------------------------------------------------------------------\u001b[0m",
      "\u001b[0;31mNameError\u001b[0m                                 Traceback (most recent call last)",
      "\u001b[0;32m/tmp/ipykernel_4433/378905905.py\u001b[0m in \u001b[0;36m<module>\u001b[0;34m\u001b[0m\n\u001b[1;32m     16\u001b[0m     \u001b[0mcprint\u001b[0m\u001b[0;34m(\u001b[0m\u001b[0;34m\"La relación tiene pendiente positiva\"\u001b[0m\u001b[0;34m,\u001b[0m\u001b[0;34m'red'\u001b[0m\u001b[0;34m,\u001b[0m  \u001b[0mattrs\u001b[0m\u001b[0;34m=\u001b[0m\u001b[0;34m[\u001b[0m\u001b[0;34m'bold'\u001b[0m\u001b[0;34m]\u001b[0m\u001b[0;34m)\u001b[0m\u001b[0;34m\u001b[0m\u001b[0;34m\u001b[0m\u001b[0m\n\u001b[1;32m     17\u001b[0m \u001b[0;32melse\u001b[0m\u001b[0;34m:\u001b[0m\u001b[0;34m\u001b[0m\u001b[0;34m\u001b[0m\u001b[0m\n\u001b[0;32m---> 18\u001b[0;31m     \u001b[0mcprint\u001b[0m\u001b[0;34m(\u001b[0m\u001b[0;34m\"La relación tiene pendiente negativa\"\u001b[0m\u001b[0;34m,\u001b[0m\u001b[0;34m'red'\u001b[0m\u001b[0;34m,\u001b[0m  \u001b[0mattrs\u001b[0m\u001b[0;34m=\u001b[0m\u001b[0;34m[\u001b[0m\u001b[0;34m'bold'\u001b[0m\u001b[0;34m]\u001b[0m\u001b[0;34m)\u001b[0m\u001b[0;34m\u001b[0m\u001b[0;34m\u001b[0m\u001b[0m\n\u001b[0m\u001b[1;32m     19\u001b[0m \u001b[0;34m\u001b[0m\u001b[0m\n\u001b[1;32m     20\u001b[0m \u001b[0;34m\u001b[0m\u001b[0m\n",
      "\u001b[0;31mNameError\u001b[0m: name 'cprint' is not defined"
     ]
    }
   ],
   "source": [
    "covarianceTonnAu = np.cov(LogTonnAu,LogAu) #Calculo de la MATRIZ de covarianza\n",
    "\n",
    "'''\n",
    " Coeficiente de Correlación de Pearson\n",
    " It is the normalization of the covariance between the two variables to give an interpretable score.\n",
    " Pearson's correlation coefficient = covariance(X, Y) / (stdv(X) * stdv(Y))\n",
    "'''\n",
    "corr, p  = pearsonr(LogTonnAu,LogAu)\n",
    "\n",
    "print(f\"El coficiente de correlación de Pearson es de: {corr:.2f}\")\n",
    "print(f\"El valor calculado de p es de : {p:.4f}\")\n",
    "\n",
    "print()\n",
    "\n",
    "if corr > 0:\n",
    "    cprint(\"La relación tiene pendiente positiva\",'red',  attrs=['bold'])\n",
    "else:\n",
    "    cprint(\"La relación tiene pendiente negativa\",'red',  attrs=['bold'])\n",
    "    \n",
    "    \n",
    "# Esto habría que definirlo en términos de clasificación fuzzy\n",
    "\n",
    "if abs(corr) > 0.5 :\n",
    "    cprint(\"El índice de correlación parece indicar que la misma es fuerte\",'red',  attrs=['bold'])\n",
    "elif abs(corr) <= 0.5 and abs(corr) > 0:\n",
    "    cprint(\"El índice de correlación parece indicar que la misma es débil\",'red',  attrs=['bold'])\n",
    "elif corr == 0:\n",
    "    cprint(\"El índice define que no hay correlación\",'red',  attrs=['bold'])\n"
   ]
  },
  {
   "cell_type": "code",
   "execution_count": 18,
   "metadata": {},
   "outputs": [
    {
     "name": "stdout",
     "output_type": "stream",
     "text": [
      "Regression line: y=-2.12+-0.25x, r=-0.37\n"
     ]
    }
   ],
   "source": [
    "# Regression\n",
    "\n",
    "slope, intercept, r, p, stderr = stats.linregress(LogTonnAu,LogAu)\n",
    "\n",
    "line = f'Regression line: y={intercept:.2f}+{slope:.2f}x, r={r:.2f}'\n",
    "print(line)"
   ]
  },
  {
   "cell_type": "markdown",
   "metadata": {},
   "source": [
    "y=-2.09+-0.18x, r=-0.33\n",
    "\n",
    "Valor teórico del Ley/Grado para el tonelaje dado\n",
    "\n",
    "10 <sup>-( 2,09 + 0,18 * log10(9.840.000))</sup>= 0,000447982 %"
   ]
  },
  {
   "cell_type": "markdown",
   "metadata": {},
   "source": [
    "### Diagrama de Disperción"
   ]
  },
  {
   "cell_type": "code",
   "execution_count": 19,
   "metadata": {},
   "outputs": [
    {
     "data": {
      "image/png": "[encoded data removed]",
      "text/plain": [
       "<Figure size 1080x1080 with 3 Axes>"
      ]
     },
     "metadata": {
      "needs_background": "light"
     },
     "output_type": "display_data"
    }
   ],
   "source": [
    "from mpl_toolkits.axes_grid1 import make_axes_locatable\n",
    "\n",
    "fig, axScatter = plt.subplots(figsize=(15, 15))\n",
    "\n",
    "# the scatter plot:\n",
    "axScatter.scatter(LogTonnAu, LogAu)\n",
    "axScatter.scatter(LogTonnAg, LogAg)\n",
    "axScatter.set_aspect(1.)\n",
    "fig.suptitle('Correlación entre Tonelaje y Menas', fontsize=16)\n",
    "\n",
    "axScatter.set_xlabel('Tonelaje')\n",
    "axScatter.set_ylabel('Leyes %')\n",
    "\n",
    "#Regression\n",
    "#axScatter.plot(LSQVLog, intercept + slope * LSQVLog, label=line) #Hay diferencias entre la ellipse y la regresion\n",
    "\n",
    "# create new axes on the right and on the top of the current axes\n",
    "# The first argument of the new_vertical(new_horizontal) method is\n",
    "# the height (width) of the axes to be created in inches.\n",
    "divider = make_axes_locatable(axScatter)\n",
    "axHistx = divider.append_axes(\"top\", 1.2, pad=0.1, sharex=axScatter)\n",
    "axHisty = divider.append_axes(\"right\", 1.2, pad=0.1, sharey=axScatter)\n",
    "\n",
    "# make some labels invisible\n",
    "axHistx.xaxis.set_tick_params(labelbottom=False)\n",
    "axHisty.yaxis.set_tick_params(labelleft=False)\n",
    "\n",
    "# now determine nice limits by hand:\n",
    "binwidth = 0.2\n",
    "xymax = max(np.max(np.abs(LogTonnAu)), np.max(np.abs(LogAu)))\n",
    "lim = (int(xymax/binwidth) + 1)*binwidth\n",
    "\n",
    "bins = np.arange(-lim, lim + binwidth, binwidth)\n",
    "axHistx.hist(LogTonnAu, bins=bins)\n",
    "axHisty.hist(LogAu, bins=bins, orientation='horizontal')\n",
    "axHisty.hist(LogAg, bins=bins, orientation='horizontal')\n",
    "\n",
    "confidence_ellipse(LogTonnAu, LogAu, axScatter, 2, edgecolor='red')\n",
    "confidence_ellipse(LogTonnAg, LogAg, axScatter, 2, edgecolor='grey')\n",
    "\n",
    "# the xaxis of axHistx and yaxis of axHisty are shared with axScatter,\n",
    "# thus there is no need to manually adjust the xlim and ylim of these\n",
    "# axis.\n",
    "\n",
    "axHistx.set_yticks([0, 5])\n",
    "\n",
    "axHisty.set_xticks([0, 5])\n",
    "\n",
    "\n",
    "plt.show()"
   ]
  },
  {
   "cell_type": "markdown",
   "metadata": {},
   "source": [
    "## Diagrama Tonelaje Ley"
   ]
  },
  {
   "cell_type": "code",
   "execution_count": 20,
   "metadata": {},
   "outputs": [
    {
     "ename": "NameError",
     "evalue": "name 'LSQVLog' is not defined",
     "output_type": "error",
     "traceback": [
      "\u001b[0;31m---------------------------------------------------------------------------\u001b[0m",
      "\u001b[0;31mNameError\u001b[0m                                 Traceback (most recent call last)",
      "\u001b[0;32m/tmp/ipykernel_4433/287665267.py\u001b[0m in \u001b[0;36m<module>\u001b[0;34m\u001b[0m\n\u001b[1;32m     10\u001b[0m \u001b[0;34m\u001b[0m\u001b[0m\n\u001b[1;32m     11\u001b[0m \u001b[0;31m# the scatter plot:\u001b[0m\u001b[0;34m\u001b[0m\u001b[0;34m\u001b[0m\u001b[0m\n\u001b[0;32m---> 12\u001b[0;31m \u001b[0maxScatter\u001b[0m\u001b[0;34m.\u001b[0m\u001b[0mscatter\u001b[0m\u001b[0;34m(\u001b[0m\u001b[0mLSQVLog\u001b[0m\u001b[0;34m,\u001b[0m \u001b[0mLSQVLogAu\u001b[0m\u001b[0;34m)\u001b[0m\u001b[0;34m\u001b[0m\u001b[0;34m\u001b[0m\u001b[0m\n\u001b[0m\u001b[1;32m     13\u001b[0m \u001b[0;34m\u001b[0m\u001b[0m\n\u001b[1;32m     14\u001b[0m \u001b[0;31m#Lineas de igual ley x tonelaje\u001b[0m\u001b[0;34m\u001b[0m\u001b[0;34m\u001b[0m\u001b[0m\n",
      "\u001b[0;31mNameError\u001b[0m: name 'LSQVLog' is not defined"
     ]
    },
    {
     "data": {
      "image/png": "[encoded data removed]",
      "text/plain": [
       "<Figure size 1080x504 with 1 Axes>"
      ]
     },
     "metadata": {
      "needs_background": "light"
     },
     "output_type": "display_data"
    }
   ],
   "source": [
    "# Diagrama Tonelaje y Ley para Au Agrupados Tipo de Modelo de Yacimiento\n",
    "\n",
    "from mpl_toolkits.axes_grid1 import make_axes_locatable\n",
    "\n",
    "fig, axScatter = plt.subplots(figsize=(15, 7))\n",
    "\n",
    "# parametros del subplot\n",
    "axScatter.set_xlim(4,11)\n",
    "axScatter.set_ylim(-5, -2)\n",
    "\n",
    "# the scatter plot:\n",
    "axScatter.scatter(LSQVLog, LSQVLogAu)\n",
    "\n",
    "#Lineas de igual ley x tonelaje\n",
    "AuxTonneX = [4,8]\n",
    "AuxTonneY = [ -2,-6]\n",
    "axScatter.plot(AuxTonneX, AuxTonneY, label='1T Au', linewidth=2, color='gray',linestyle='dashed')\n",
    "\n",
    "AuxTonneX = [4,9]\n",
    "AuxTonneY = [ -1,-6]\n",
    "axScatter.plot(AuxTonneX, AuxTonneY, label='10T Au', linewidth=2, color='gray',linestyle='dashed')\n",
    "\n",
    "AuxTonneX = [4,10]\n",
    "AuxTonneY = [ -0,-6]\n",
    "axScatter.plot(AuxTonneX, AuxTonneY, label='100T Au', linewidth=2, color='gray',linestyle='dashed')\n",
    "\n",
    "AuxTonneX = [4,11]\n",
    "AuxTonneY = [ 1,-6]\n",
    "axScatter.plot(AuxTonneX, AuxTonneY, label='1000T Au', linewidth=2, color='gray',linestyle='dashed')\n",
    "\n",
    "AuxTonneX = [4,12]\n",
    "AuxTonneY = [ 2,-6]\n",
    "axScatter.plot(AuxTonneX, AuxTonneY, label='10000T Au', linewidth=2, color='gray',linestyle='dashed')\n",
    "#axScatter.set_aspect(1.)\n",
    "fig.suptitle('Diagrama Tonelaje y Ley para Au Agrupados por Tipo de Modelo de Yacimiento', fontsize=16)\n",
    "\n",
    "axScatter.set_xlabel('Promedio de Tonelaje')\n",
    "axScatter.set_ylabel('Promedio de Leyes %')\n",
    "\n",
    "axScatter.text( 7,-4.9,'1T Au',rotation=-45, horizontalalignment='right')\n",
    "axScatter.text(8,-4.9,'10T Au',rotation=-45, horizontalalignment='right')\n",
    "axScatter.text(9,-4.9,'100T Au',rotation=-45, horizontalalignment='right')\n",
    "axScatter.text(10,-4.9,'1000T Au',rotation=-45, horizontalalignment='right')\n",
    "\n",
    "\n",
    "#axHisty.yaxis.set_tick_params(labelleft=False)\n",
    "\n",
    "\n",
    "std_ellipse(LSQVLog, LSQVLogAu, axScatter, 1, edgecolor='red')\n",
    "\n",
    "\n",
    "\n",
    "\n",
    "plt.show()"
   ]
  },
  {
   "cell_type": "markdown",
   "metadata": {},
   "source": [
    "### Hay que ver bien como se definen los limites de y y en que unidades\n",
    "\n",
    "Hay que dibujar la función de correlación y los parámetros\n",
    "A la función de correlación se le dibuja el intervalo de confidencia que según singer puede ser 80%\n",
    "Para el caso de que no haya correlación hay que definir un umbral para que no se dibuje"
   ]
  },
  {
   "cell_type": "markdown",
   "metadata": {},
   "source": [
    "# Diagramas Bivariados. Comparación de Contenido y Calidad \n",
    "Hay que hacer el diagrama de scatter con elipse centro del promedio de la variable independiente y dependiente \n",
    "y radio 1sd. \n",
    "\n",
    "Los yacimientos gigantes se representan con un elefante.\n",
    "\n",
    "La linea oblicua define el contenido total del yacimiento?. Debería ser tonelaje * ley"
   ]
  },
  {
   "cell_type": "markdown",
   "metadata": {},
   "source": [
    "# EDA DEL YACIMIENTO"
   ]
  },
  {
   "cell_type": "markdown",
   "metadata": {},
   "source": [
    "## Datos del Yacimiento a Estudiar"
   ]
  },
  {
   "cell_type": "markdown",
   "metadata": {},
   "source": [
    "The current resource contains 9.84 million tonnes at 2.36 g/t AuEq for 746,000 oz in the Indicated category and a further"
   ]
  },
  {
   "cell_type": "code",
   "execution_count": 21,
   "metadata": {},
   "outputs": [
    {
     "name": "stdout",
     "output_type": "stream",
     "text": [
      "Calcatreu v49\n",
      "6.893761762057943\n",
      "-3.642065152999546%\n",
      "\n",
      "Castro Sur\n",
      "6.303196057420489\n",
      "-3.853871964321762\n"
     ]
    }
   ],
   "source": [
    "depName = 'Calcatreu v49-Nelson'\n",
    "calcatreuIndicTonn = 7.83 * 10 ** 6\n",
    "calcatreuAu        = 2.28\n",
    "calcatreuAg        = 20.29\n",
    "\n",
    "castroSurIndicTonn = 2.010 * 10 ** 6\n",
    "castroSurAu        = 1.40\n",
    "castroSurAg        = 14.77\n",
    "\n",
    "calcatreuIndicLogTonn = np.log10(calcatreuIndicTonn)\n",
    "calcatreuLogAu        = np.log10(calcatreuAu /10000) #g/t a %\n",
    "\n",
    "castroSurIndicLogTonn = np.log10(castroSurIndicTonn)\n",
    "castroSurLogAu        = np.log10(castroSurAu / 10000)\n",
    "castroSurLogAg        = np.log10(castroSurAg)\n",
    "\n",
    "print('Calcatreu v49')\n",
    "print(calcatreuIndicLogTonn)\n",
    "print(f\"{calcatreuLogAu}%\")\n",
    "\n",
    "print()\n",
    "\n",
    "print('Castro Sur')\n",
    "print(castroSurIndicLogTonn)\n",
    "print(castroSurLogAu)"
   ]
  },
  {
   "cell_type": "code",
   "execution_count": 22,
   "metadata": {},
   "outputs": [
    {
     "ename": "NameError",
     "evalue": "name 'LSQVLogMean' is not defined",
     "output_type": "error",
     "traceback": [
      "\u001b[0;31m---------------------------------------------------------------------------\u001b[0m",
      "\u001b[0;31mNameError\u001b[0m                                 Traceback (most recent call last)",
      "\u001b[0;32m/tmp/ipykernel_4433/2768217051.py\u001b[0m in \u001b[0;36m<module>\u001b[0;34m\u001b[0m\n\u001b[0;32m----> 1\u001b[0;31m \u001b[0mLSQVLogRandom\u001b[0m \u001b[0;34m=\u001b[0m \u001b[0mrandom\u001b[0m\u001b[0;34m.\u001b[0m\u001b[0mnormal\u001b[0m\u001b[0;34m(\u001b[0m\u001b[0mloc\u001b[0m\u001b[0;34m=\u001b[0m\u001b[0mLSQVLogMean\u001b[0m\u001b[0;34m,\u001b[0m \u001b[0mscale\u001b[0m\u001b[0;34m=\u001b[0m\u001b[0mLSQVLogStd\u001b[0m\u001b[0;34m,\u001b[0m \u001b[0msize\u001b[0m\u001b[0;34m=\u001b[0m\u001b[0;34m(\u001b[0m\u001b[0;36m100000\u001b[0m\u001b[0;34m)\u001b[0m\u001b[0;34m)\u001b[0m\u001b[0;34m\u001b[0m\u001b[0;34m\u001b[0m\u001b[0m\n\u001b[0m\u001b[1;32m      2\u001b[0m \u001b[0;34m\u001b[0m\u001b[0m\n\u001b[1;32m      3\u001b[0m \u001b[0;34m\u001b[0m\u001b[0m\n\u001b[1;32m      4\u001b[0m \u001b[0mn_bins\u001b[0m \u001b[0;34m=\u001b[0m \u001b[0;36m50\u001b[0m\u001b[0;34m\u001b[0m\u001b[0;34m\u001b[0m\u001b[0m\n\u001b[1;32m      5\u001b[0m \u001b[0mn_bins\u001b[0m\u001b[0;34m=\u001b[0m\u001b[0mfreedman_diaconis\u001b[0m\u001b[0;34m(\u001b[0m\u001b[0mLSQVLog\u001b[0m\u001b[0;34m,\u001b[0m \u001b[0mreturnas\u001b[0m\u001b[0;34m=\u001b[0m\u001b[0;34m\"bins\"\u001b[0m\u001b[0;34m)\u001b[0m\u001b[0;34m\u001b[0m\u001b[0;34m\u001b[0m\u001b[0m\n",
      "\u001b[0;31mNameError\u001b[0m: name 'LSQVLogMean' is not defined"
     ]
    }
   ],
   "source": [
    "LSQVLogRandom = random.normal(loc=LSQVLogMean, scale=LSQVLogStd, size=(100000))\n",
    "\n",
    "\n",
    "n_bins = 50\n",
    "n_bins=freedman_diaconis(LSQVLog, returnas=\"bins\")\n",
    "\n",
    "fig, ax = plt.subplots(figsize=(16,8))\n",
    "\n",
    "# Overlay a reversed cumulative histogram.\n",
    "ax.hist(LSQVLog, \n",
    "        bins=n_bins, \n",
    "        density=True, \n",
    "        histtype='stepfilled', \n",
    "        cumulative=0,\n",
    "        label='Función de Probabilidad de Masa (PMF)'\n",
    "       )\n",
    "\n",
    "xMax = LSQVLogMean + 3.5 * LSQVLogStd\n",
    "xMin = LSQVLogMean - 3.5 * LSQVLogStd\n",
    "x = np.linspace(xMin, xMax, 100)\n",
    "ax.plot(x, norm.pdf(x, LSQVLogMean, LSQVLogStd), label='Distribución teórica (PDF)', color='black', linestyle='dashed')\n",
    "\n",
    "\n",
    "#Yacimiento\n",
    "\n",
    "#Valor del yacimiento en la funcion de probabilidad\n",
    "zYac = norm.pdf(calcatreuIndicLogTonn, LSQVLogMean, LSQVLogStd) \n",
    "ax.plot([calcatreuIndicLogTonn], [zYac], marker='o', markersize=5, color='red')\n",
    "ax.text(calcatreuIndicLogTonn, zYac +.015,'Calcatreu',rotation=90)\n",
    "#/Yacimiento\n",
    "\n",
    "\n",
    "ax.axvline(x=LSQVLog10p, color='r')\n",
    "ax.text(LSQVLog10p,-0.04,'10%',rotation=90)\n",
    "\n",
    "ax.axvline(x=LSQVLog50p, color='r')\n",
    "ax.text(LSQVLog50p,-0.04,'50%',rotation=90)\n",
    "\n",
    "ax.axvline(x=LSQVLog90p, color='r')\n",
    "ax.text(LSQVLog90p,-0.04,'90%',rotation=90)\n",
    "\n",
    "# tidy up the figure\n",
    "ax.grid(True)\n",
    "ax.legend(loc='right')\n",
    "ax.set_title('Histograma Transformada Log 10')\n",
    "ax.set_xlabel('Log Tonn ')\n",
    "ax.set_ylabel('Proporción de Depósitos')\n",
    "#ax.set_xscale('log')\n",
    "\n",
    "plt.show()"
   ]
  },
  {
   "cell_type": "markdown",
   "metadata": {},
   "source": [
    "Percentiles calculados en base a la muestra"
   ]
  },
  {
   "cell_type": "code",
   "execution_count": 23,
   "metadata": {},
   "outputs": [
    {
     "ename": "NameError",
     "evalue": "name 'zYac' is not defined",
     "output_type": "error",
     "traceback": [
      "\u001b[0;31m---------------------------------------------------------------------------\u001b[0m",
      "\u001b[0;31mNameError\u001b[0m                                 Traceback (most recent call last)",
      "\u001b[0;32m/tmp/ipykernel_4433/4240345883.py\u001b[0m in \u001b[0;36m<module>\u001b[0;34m\u001b[0m\n\u001b[0;32m----> 1\u001b[0;31m \u001b[0mprint\u001b[0m\u001b[0;34m(\u001b[0m\u001b[0;34mf'Probabilidad de ocurrencia: {zYac:.3f}'\u001b[0m\u001b[0;34m)\u001b[0m\u001b[0;34m\u001b[0m\u001b[0;34m\u001b[0m\u001b[0m\n\u001b[0m",
      "\u001b[0;31mNameError\u001b[0m: name 'zYac' is not defined"
     ]
    }
   ],
   "source": [
    "print(f'Probabilidad de ocurrencia: {zYac:.3f}')"
   ]
  },
  {
   "cell_type": "code",
   "execution_count": 24,
   "metadata": {},
   "outputs": [
    {
     "ename": "NameError",
     "evalue": "name 'LSQVLog' is not defined",
     "output_type": "error",
     "traceback": [
      "\u001b[0;31m---------------------------------------------------------------------------\u001b[0m",
      "\u001b[0;31mNameError\u001b[0m                                 Traceback (most recent call last)",
      "\u001b[0;32m/tmp/ipykernel_4433/1605087917.py\u001b[0m in \u001b[0;36m<module>\u001b[0;34m\u001b[0m\n\u001b[1;32m      5\u001b[0m \u001b[0;34m\u001b[0m\u001b[0m\n\u001b[1;32m      6\u001b[0m \u001b[0;31m# Overlay a reversed cumulative histogram.\u001b[0m\u001b[0;34m\u001b[0m\u001b[0;34m\u001b[0m\u001b[0m\n\u001b[0;32m----> 7\u001b[0;31m n, bins, patches = ax.hist(LSQVLog, bins=n_bins, density=True, histtype='step', cumulative=-1,\n\u001b[0m\u001b[1;32m      8\u001b[0m         label='Tonelage')\n\u001b[1;32m      9\u001b[0m \u001b[0;34m\u001b[0m\u001b[0m\n",
      "\u001b[0;31mNameError\u001b[0m: name 'LSQVLog' is not defined"
     ]
    },
    {
     "data": {
      "image/png": "[encoded data removed]",
      "text/plain": [
       "<Figure size 1152x576 with 1 Axes>"
      ]
     },
     "metadata": {
      "needs_background": "light"
     },
     "output_type": "display_data"
    }
   ],
   "source": [
    "n_bins = 50\n",
    "\n",
    "\n",
    "fig, ax = plt.subplots(figsize=(16,8))\n",
    "\n",
    "# Overlay a reversed cumulative histogram.\n",
    "n, bins, patches = ax.hist(LSQVLog, bins=n_bins, density=True, histtype='step', cumulative=-1,\n",
    "        label='Tonelage')\n",
    "\n",
    "\n",
    "x = np.linspace(xMin, xMax, 100)\n",
    "ax.plot(x, norm.sf(x, LSQVLogMean, LSQVLogStd), label='Distribución teórica (PDF)', color='gray', linestyle='dashed')\n",
    "\n",
    "\n",
    "ax.plot([calcatreuIndicLogTonn], [zYac], marker='o', markersize=5, color='red')\n",
    "ax.text(calcatreuIndicLogTonn, zYac +.02,'Calcatreu',rotation=90)\n",
    "\n",
    "LSQVLog.sort_values(inplace=True)\n",
    "n = LSQVLog.size\n",
    "y = [ 1 - (np.arange(1, n+1) / n)]\n",
    "\n",
    "\n",
    "ax.plot([LSQVLog], y, marker='o', markersize=7, color='blue')\n",
    "    \n",
    "\n",
    "ax.axvline(x=LSQVLog10p, color='r')\n",
    "ax.text(LSQVLog10p,1-0.04,'90%',rotation=90)\n",
    "\n",
    "ax.axvline(x=LSQVLog50p, color='r')\n",
    "ax.text(LSQVLog50p,1-0.04,'50%',rotation=90)\n",
    "\n",
    "ax.axvline(x=LSQVLog90p, color='r')\n",
    "ax.text(LSQVLog90p,1-0.04,'10%',rotation=90)\n",
    "\n",
    "\n",
    "# tidy up the figure\n",
    "ax.grid(True)\n",
    "ax.legend(loc='right')\n",
    "ax.set_title('Inverse Survival Function  (ISF)')\n",
    "ax.set_xlabel('Tonnelaje (escala log 10))')\n",
    "ax.set_ylabel('ISF(x) Proporción de Depósitos Acumulada Inversa')\n",
    "\n",
    "#renombrar xticks\n",
    "xTicksLst    = [i for i in range(round(xMin), round(xMax) + 1)]\n",
    "xTicksLabels = ['{:,.0f}'.format(10 ** x) for x in  xTicksLst]\n",
    "ax.set_xticks(xTicksLst)  # Get the current locations and labels.\n",
    "ax.set_xticklabels(xTicksLabels)\n",
    "\n",
    "\n",
    "plt.show()"
   ]
  },
  {
   "cell_type": "markdown",
   "metadata": {},
   "source": [
    "Percentiles calculados en base a la muestra"
   ]
  },
  {
   "cell_type": "markdown",
   "metadata": {},
   "source": [
    "La inversa de la distribucion acumulada o Función de Supervivencia Inversa (ISF) nos indica  la chance de encontrar yacimientos mayores a un valor dado"
   ]
  },
  {
   "cell_type": "markdown",
   "metadata": {},
   "source": [
    "## Leyes"
   ]
  },
  {
   "cell_type": "code",
   "execution_count": 33,
   "metadata": {},
   "outputs": [
    {
     "name": "stdout",
     "output_type": "stream",
     "text": [
      "Z Grade nan; Log Au: -3.64\n"
     ]
    }
   ],
   "source": [
    "zGrade = norm.pdf(calcatreuLogAu, LSQVLogAuMean, LSQVLogAuStd)\n",
    "print(f'Z Grade {zGrade:.2f}; Log Au: {calcatreuLogAu:.2f}')\n"
   ]
  },
  {
   "cell_type": "code",
   "execution_count": 34,
   "metadata": {},
   "outputs": [
    {
     "ename": "ValueError",
     "evalue": "supplied range of [-inf, -2.494850021680094] is not finite",
     "output_type": "error",
     "traceback": [
      "\u001b[0;31m---------------------------------------------------------------------------\u001b[0m",
      "\u001b[0;31mValueError\u001b[0m                                Traceback (most recent call last)",
      "\u001b[0;32m<ipython-input-34-f999891fc6db>\u001b[0m in \u001b[0;36m<module>\u001b[0;34m\u001b[0m\n\u001b[1;32m      6\u001b[0m \u001b[0;31m# Overlay a reversed cumulative histogram.\u001b[0m\u001b[0;34m\u001b[0m\u001b[0;34m\u001b[0m\u001b[0;34m\u001b[0m\u001b[0m\n\u001b[1;32m      7\u001b[0m n, bins, patches = ax.hist(LSQVLogAu, bins=n_bins, density=True, histtype='step', cumulative=-1,\n\u001b[0;32m----> 8\u001b[0;31m         label='Low Suphidation Au Qrtz Veins')\n\u001b[0m\u001b[1;32m      9\u001b[0m \u001b[0;34m\u001b[0m\u001b[0m\n\u001b[1;32m     10\u001b[0m \u001b[0mxMax\u001b[0m \u001b[0;34m=\u001b[0m \u001b[0mLSQVLogAuMean\u001b[0m \u001b[0;34m+\u001b[0m \u001b[0;36m3.5\u001b[0m \u001b[0;34m*\u001b[0m \u001b[0mLSQVLogAuStd\u001b[0m\u001b[0;34m\u001b[0m\u001b[0;34m\u001b[0m\u001b[0m\n",
      "\u001b[0;32m~/anaconda3/lib/python3.7/site-packages/matplotlib/__init__.py\u001b[0m in \u001b[0;36minner\u001b[0;34m(ax, data, *args, **kwargs)\u001b[0m\n\u001b[1;32m   1597\u001b[0m     \u001b[0;32mdef\u001b[0m \u001b[0minner\u001b[0m\u001b[0;34m(\u001b[0m\u001b[0max\u001b[0m\u001b[0;34m,\u001b[0m \u001b[0;34m*\u001b[0m\u001b[0margs\u001b[0m\u001b[0;34m,\u001b[0m \u001b[0mdata\u001b[0m\u001b[0;34m=\u001b[0m\u001b[0;32mNone\u001b[0m\u001b[0;34m,\u001b[0m \u001b[0;34m**\u001b[0m\u001b[0mkwargs\u001b[0m\u001b[0;34m)\u001b[0m\u001b[0;34m:\u001b[0m\u001b[0;34m\u001b[0m\u001b[0;34m\u001b[0m\u001b[0m\n\u001b[1;32m   1598\u001b[0m         \u001b[0;32mif\u001b[0m \u001b[0mdata\u001b[0m \u001b[0;32mis\u001b[0m \u001b[0;32mNone\u001b[0m\u001b[0;34m:\u001b[0m\u001b[0;34m\u001b[0m\u001b[0;34m\u001b[0m\u001b[0m\n\u001b[0;32m-> 1599\u001b[0;31m             \u001b[0;32mreturn\u001b[0m \u001b[0mfunc\u001b[0m\u001b[0;34m(\u001b[0m\u001b[0max\u001b[0m\u001b[0;34m,\u001b[0m \u001b[0;34m*\u001b[0m\u001b[0mmap\u001b[0m\u001b[0;34m(\u001b[0m\u001b[0msanitize_sequence\u001b[0m\u001b[0;34m,\u001b[0m \u001b[0margs\u001b[0m\u001b[0;34m)\u001b[0m\u001b[0;34m,\u001b[0m \u001b[0;34m**\u001b[0m\u001b[0mkwargs\u001b[0m\u001b[0;34m)\u001b[0m\u001b[0;34m\u001b[0m\u001b[0;34m\u001b[0m\u001b[0m\n\u001b[0m\u001b[1;32m   1600\u001b[0m \u001b[0;34m\u001b[0m\u001b[0m\n\u001b[1;32m   1601\u001b[0m         \u001b[0mbound\u001b[0m \u001b[0;34m=\u001b[0m \u001b[0mnew_sig\u001b[0m\u001b[0;34m.\u001b[0m\u001b[0mbind\u001b[0m\u001b[0;34m(\u001b[0m\u001b[0max\u001b[0m\u001b[0;34m,\u001b[0m \u001b[0;34m*\u001b[0m\u001b[0margs\u001b[0m\u001b[0;34m,\u001b[0m \u001b[0;34m**\u001b[0m\u001b[0mkwargs\u001b[0m\u001b[0;34m)\u001b[0m\u001b[0;34m\u001b[0m\u001b[0;34m\u001b[0m\u001b[0m\n",
      "\u001b[0;32m~/anaconda3/lib/python3.7/site-packages/matplotlib/axes/_axes.py\u001b[0m in \u001b[0;36mhist\u001b[0;34m(self, x, bins, range, density, weights, cumulative, bottom, histtype, align, orientation, rwidth, log, color, label, stacked, normed, **kwargs)\u001b[0m\n\u001b[1;32m   6773\u001b[0m             \u001b[0;31m# this will automatically overwrite bins,\u001b[0m\u001b[0;34m\u001b[0m\u001b[0;34m\u001b[0m\u001b[0;34m\u001b[0m\u001b[0m\n\u001b[1;32m   6774\u001b[0m             \u001b[0;31m# so that each histogram uses the same bins\u001b[0m\u001b[0;34m\u001b[0m\u001b[0;34m\u001b[0m\u001b[0;34m\u001b[0m\u001b[0m\n\u001b[0;32m-> 6775\u001b[0;31m             \u001b[0mm\u001b[0m\u001b[0;34m,\u001b[0m \u001b[0mbins\u001b[0m \u001b[0;34m=\u001b[0m \u001b[0mnp\u001b[0m\u001b[0;34m.\u001b[0m\u001b[0mhistogram\u001b[0m\u001b[0;34m(\u001b[0m\u001b[0mx\u001b[0m\u001b[0;34m[\u001b[0m\u001b[0mi\u001b[0m\u001b[0;34m]\u001b[0m\u001b[0;34m,\u001b[0m \u001b[0mbins\u001b[0m\u001b[0;34m,\u001b[0m \u001b[0mweights\u001b[0m\u001b[0;34m=\u001b[0m\u001b[0mw\u001b[0m\u001b[0;34m[\u001b[0m\u001b[0mi\u001b[0m\u001b[0;34m]\u001b[0m\u001b[0;34m,\u001b[0m \u001b[0;34m**\u001b[0m\u001b[0mhist_kwargs\u001b[0m\u001b[0;34m)\u001b[0m\u001b[0;34m\u001b[0m\u001b[0;34m\u001b[0m\u001b[0m\n\u001b[0m\u001b[1;32m   6776\u001b[0m             \u001b[0mm\u001b[0m \u001b[0;34m=\u001b[0m \u001b[0mm\u001b[0m\u001b[0;34m.\u001b[0m\u001b[0mastype\u001b[0m\u001b[0;34m(\u001b[0m\u001b[0mfloat\u001b[0m\u001b[0;34m)\u001b[0m  \u001b[0;31m# causes problems later if it's an int\u001b[0m\u001b[0;34m\u001b[0m\u001b[0;34m\u001b[0m\u001b[0m\n\u001b[1;32m   6777\u001b[0m             \u001b[0;32mif\u001b[0m \u001b[0mmlast\u001b[0m \u001b[0;32mis\u001b[0m \u001b[0;32mNone\u001b[0m\u001b[0;34m:\u001b[0m\u001b[0;34m\u001b[0m\u001b[0;34m\u001b[0m\u001b[0m\n",
      "\u001b[0;32m<__array_function__ internals>\u001b[0m in \u001b[0;36mhistogram\u001b[0;34m(*args, **kwargs)\u001b[0m\n",
      "\u001b[0;32m~/anaconda3/lib/python3.7/site-packages/numpy/lib/histograms.py\u001b[0m in \u001b[0;36mhistogram\u001b[0;34m(a, bins, range, normed, weights, density)\u001b[0m\n\u001b[1;32m    793\u001b[0m     \u001b[0ma\u001b[0m\u001b[0;34m,\u001b[0m \u001b[0mweights\u001b[0m \u001b[0;34m=\u001b[0m \u001b[0m_ravel_and_check_weights\u001b[0m\u001b[0;34m(\u001b[0m\u001b[0ma\u001b[0m\u001b[0;34m,\u001b[0m \u001b[0mweights\u001b[0m\u001b[0;34m)\u001b[0m\u001b[0;34m\u001b[0m\u001b[0;34m\u001b[0m\u001b[0m\n\u001b[1;32m    794\u001b[0m \u001b[0;34m\u001b[0m\u001b[0m\n\u001b[0;32m--> 795\u001b[0;31m     \u001b[0mbin_edges\u001b[0m\u001b[0;34m,\u001b[0m \u001b[0muniform_bins\u001b[0m \u001b[0;34m=\u001b[0m \u001b[0m_get_bin_edges\u001b[0m\u001b[0;34m(\u001b[0m\u001b[0ma\u001b[0m\u001b[0;34m,\u001b[0m \u001b[0mbins\u001b[0m\u001b[0;34m,\u001b[0m \u001b[0mrange\u001b[0m\u001b[0;34m,\u001b[0m \u001b[0mweights\u001b[0m\u001b[0;34m)\u001b[0m\u001b[0;34m\u001b[0m\u001b[0;34m\u001b[0m\u001b[0m\n\u001b[0m\u001b[1;32m    796\u001b[0m \u001b[0;34m\u001b[0m\u001b[0m\n\u001b[1;32m    797\u001b[0m     \u001b[0;31m# Histogram is an integer or a float array depending on the weights.\u001b[0m\u001b[0;34m\u001b[0m\u001b[0;34m\u001b[0m\u001b[0;34m\u001b[0m\u001b[0m\n",
      "\u001b[0;32m~/anaconda3/lib/python3.7/site-packages/numpy/lib/histograms.py\u001b[0m in \u001b[0;36m_get_bin_edges\u001b[0;34m(a, bins, range, weights)\u001b[0m\n\u001b[1;32m    427\u001b[0m             \u001b[0;32mraise\u001b[0m \u001b[0mValueError\u001b[0m\u001b[0;34m(\u001b[0m\u001b[0;34m'`bins` must be positive, when an integer'\u001b[0m\u001b[0;34m)\u001b[0m\u001b[0;34m\u001b[0m\u001b[0;34m\u001b[0m\u001b[0m\n\u001b[1;32m    428\u001b[0m \u001b[0;34m\u001b[0m\u001b[0m\n\u001b[0;32m--> 429\u001b[0;31m         \u001b[0mfirst_edge\u001b[0m\u001b[0;34m,\u001b[0m \u001b[0mlast_edge\u001b[0m \u001b[0;34m=\u001b[0m \u001b[0m_get_outer_edges\u001b[0m\u001b[0;34m(\u001b[0m\u001b[0ma\u001b[0m\u001b[0;34m,\u001b[0m \u001b[0mrange\u001b[0m\u001b[0;34m)\u001b[0m\u001b[0;34m\u001b[0m\u001b[0;34m\u001b[0m\u001b[0m\n\u001b[0m\u001b[1;32m    430\u001b[0m \u001b[0;34m\u001b[0m\u001b[0m\n\u001b[1;32m    431\u001b[0m     \u001b[0;32melif\u001b[0m \u001b[0mnp\u001b[0m\u001b[0;34m.\u001b[0m\u001b[0mndim\u001b[0m\u001b[0;34m(\u001b[0m\u001b[0mbins\u001b[0m\u001b[0;34m)\u001b[0m \u001b[0;34m==\u001b[0m \u001b[0;36m1\u001b[0m\u001b[0;34m:\u001b[0m\u001b[0;34m\u001b[0m\u001b[0;34m\u001b[0m\u001b[0m\n",
      "\u001b[0;32m~/anaconda3/lib/python3.7/site-packages/numpy/lib/histograms.py\u001b[0m in \u001b[0;36m_get_outer_edges\u001b[0;34m(a, range)\u001b[0m\n\u001b[1;32m    317\u001b[0m         \u001b[0;32mif\u001b[0m \u001b[0;32mnot\u001b[0m \u001b[0;34m(\u001b[0m\u001b[0mnp\u001b[0m\u001b[0;34m.\u001b[0m\u001b[0misfinite\u001b[0m\u001b[0;34m(\u001b[0m\u001b[0mfirst_edge\u001b[0m\u001b[0;34m)\u001b[0m \u001b[0;32mand\u001b[0m \u001b[0mnp\u001b[0m\u001b[0;34m.\u001b[0m\u001b[0misfinite\u001b[0m\u001b[0;34m(\u001b[0m\u001b[0mlast_edge\u001b[0m\u001b[0;34m)\u001b[0m\u001b[0;34m)\u001b[0m\u001b[0;34m:\u001b[0m\u001b[0;34m\u001b[0m\u001b[0;34m\u001b[0m\u001b[0m\n\u001b[1;32m    318\u001b[0m             raise ValueError(\n\u001b[0;32m--> 319\u001b[0;31m                 \"supplied range of [{}, {}] is not finite\".format(first_edge, last_edge))\n\u001b[0m\u001b[1;32m    320\u001b[0m     \u001b[0;32melif\u001b[0m \u001b[0ma\u001b[0m\u001b[0;34m.\u001b[0m\u001b[0msize\u001b[0m \u001b[0;34m==\u001b[0m \u001b[0;36m0\u001b[0m\u001b[0;34m:\u001b[0m\u001b[0;34m\u001b[0m\u001b[0;34m\u001b[0m\u001b[0m\n\u001b[1;32m    321\u001b[0m         \u001b[0;31m# handle empty arrays. Can't determine range, so use 0-1.\u001b[0m\u001b[0;34m\u001b[0m\u001b[0;34m\u001b[0m\u001b[0;34m\u001b[0m\u001b[0m\n",
      "\u001b[0;31mValueError\u001b[0m: supplied range of [-inf, -2.494850021680094] is not finite"
     ]
    },
    {
     "data": {
      "image/png": "[encoded data removed]",
      "text/plain": [
       "<Figure size 1152x576 with 1 Axes>"
      ]
     },
     "metadata": {},
     "output_type": "display_data"
    }
   ],
   "source": [
    "n_bins = 50\n",
    "\n",
    "\n",
    "fig, ax = plt.subplots(figsize=(16,8))\n",
    "\n",
    "# Overlay a reversed cumulative histogram.\n",
    "n, bins, patches = ax.hist(LSQVLogAu, bins=n_bins, density=True, histtype='step', cumulative=-1,\n",
    "        label='Low Suphidation Au Qrtz Veins')\n",
    "\n",
    "xMax = LSQVLogAuMean + 3.5 * LSQVLogAuStd\n",
    "xMin = LSQVLogAuMean - 3.5 * LSQVLogAuStd\n",
    "\n",
    "x = np.linspace(xMin, xMax, 100)\n",
    "\n",
    "\n",
    "ax.plot(x, norm.sf(x, LSQVLogAuMean, LSQVLogAuStd), \n",
    "        label='Distribución teórica', color='gray', linestyle='dashed')\n",
    "\n",
    "#zYac = norm.pdf(calcatreuIndicLogTonn, LSQVLogMean, LSQVLogStd) \n",
    "\n",
    "#zGrade = norm.pdf(calcatreuLogAu, LSQVLogAuMean, LSQVLogAuStd)\n",
    "\n",
    "#ax.plot([calcatreuLogAu], [zGrade], marker='o', markersize=5, color='red')\n",
    "#ax.text(calcatreuLogAu, zGrade +.02,'Calcatreu',rotation=90)\n",
    "\n",
    "ax.axvline(x=LSQVLogAu10p, color='r')\n",
    "ax.text(LSQVLogAu10p,-0.04,'90%',rotation=90)\n",
    "\n",
    "ax.axvline(x=LSQVLogAu50p, color='r')\n",
    "ax.text(LSQVLogAu50p,-0.04,'50%',rotation=90)\n",
    "\n",
    "ax.axvline(x=LSQVLogAu90p, color='r')\n",
    "ax.text(LSQVLogAu90p,-0.04,'10%',rotation=90)\n",
    "\n",
    "\n",
    "# tidy up the figure\n",
    "ax.grid(True)\n",
    "ax.legend(loc='right')\n",
    "ax.set_title('Inverse Survival Function  (ISF)')\n",
    "ax.set_xlabel('log(Au Grade) LS Au Q Veins')\n",
    "ax.set_ylabel('ISF(x)')\n",
    "\n",
    "\n",
    "plt.show()"
   ]
  }
 ],
 "metadata": {
  "kernelspec": {
   "display_name": "Python 3 (ipykernel)",
   "language": "python",
   "name": "python3"
  },
  "language_info": {
   "codemirror_mode": {
    "name": "ipython",
    "version": 3
   },
   "file_extension": ".py",
   "mimetype": "text/x-python",
   "name": "python",
   "nbconvert_exporter": "python",
   "pygments_lexer": "ipython3",
   "version": "3.9.7"
  }
 },
 "nbformat": 4,
 "nbformat_minor": 4
}
