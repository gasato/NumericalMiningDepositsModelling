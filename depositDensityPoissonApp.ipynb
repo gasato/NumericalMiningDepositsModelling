{
 "cells": [
  {
   "cell_type": "markdown",
   "metadata": {},
   "source": [
    "# Cálculo de densidad de depósitos y su probabilidad\n",
    "\n",
    "La estimación del número de depósitos por descubrir para un área dada puede ser calculada mediante un método de analogía estadística (Cox, 1993). Para ello es necesario contar con una serie de datos tales como datos mundiales de densidad de depósitos, según tipos de depósito (Singer 2008, Bliss et. al ), o bien con datos locales de densidad (Singer et. al 2001). Además debe definirse para la zona de estudio el track para el tipo de yacimiento evaluado y su correspondiente área.\n",
    "\n",
    "De esta forma, el valor esperado de número de depósitos en el track está dado por:\n",
    "\n",
    "\n",
    "\\begin{equation}\n",
    "E(track) = \\delta _{tipoDep} A_{track}\n",
    "\\end{equation}\n",
    "\n",
    "Siendo $\\delta _{tipoDep}$ la densidad por área del tipo de depósito y $A_{track}$ el área del track\n",
    "\n",
    "\n",
    "Si bien el resultado es un número definido, al mismo se le debe adjuntar su correspondiente probabilidad. El cálculo de la esperanza de ocurrencia del número de depósitos puede ser realizada considerando que la misma tiene una distribución de Poisson. Bajo esta premisa se considera que los depósitos tienen una distribución aleatoria en el track considerado, son independientes unos de otros, no se encuentran agrupados y la densidad de los mismos es constante.\n",
    "\n",
    "Según la función de probabilidad de masa de Poisson se considera que para cada posibilidad su probabilidad será:\n",
    "\n"
   ]
  },
  {
   "cell_type": "markdown",
   "metadata": {},
   "source": [
    "\n",
    "\n",
    "\\begin{equation}\n",
    "P(X=x) = \\frac{\\lambda^x e^{-\\lambda}}{x!}\n",
    "\\end{equation}\n",
    "\n",
    "Donde $x$ el número de depósitos considerado, $e$ la constante de Euler (2.71828..) y $\\lambda$ el valor esperado\n"
   ]
  },
  {
   "cell_type": "markdown",
   "metadata": {},
   "source": [
    "El cálculo de las probabilidades acumuladas se realiza en función de los datos obtenidos de la función de distribución acumulada (FPMA), tal que:\n",
    "\n",
    "\\begin{equation}\n",
    "P(X<=x) = \\sum_{i=0}^{x} p(x)\n",
    "\\end{equation}\n",
    "\n"
   ]
  },
  {
   "cell_type": "markdown",
   "metadata": {},
   "source": [
    "## Cálculo de Número de Yacimientos por Analogía Estadística"
   ]
  },
  {
   "cell_type": "code",
   "execution_count": 1,
   "metadata": {},
   "outputs": [
    {
     "data": {
      "application/vnd.jupyter.widget-view+json": {
       "model_id": "378c45f47dfc4ee293e5c8d311330b8e",
       "version_major": 2,
       "version_minor": 0
      },
      "text/plain": [
       "Text(value='', description='Nombre del Proyecto')"
      ]
     },
     "metadata": {},
     "output_type": "display_data"
    },
    {
     "data": {
      "application/vnd.jupyter.widget-view+json": {
       "model_id": "95e56bddde3d4d3ba47f8dac2a92c399",
       "version_major": 2,
       "version_minor": 0
      },
      "text/plain": [
       "Text(value='', description='Tipo de Yacimiento')"
      ]
     },
     "metadata": {},
     "output_type": "display_data"
    },
    {
     "data": {
      "application/vnd.jupyter.widget-view+json": {
       "model_id": "616f067603a547e4bac7c14537c5e8d6",
       "version_major": 2,
       "version_minor": 0
      },
      "text/plain": [
       "IntText(value=1832, description='Area:')"
      ]
     },
     "metadata": {},
     "output_type": "display_data"
    },
    {
     "data": {
      "application/vnd.jupyter.widget-view+json": {
       "model_id": "6b61513019c442379690587d425924aa",
       "version_major": 2,
       "version_minor": 0
      },
      "text/plain": [
       "FloatText(value=0.00485, description='Densidad:')"
      ]
     },
     "metadata": {},
     "output_type": "display_data"
    }
   ],
   "source": [
    "import ipywidgets as widgets\n",
    "import numpy as np\n",
    "\n",
    "\n",
    "# Ingresar densidad\n",
    "wDepDensity = widgets.FloatText(\n",
    "    value = 0.00485,\n",
    "    description='Densidad:',\n",
    "    disabled=False\n",
    ")\n",
    "\n",
    "# Ingresar nombre del Proyecto\n",
    "wProyName = widgets.Text( description='Nombre del Proyecto')\n",
    "\n",
    "# Ingresar nombre del Proyecto\n",
    "wDepType = widgets.Text( description='Tipo de Yacimiento')\n",
    "\n",
    "# Ingresar Superficie\n",
    "wProyArea = widgets.IntText(\n",
    "    value = 1832,\n",
    "    description='Area:',\n",
    "    disabled=False\n",
    ")\n",
    "\n",
    "display(wProyName, wDepType, wProyArea, wDepDensity)\n",
    "\n",
    "#densidadYac = 0.0054\n",
    "#areaTrack = 5900"
   ]
  },
  {
   "cell_type": "code",
   "execution_count": 2,
   "metadata": {},
   "outputs": [
    {
     "name": "stdout",
     "output_type": "stream",
     "text": [
      "Numero estimado de depósitos en un área de 1,832 km2 : 9 depósitos\n"
     ]
    }
   ],
   "source": [
    "estimatedNumDepositsArea = wDepDensity.value * wProyArea.value\n",
    "\n",
    "print(f\"Numero estimado de depósitos en un área de {wProyArea.value:,} km2 : {estimatedNumDepositsArea:.0f} depósitos\")"
   ]
  },
  {
   "cell_type": "markdown",
   "metadata": {},
   "source": [
    "## Cálculo de probabilidad de número de depósitos."
   ]
  },
  {
   "cell_type": "code",
   "execution_count": 3,
   "metadata": {},
   "outputs": [
    {
     "data": {
      "image/png": "[encoded data removed]",
      "text/plain": [
       "<Figure size 1152x576 with 1 Axes>"
      ]
     },
     "metadata": {},
     "output_type": "display_data"
    }
   ],
   "source": [
    "import numpy as np\n",
    "import matplotlib.pyplot as plt\n",
    "from scipy.stats import poisson\n",
    "import pandas as pd\n",
    "import scipy.stats as stats\n",
    "\n",
    "plt.style.use('seaborn')\n",
    "\n",
    "lam      = estimatedNumDepositsArea\n",
    "areaKm2  = wProyArea.value\n",
    "\n",
    "ds      = np.sqrt(lam)\n",
    "\n",
    "\n",
    "fig, ax = plt.subplots(figsize=(16,8))\n",
    "\n",
    "#Ploteo de la Probability Mass Function\n",
    "\n",
    "x = np.arange(0,  estimatedNumDepositsArea + ds * 4) #Eje de las x\n",
    "\n",
    "y = poisson.pmf(x, lam)\n",
    "\n",
    "#ax.plot(x, y , 'ro--', ms=8, label='Poisson pmf')    # PMF Points\n",
    "\n",
    "ax.bar(x,y)\n",
    "\n",
    "ax.set_title(f'Distribución de Poisson de Número de Depósitos Esperados para el {wProyName.value} - {wDepType.value}')\n",
    "ax.set_xlabel('Nro. de Depósitos')\n",
    "ax.set_ylabel('Probabilidad de Ocurrencia')\n",
    "\n",
    "\n",
    "#ax.legend(loc='best', frameon=False)\n",
    "\n",
    "plt.show()"
   ]
  },
  {
   "cell_type": "code",
   "execution_count": 4,
   "metadata": {},
   "outputs": [
    {
     "data": {
      "text/plain": [
       "0.9996267682803711"
      ]
     },
     "execution_count": 4,
     "metadata": {},
     "output_type": "execute_result"
    }
   ],
   "source": [
    "sum(y)"
   ]
  },
  {
   "cell_type": "code",
   "execution_count": 5,
   "metadata": {},
   "outputs": [
    {
     "data": {
      "text/html": [
       "<div>\n",
       "<style scoped>\n",
       "    .dataframe tbody tr th:only-of-type {\n",
       "        vertical-align: middle;\n",
       "    }\n",
       "\n",
       "    .dataframe tbody tr th {\n",
       "        vertical-align: top;\n",
       "    }\n",
       "\n",
       "    .dataframe thead th {\n",
       "        text-align: right;\n",
       "    }\n",
       "</style>\n",
       "<table border=\"1\" class=\"dataframe\">\n",
       "  <thead>\n",
       "    <tr style=\"text-align: right;\">\n",
       "      <th></th>\n",
       "      <th>3</th>\n",
       "      <th>4</th>\n",
       "      <th>5</th>\n",
       "      <th>6</th>\n",
       "      <th>7</th>\n",
       "      <th>8</th>\n",
       "      <th>9</th>\n",
       "      <th>10</th>\n",
       "      <th>11</th>\n",
       "      <th>12</th>\n",
       "      <th>13</th>\n",
       "      <th>14</th>\n",
       "      <th>15</th>\n",
       "    </tr>\n",
       "  </thead>\n",
       "  <tbody>\n",
       "    <tr>\n",
       "      <th>Nro. Depositos</th>\n",
       "      <td>3.000000</td>\n",
       "      <td>4.000000</td>\n",
       "      <td>5.000000</td>\n",
       "      <td>6.000000</td>\n",
       "      <td>7.000000</td>\n",
       "      <td>8.000000</td>\n",
       "      <td>9.000000</td>\n",
       "      <td>10.000000</td>\n",
       "      <td>11.000000</td>\n",
       "      <td>12.000000</td>\n",
       "      <td>13.000000</td>\n",
       "      <td>14.000000</td>\n",
       "      <td>15.000000</td>\n",
       "    </tr>\n",
       "    <tr>\n",
       "      <th>Probabilidad</th>\n",
       "      <td>0.016183</td>\n",
       "      <td>0.035947</td>\n",
       "      <td>0.063879</td>\n",
       "      <td>0.094597</td>\n",
       "      <td>0.120073</td>\n",
       "      <td>0.133359</td>\n",
       "      <td>0.131658</td>\n",
       "      <td>0.116981</td>\n",
       "      <td>0.094491</td>\n",
       "      <td>0.069964</td>\n",
       "      <td>0.047819</td>\n",
       "      <td>0.030349</td>\n",
       "      <td>0.017977</td>\n",
       "    </tr>\n",
       "  </tbody>\n",
       "</table>\n",
       "</div>"
      ],
      "text/plain": [
       "                      3         4         5         6         7         8   \\\n",
       "Nro. Depositos  3.000000  4.000000  5.000000  6.000000  7.000000  8.000000   \n",
       "Probabilidad    0.016183  0.035947  0.063879  0.094597  0.120073  0.133359   \n",
       "\n",
       "                      9          10         11         12         13  \\\n",
       "Nro. Depositos  9.000000  10.000000  11.000000  12.000000  13.000000   \n",
       "Probabilidad    0.131658   0.116981   0.094491   0.069964   0.047819   \n",
       "\n",
       "                       14         15  \n",
       "Nro. Depositos  14.000000  15.000000  \n",
       "Probabilidad     0.030349   0.017977  "
      ]
     },
     "execution_count": 5,
     "metadata": {},
     "output_type": "execute_result"
    }
   ],
   "source": [
    "a = np.transpose(np.array([x.astype(int),y]))\n",
    "\n",
    "df = pd.DataFrame(data=a, columns=['Nro. Depositos', 'Probabilidad'])\n",
    "\n",
    "\n",
    "df2 = df.loc[(df['Probabilidad'] >= 0.01) & (df['Probabilidad'] <= 0.99)]\n",
    "\n",
    "\n",
    "df2.transpose()"
   ]
  },
  {
   "cell_type": "code",
   "execution_count": 6,
   "metadata": {},
   "outputs": [
    {
     "name": "stdout",
     "output_type": "stream",
     "text": [
      "Número de Depósitos con máxima probabilidad\n"
     ]
    },
    {
     "data": {
      "text/html": [
       "<div>\n",
       "<style scoped>\n",
       "    .dataframe tbody tr th:only-of-type {\n",
       "        vertical-align: middle;\n",
       "    }\n",
       "\n",
       "    .dataframe tbody tr th {\n",
       "        vertical-align: top;\n",
       "    }\n",
       "\n",
       "    .dataframe thead th {\n",
       "        text-align: right;\n",
       "    }\n",
       "</style>\n",
       "<table border=\"1\" class=\"dataframe\">\n",
       "  <thead>\n",
       "    <tr style=\"text-align: right;\">\n",
       "      <th></th>\n",
       "      <th>Nro. Depositos</th>\n",
       "      <th>Probabilidad</th>\n",
       "    </tr>\n",
       "  </thead>\n",
       "  <tbody>\n",
       "    <tr>\n",
       "      <th>8</th>\n",
       "      <td>8.0</td>\n",
       "      <td>0.133359</td>\n",
       "    </tr>\n",
       "  </tbody>\n",
       "</table>\n",
       "</div>"
      ],
      "text/plain": [
       "   Nro. Depositos  Probabilidad\n",
       "8             8.0      0.133359"
      ]
     },
     "execution_count": 6,
     "metadata": {},
     "output_type": "execute_result"
    }
   ],
   "source": [
    "maxProb = df['Probabilidad'].max()\n",
    "print('Número de Depósitos con máxima probabilidad')\n",
    "df.loc[ df['Probabilidad'] == maxProb]"
   ]
  },
  {
   "cell_type": "markdown",
   "metadata": {},
   "source": [
    "## Percentiles de la Función de Probabilidad de Masa"
   ]
  },
  {
   "cell_type": "code",
   "execution_count": 7,
   "metadata": {},
   "outputs": [
    {
     "name": "stdout",
     "output_type": "stream",
     "text": [
      "69.0 69.0\n"
     ]
    }
   ],
   "source": [
    "# FALTA\n",
    "mean, var = poisson.stats(69, moments='mv')\n",
    "\n",
    "print(str(mean) + ' '  + str(var) )"
   ]
  },
  {
   "cell_type": "markdown",
   "metadata": {},
   "source": [
    "## CDF Inversa de la Función de Probabilidad de Masa Acumulada\n",
    "\n"
   ]
  },
  {
   "cell_type": "code",
   "execution_count": 8,
   "metadata": {},
   "outputs": [
    {
     "data": {
      "image/png": "[encoded data removed]",
      "text/plain": [
       "<Figure size 1152x576 with 1 Axes>"
      ]
     },
     "metadata": {},
     "output_type": "display_data"
    }
   ],
   "source": [
    "#Ploteo de la Probability Mass Function\n",
    "\n",
    "fig, ax = plt.subplots(figsize=(16,8))\n",
    "\n",
    "x = np.arange(0,  estimatedNumDepositsArea + ds * 4) #Eje de las x\n",
    "y =  1 - poisson.cdf(x, lam)\n",
    "\n",
    "ax.bar(x,y)\n",
    "\n",
    "\n",
    "ax.set_title(f'FPMA de Número de Depósitos Esperados para el {wProyName.value}')\n",
    "ax.set_xlabel('Nro. de Depósitos')\n",
    "ax.set_ylabel('Probabilidad Acumulada de Ocurrencia')\n",
    "\n",
    "\n",
    "#ax.legend(loc='best', frameon=False)\n",
    "\n",
    "plt.show()"
   ]
  },
  {
   "cell_type": "markdown",
   "metadata": {},
   "source": [
    "### Resultados de Probabilidad Según la FPMA"
   ]
  },
  {
   "cell_type": "code",
   "execution_count": 9,
   "metadata": {},
   "outputs": [],
   "source": [
    "a = np.transpose(np.array([x.astype(int),y]))\n",
    "\n",
    "df = pd.DataFrame(data=a, columns=['Nro. Depositos', 'Probabilidad'])"
   ]
  },
  {
   "cell_type": "code",
   "execution_count": 10,
   "metadata": {},
   "outputs": [],
   "source": [
    "intervalLst = [x / 10 for x in  [*range(1,10)] ]\n",
    "\n",
    "numDepLst = []\n",
    "\n",
    "for i in intervalLst:\n",
    "    pMinus = df.loc[(df['Probabilidad'] >= i)]\n",
    "    pMinus = pMinus.reset_index()\n",
    "    pMin = pMinus.loc[pMinus['Probabilidad'].idxmin()]\n",
    "    numDepLst.append(f'{pMin.values[1]:.0f}')\n",
    "    #print(i,pMin.values[1])\n",
    "\n",
    "intervalP = [*range(10,100, 10)]\n",
    "\n",
    "a = np.transpose(np.array([numDepLst, intervalP]))\n",
    "\n",
    "df = pd.DataFrame(data=a, columns=['Máx. Nro. Depositos', 'Probabilidad'])\n",
    "\n"
   ]
  },
  {
   "cell_type": "code",
   "execution_count": 11,
   "metadata": {},
   "outputs": [
    {
     "data": {
      "text/html": [
       "<div>\n",
       "<style scoped>\n",
       "    .dataframe tbody tr th:only-of-type {\n",
       "        vertical-align: middle;\n",
       "    }\n",
       "\n",
       "    .dataframe tbody tr th {\n",
       "        vertical-align: top;\n",
       "    }\n",
       "\n",
       "    .dataframe thead th {\n",
       "        text-align: right;\n",
       "    }\n",
       "</style>\n",
       "<table border=\"1\" class=\"dataframe\">\n",
       "  <thead>\n",
       "    <tr style=\"text-align: right;\">\n",
       "      <th></th>\n",
       "      <th>0</th>\n",
       "      <th>1</th>\n",
       "      <th>2</th>\n",
       "      <th>3</th>\n",
       "      <th>4</th>\n",
       "      <th>5</th>\n",
       "      <th>6</th>\n",
       "      <th>7</th>\n",
       "      <th>8</th>\n",
       "    </tr>\n",
       "  </thead>\n",
       "  <tbody>\n",
       "    <tr>\n",
       "      <th>Máx. Nro. Depositos</th>\n",
       "      <td>12</td>\n",
       "      <td>10</td>\n",
       "      <td>9</td>\n",
       "      <td>8</td>\n",
       "      <td>8</td>\n",
       "      <td>7</td>\n",
       "      <td>6</td>\n",
       "      <td>5</td>\n",
       "      <td>4</td>\n",
       "    </tr>\n",
       "    <tr>\n",
       "      <th>Probabilidad</th>\n",
       "      <td>10</td>\n",
       "      <td>20</td>\n",
       "      <td>30</td>\n",
       "      <td>40</td>\n",
       "      <td>50</td>\n",
       "      <td>60</td>\n",
       "      <td>70</td>\n",
       "      <td>80</td>\n",
       "      <td>90</td>\n",
       "    </tr>\n",
       "  </tbody>\n",
       "</table>\n",
       "</div>"
      ],
      "text/plain": [
       "                      0   1   2   3   4   5   6   7   8\n",
       "Máx. Nro. Depositos  12  10   9   8   8   7   6   5   4\n",
       "Probabilidad         10  20  30  40  50  60  70  80  90"
      ]
     },
     "execution_count": 11,
     "metadata": {},
     "output_type": "execute_result"
    }
   ],
   "source": [
    "df.transpose()"
   ]
  },
  {
   "cell_type": "markdown",
   "metadata": {},
   "source": [
    "## Simulación de Monte Carlo"
   ]
  },
  {
   "cell_type": "code",
   "execution_count": 12,
   "metadata": {},
   "outputs": [],
   "source": [
    "from scipy.stats import poisson\n",
    "\n",
    "import matplotlib.pyplot as plt\n",
    "\n",
    "fig, ax = plt.subplots(1, 1)\n",
    "\n",
    "mu = 9\n",
    "\n",
    "mean, var, skew, kurt = poisson.stats(mu, moments='mvsk')\n",
    "\n",
    "x = np.arange(poisson.ppf(0.01, mu),\n",
    "\n",
    "              poisson.ppf(0.99, mu))\n",
    "\n",
    "#generamos una distribución de poisson en base a lambda y una cantidad finita de observaciones\n",
    "s = poisson.rvs(mu, size=100)\n",
    "for i in range(10000):\n",
    "    s = np.append( s, poisson.rvs(mu, size=100))\n",
    "\n",
    "\n",
    "ax.hist(s, density=True)\n",
    "ax.plot(x, poisson.pmf(x, mu), 'ro', ms=8, label='poisson pmf')\n",
    "\n",
    "plt.show();"
   ]
  },
  {
   "cell_type": "code",
   "execution_count": null,
   "metadata": {},
   "outputs": [],
   "source": [
    "# Check accuracy  of cdf and ppf:\n",
    "prob = poisson.cdf(x, mu)\n",
    "np.allclose(x, poisson.ppf(prob, mu))"
   ]
  },
  {
   "cell_type": "markdown",
   "metadata": {},
   "source": [
    "# Bibliografía\n",
    "\n",
    "Singer D.A., W.D. Menzie, D.M. Sutphin, D.L. Mosier, y J.D. Bliss, 2001. Mineral Deposit Density—An Update. U.S. GEOLOGICAL SURVEY PROFESSIONAL PAPER 1640–A.\n",
    "\n",
    "Singer, D.A., 2008 Mineral Deposit Densities for Estimating Mineral Resources. Math Geosci 40, 33–46.\n",
    "\n",
    "Cox, D.P., 1993. Estimation of undiscovered deposits in quantitative mineral resource assessment — examples from Venezuela and Puerto Rico: Nonrenewable Resources, v. 2, no. 2, p. 82–91."
   ]
  },
  {
   "cell_type": "code",
   "execution_count": null,
   "metadata": {},
   "outputs": [],
   "source": []
  }
 ],
 "metadata": {
  "kernelspec": {
   "display_name": "Python 3 (ipykernel)",
   "language": "python",
   "name": "python3"
  },
  "language_info": {
   "codemirror_mode": {
    "name": "ipython",
    "version": 3
   },
   "file_extension": ".py",
   "mimetype": "text/x-python",
   "name": "python",
   "nbconvert_exporter": "python",
   "pygments_lexer": "ipython3",
   "version": "3.9.7"
  }
 },
 "nbformat": 4,
 "nbformat_minor": 4
}
