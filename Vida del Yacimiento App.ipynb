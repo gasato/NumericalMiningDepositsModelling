{
 "cells": [
  {
   "cell_type": "markdown",
   "metadata": {},
   "source": [
    "# Cálculo de la Vida del Yacimiento"
   ]
  },
  {
   "cell_type": "markdown",
   "metadata": {},
   "source": [
    "## Regla de Taylor\n",
    "\n",
    "https://minewiki.engineering.queensu.ca/mediawiki/index.php/Estimation_of_the_potential_production_rate\n",
    "\n",
    "H. K. Taylor a mining engineer working with Placer Development Limited, proposed \"Taylor's Law\" at a mine valuation and feasibility study seminar in Spokane, Washington in 1976[1]. This rule was then published in 1977. Taylor realized the need for such a rule since the existing \"supposedly optimum mining rate have long been estimated by elementary economic theory, usually by present-value methods, but it has been observed that many such exercises show a bias towards high rates of working that are unachievable or undesirable in practice.\"[1] The previous methods had led to inexperienced companies proposing mines with wildly unrealistic rates. Taylor based the emperical rule off of nearly 30 mining projects, mostly young mines. Taylor's rule was tested in 1984 by McSpadden and Schaap, who checked it against 45 open-pit copper deposits.[2] McSpadden and Schaap found the rule needed to be tweaked slightly, however this finding was due to the narrow range of their mine types compared to Taylor's wide range of mine types. \n",
    "\n",
    "\\begin{equation}\n",
    "Mine Life = 0.2 * \\sqrt[4]{Tonneage}\n",
    "\\end{equation}\n",
    "\n",
    "\\begin{equation}\n",
    "Production (T/day) = \\frac{Tonneage } {MineLife * OperatingLife}\n",
    "\\end{equation}\n",
    "\n"
   ]
  },
  {
   "cell_type": "code",
   "execution_count": 38,
   "metadata": {},
   "outputs": [],
   "source": [
    "import matplotlib.pyplot as plt\n",
    "import ipywidgets as widgets"
   ]
  },
  {
   "cell_type": "code",
   "execution_count": 48,
   "metadata": {},
   "outputs": [],
   "source": [
    "def TaylorRuleofYacLife(t):\n",
    "    '''\n",
    "    Regla de Taylor para el cálculo de la vida del yacimiento\n",
    "    t = Tonneage\n",
    "    '''\n",
    "    return 0.2 * ( t ** 0.25 )\n",
    "\n",
    "def TaylorProductionRate(tonn, yacLife):\n",
    "    '''\n",
    "    Regla de Taylor para el cálculo de la tasa de producción\n",
    "    '''\n",
    "    return tonn / (yacLife * 350)"
   ]
  },
  {
   "cell_type": "code",
   "execution_count": 66,
   "metadata": {},
   "outputs": [
    {
     "data": {
      "image/png": "[encoded data removed]",
      "text/plain": [
       "<Figure size 576x288 with 1 Axes>"
      ]
     },
     "metadata": {
      "needs_background": "light"
     },
     "output_type": "display_data"
    }
   ],
   "source": [
    "# calculo de diagrama de Taylor en función del tonelaje\n",
    "\n",
    "tonnLst    = [ x * 10 ** 6 for x in range(0,20) ]  \n",
    "yacLifeLst = [ TaylorRuleofYacLife(x) for x in tonnLst]\n",
    "\n",
    "fig, ax = plt.subplots(figsize=(8,4))\n",
    "\n",
    "ax.grid(True)\n",
    "ax.set_title('Regla de Taylor de Vida de una Mina')\n",
    "ax.set_xlabel('10 x Millones de Toneladas')\n",
    "ax.set_ylabel('Vida de la Mina (años)')\n",
    "\n",
    "\n",
    "# ESTO EN SU MOMENTO HABRA QUE BORRARLO\n",
    "ax.plot(7830000, 10.58, 'ro')\n",
    "ax.annotate(\"Calcatreu v49-Nelson\", (7830000, 11))\n",
    "\n",
    "ax.plot(2010000, 7.53, 'ro')\n",
    "ax.annotate(\"Castro Sur\", (2010000,8))\n",
    "# /ESTO EN SU MOMENTO HABRA QUE BORRARLO\n",
    "\n",
    "ax.plot(tonnLst, yacLifeLst, label='Distribución teórica (PDF)', color='blue', linestyle='solid')\n",
    "ax.plot(7830000, 10.58);"
   ]
  },
  {
   "cell_type": "markdown",
   "metadata": {},
   "source": [
    "## Entrada de Datos"
   ]
  },
  {
   "cell_type": "code",
   "execution_count": 74,
   "metadata": {},
   "outputs": [
    {
     "data": {
      "application/vnd.jupyter.widget-view+json": {
       "model_id": "cab5f334693941378be9802500d0b522",
       "version_major": 2,
       "version_minor": 0
      },
      "text/plain": [
       "FloatText(value=0.0, description='Reservas MT:')"
      ]
     },
     "metadata": {},
     "output_type": "display_data"
    }
   ],
   "source": [
    "# Aqui habría que poner una tabla, así se facilita la entrada de datos\n",
    "\n",
    "wStockTonn = widgets.FloatText(\n",
    "    value = 0,\n",
    "    description='Reservas MT:',\n",
    "    disabled=False\n",
    ")\n",
    "\n",
    "display(wStockTonn)\n",
    "\n"
   ]
  },
  {
   "cell_type": "code",
   "execution_count": 76,
   "metadata": {},
   "outputs": [],
   "source": [
    "stockTonn = wStockTonn.value * 1000000"
   ]
  },
  {
   "cell_type": "markdown",
   "metadata": {},
   "source": [
    "## Resultados por Regla de Taylor"
   ]
  },
  {
   "cell_type": "code",
   "execution_count": 77,
   "metadata": {},
   "outputs": [
    {
     "name": "stdout",
     "output_type": "stream",
     "text": [
      "Vida del yacimiento (años): 7.53 años (según regla de Taylor)\n",
      "Tasa de Producción por día: 762.60 T/d\n"
     ]
    }
   ],
   "source": [
    "yacLife  = TaylorRuleofYacLife(stockTonn)\n",
    "\n",
    "prodRate = TaylorProductionRate(stockTonn, yacLife)\n",
    "\n",
    "print(f\"Vida del yacimiento (años): {yacLife:.2f} años (según regla de Taylor)\")\n",
    "print(f\"Tasa de Producción por día: {prodRate:.2f} T/d\")"
   ]
  },
  {
   "cell_type": "markdown",
   "metadata": {},
   "source": [
    "# Biblografía\n",
    "\n",
    "Taylor, H.K., 1986, Rates of working mines; a simple rule of thumb: Transactions of the Institution of Mining and Metallurgy, v. 95, section A, p. 203-204. "
   ]
  },
  {
   "cell_type": "code",
   "execution_count": null,
   "metadata": {},
   "outputs": [],
   "source": []
  }
 ],
 "metadata": {
  "kernelspec": {
   "display_name": "Python 3 (ipykernel)",
   "language": "python",
   "name": "python3"
  },
  "language_info": {
   "codemirror_mode": {
    "name": "ipython",
    "version": 3
   },
   "file_extension": ".py",
   "mimetype": "text/x-python",
   "name": "python",
   "nbconvert_exporter": "python",
   "pygments_lexer": "ipython3",
   "version": "3.9.7"
  }
 },
 "nbformat": 4,
 "nbformat_minor": 4
}
